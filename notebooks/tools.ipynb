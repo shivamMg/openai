{
 "cells": [
  {
   "cell_type": "markdown",
   "id": "55f3eedf",
   "metadata": {},
   "source": [
    "# openai tools\n",
    "\n",
    "- https://platform.openai.com/docs/guides/function-calling\n",
    "- https://cookbook.openai.com/examples/using_tool_required_for_customer_service"
   ]
  },
  {
   "cell_type": "code",
   "execution_count": 38,
   "id": "6350fae3",
   "metadata": {},
   "outputs": [],
   "source": [
    "from openai import AzureOpenAI\n",
    "import json\n",
    "\n",
    "with open(\"openai_api.json\") as f:\n",
    "    creds = json.load(f)\n",
    "\n",
    "client = AzureOpenAI(\n",
    "    # https://learn.microsoft.com/azure/ai-services/openai/reference#rest-api-versioning\n",
    "    api_version=\"2024-06-01\",\n",
    "    # https://learn.microsoft.com/azure/cognitive-services/openai/how-to/create-resource?pivots=web-portal#create-a-resource\n",
    "    azure_endpoint=creds[\"api_base\"],\n",
    "    api_key=creds[\"api_key\"],\n",
    ")"
   ]
  },
  {
   "cell_type": "code",
   "execution_count": 18,
   "id": "bb1c070a",
   "metadata": {},
   "outputs": [],
   "source": [
    "tools = [\n",
    "    {\n",
    "      \"type\": \"function\",\n",
    "      \"function\": {\n",
    "        \"name\": \"get_order_details\",\n",
    "        \"description\": \"Use this to get order details like date of purchase, status, cost, etc.\",\n",
    "        \"parameters\": {\n",
    "          \"type\": \"object\",\n",
    "          \"properties\": {\n",
    "            \"product_name\": {\n",
    "              \"type\": \"string\",\n",
    "              \"description\": \"Order's Product name.\"\n",
    "            }\n",
    "          },\n",
    "          \"required\": [\"product_name\"]\n",
    "        }\n",
    "      }\n",
    "    },\n",
    "    {\n",
    "      \"type\": \"function\",\n",
    "      \"function\": {\n",
    "        \"name\": \"list_orders\",\n",
    "        \"description\": \"Use this to get list of all orders with their product name, date of purchase, status.\",\n",
    "        \"result\": {\n",
    "            \"type\": \"object\",\n",
    "            \"properties\": {\n",
    "                \"product_name\": {\n",
    "                  \"type\": \"string\",\n",
    "                  \"description\": \"Product name.\"\n",
    "                },\n",
    "                \"purchase_date\": {\n",
    "                  \"type\": \"string\",\n",
    "                  \"description\": \"Purchase date.\"\n",
    "                },\n",
    "                \"status\": {\n",
    "                  \"type\": \"string\",\n",
    "                  \"description\": \"Current status.\"\n",
    "                },\n",
    "            },\n",
    "        }\n",
    "      }\n",
    "    }\n",
    "]"
   ]
  },
  {
   "cell_type": "code",
   "execution_count": 19,
   "id": "d027e6f1",
   "metadata": {},
   "outputs": [],
   "source": [
    "messages = [\n",
    "    {\n",
    "        \"role\": \"system\",\n",
    "        \"content\": \"You are an AI assistant for an ecommerce app helping customers with their queries about their orders.\",\n",
    "    },\n",
    "    {\n",
    "        \"role\": \"user\",\n",
    "        \"content\": \"where's my order for nike jordan shoes?\"\n",
    "    }\n",
    "]"
   ]
  },
  {
   "cell_type": "code",
   "execution_count": 48,
   "id": "5ca730a5",
   "metadata": {},
   "outputs": [],
   "source": [
    "completion = client.chat.completions.create(\n",
    "    model=\"4o-mini\",\n",
    "    temperature=0,\n",
    "    messages=messages,\n",
    "    tools=tools,\n",
    "    parallel_tool_calls=False,\n",
    "    tool_choice=\"required\",  # https://platform.openai.com/docs/guides/function-calling/configuring-function-calling-behavior-using-the-tool_choice-parameter\n",
    ")"
   ]
  },
  {
   "cell_type": "code",
   "execution_count": 49,
   "id": "5908a622",
   "metadata": {},
   "outputs": [
    {
     "name": "stdout",
     "output_type": "stream",
     "text": [
      "Response: {\n",
      "  \"id\": \"chatcmpl-AJd78ujp8gu5jgsZrYcaDBM2Zhj78\",\n",
      "  \"choices\": [\n",
      "    {\n",
      "      \"finish_reason\": \"stop\",\n",
      "      \"index\": 0,\n",
      "      \"logprobs\": null,\n",
      "      \"message\": {\n",
      "        \"content\": null,\n",
      "        \"role\": \"assistant\",\n",
      "        \"tool_calls\": [\n",
      "          {\n",
      "            \"id\": \"call_B4x4WeimboMHvmmtkvIdZSHt\",\n",
      "            \"function\": {\n",
      "              \"arguments\": \"{\\\"product_name\\\":\\\"nike jordan shoes\\\"}\",\n",
      "              \"name\": \"get_order_details\"\n",
      "            },\n",
      "            \"type\": \"function\"\n",
      "          }\n",
      "        ]\n",
      "      },\n",
      "      \"content_filter_results\": {}\n",
      "    }\n",
      "  ],\n",
      "  \"created\": 1729241950,\n",
      "  \"model\": \"gpt-4o-mini\",\n",
      "  \"object\": \"chat.completion\",\n",
      "  \"system_fingerprint\": \"fp_878413d04d\",\n",
      "  \"usage\": {\n",
      "    \"completion_tokens\": 16,\n",
      "    \"prompt_tokens\": 118,\n",
      "    \"total_tokens\": 134\n",
      "  },\n",
      "  \"prompt_filter_results\": [\n",
      "    {\n",
      "      \"prompt_index\": 0,\n",
      "      \"content_filter_results\": {\n",
      "        \"hate\": {\n",
      "          \"filtered\": false,\n",
      "          \"severity\": \"safe\"\n",
      "        },\n",
      "        \"jailbreak\": {\n",
      "          \"filtered\": false,\n",
      "          \"detected\": false\n",
      "        },\n",
      "        \"self_harm\": {\n",
      "          \"filtered\": false,\n",
      "          \"severity\": \"safe\"\n",
      "        },\n",
      "        \"sexual\": {\n",
      "          \"filtered\": false,\n",
      "          \"severity\": \"safe\"\n",
      "        },\n",
      "        \"violence\": {\n",
      "          \"filtered\": false,\n",
      "          \"severity\": \"safe\"\n",
      "        }\n",
      "      }\n",
      "    }\n",
      "  ]\n",
      "}\n"
     ]
    }
   ],
   "source": [
    "print(\"Response:\", completion.to_json())"
   ]
  },
  {
   "cell_type": "code",
   "execution_count": 55,
   "id": "e12332e0",
   "metadata": {},
   "outputs": [],
   "source": [
    "choice = completion.choices[0]"
   ]
  },
  {
   "cell_type": "code",
   "execution_count": 51,
   "id": "37169836",
   "metadata": {},
   "outputs": [],
   "source": [
    "messages2 = messages + [\n",
    "    choice.message.to_dict(),\n",
    "    {\n",
    "        \"role\": \"tool\",\n",
    "        \"content\": json.dumps({\n",
    "            \"product_name\": \"Nike Jordan Shoes\",\n",
    "            \"purchase_date\": \"18 Oct 2024\",\n",
    "            \"status\": \"Out for delivery\", \n",
    "        }),\n",
    "        \"tool_call_id\": choice.message.tool_calls[0].id\n",
    "    },\n",
    "]"
   ]
  },
  {
   "cell_type": "code",
   "execution_count": 52,
   "id": "6d1ea904",
   "metadata": {},
   "outputs": [
    {
     "data": {
      "text/plain": [
       "[{'role': 'system',\n",
       "  'content': 'You are an AI assistant for an ecommerce app helping customers with their queries about their orders.'},\n",
       " {'role': 'user', 'content': \"where's my order for nike jordan shoes?\"},\n",
       " {'content': None,\n",
       "  'role': 'assistant',\n",
       "  'tool_calls': [{'id': 'call_B4x4WeimboMHvmmtkvIdZSHt',\n",
       "    'function': {'arguments': '{\"product_name\":\"nike jordan shoes\"}',\n",
       "     'name': 'get_order_details'},\n",
       "    'type': 'function'}]},\n",
       " {'role': 'tool',\n",
       "  'content': '{\"product_name\": \"Nike Jordan Shoes\", \"purchase_date\": \"18 Oct 2024\", \"status\": \"Out for delivery\"}',\n",
       "  'tool_call_id': 'call_B4x4WeimboMHvmmtkvIdZSHt'}]"
      ]
     },
     "execution_count": 52,
     "metadata": {},
     "output_type": "execute_result"
    }
   ],
   "source": [
    "messages2"
   ]
  },
  {
   "cell_type": "code",
   "execution_count": 53,
   "id": "f545b510",
   "metadata": {},
   "outputs": [],
   "source": [
    "completion2 = client.chat.completions.create(\n",
    "    model=\"4o-mini\",\n",
    "    temperature=0,\n",
    "    messages=messages2,\n",
    "    tools=tools,\n",
    ")"
   ]
  },
  {
   "cell_type": "code",
   "execution_count": 54,
   "id": "4ac8106c",
   "metadata": {},
   "outputs": [
    {
     "name": "stdout",
     "output_type": "stream",
     "text": [
      "Response: {\n",
      "  \"id\": \"chatcmpl-AJd80WYDG26lWDVC6BQnyuwMsoG20\",\n",
      "  \"choices\": [\n",
      "    {\n",
      "      \"finish_reason\": \"stop\",\n",
      "      \"index\": 0,\n",
      "      \"logprobs\": null,\n",
      "      \"message\": {\n",
      "        \"content\": \"Your order for the Nike Jordan Shoes was purchased on October 18, 2024, and is currently \\\"Out for delivery.\\\"\",\n",
      "        \"role\": \"assistant\"\n",
      "      },\n",
      "      \"content_filter_results\": {\n",
      "        \"hate\": {\n",
      "          \"filtered\": false,\n",
      "          \"severity\": \"safe\"\n",
      "        },\n",
      "        \"self_harm\": {\n",
      "          \"filtered\": false,\n",
      "          \"severity\": \"safe\"\n",
      "        },\n",
      "        \"sexual\": {\n",
      "          \"filtered\": false,\n",
      "          \"severity\": \"safe\"\n",
      "        },\n",
      "        \"violence\": {\n",
      "          \"filtered\": false,\n",
      "          \"severity\": \"safe\"\n",
      "        }\n",
      "      }\n",
      "    }\n",
      "  ],\n",
      "  \"created\": 1729242004,\n",
      "  \"model\": \"gpt-4o-mini\",\n",
      "  \"object\": \"chat.completion\",\n",
      "  \"system_fingerprint\": \"fp_878413d04d\",\n",
      "  \"usage\": {\n",
      "    \"completion_tokens\": 27,\n",
      "    \"prompt_tokens\": 171,\n",
      "    \"total_tokens\": 198\n",
      "  },\n",
      "  \"prompt_filter_results\": [\n",
      "    {\n",
      "      \"prompt_index\": 0,\n",
      "      \"content_filter_results\": {\n",
      "        \"hate\": {\n",
      "          \"filtered\": false,\n",
      "          \"severity\": \"safe\"\n",
      "        },\n",
      "        \"jailbreak\": {\n",
      "          \"filtered\": false,\n",
      "          \"detected\": false\n",
      "        },\n",
      "        \"self_harm\": {\n",
      "          \"filtered\": false,\n",
      "          \"severity\": \"safe\"\n",
      "        },\n",
      "        \"sexual\": {\n",
      "          \"filtered\": false,\n",
      "          \"severity\": \"safe\"\n",
      "        },\n",
      "        \"violence\": {\n",
      "          \"filtered\": false,\n",
      "          \"severity\": \"safe\"\n",
      "        }\n",
      "      }\n",
      "    }\n",
      "  ]\n",
      "}\n"
     ]
    }
   ],
   "source": [
    "print(\"Response:\", completion2.to_json())"
   ]
  },
  {
   "cell_type": "code",
   "execution_count": null,
   "id": "d79de0fc",
   "metadata": {},
   "outputs": [],
   "source": []
  }
 ],
 "metadata": {
  "kernelspec": {
   "display_name": "baker",
   "language": "python",
   "name": "baker"
  },
  "language_info": {
   "codemirror_mode": {
    "name": "ipython",
    "version": 3
   },
   "file_extension": ".py",
   "mimetype": "text/x-python",
   "name": "python",
   "nbconvert_exporter": "python",
   "pygments_lexer": "ipython3",
   "version": "3.10.12"
  }
 },
 "nbformat": 4,
 "nbformat_minor": 5
}
