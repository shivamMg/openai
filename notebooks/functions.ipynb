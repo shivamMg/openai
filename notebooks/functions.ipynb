{
 "cells": [
  {
   "cell_type": "markdown",
   "id": "ab347597",
   "metadata": {},
   "source": [
    "# openai functions\n",
    "\n",
    "Reference: https://github.com/Azure-Samples/openai/blob/main/Basic_Samples/Functions/working_with_functions.ipynb"
   ]
  },
  {
   "cell_type": "code",
   "execution_count": 1,
   "id": "e95fa4cc",
   "metadata": {},
   "outputs": [],
   "source": [
    "import openai\n",
    "import json\n",
    "\n",
    "with open(\"openai_api.json\") as f:\n",
    "    creds = json.load(f)\n",
    "\n",
    "openai.api_version = creds[\"api_version\"]\n",
    "openai.api_base = creds[\"api_base\"]\n",
    "openai.api_type = creds[\"api_type\"]\n",
    "openai.api_key = creds[\"api_key\"]"
   ]
  },
  {
   "cell_type": "markdown",
   "id": "fa7c8dd2",
   "metadata": {},
   "source": [
    "## Natural language query to search filters (DSL)"
   ]
  },
  {
   "cell_type": "code",
   "execution_count": 20,
   "id": "287c35e8",
   "metadata": {},
   "outputs": [],
   "source": [
    "system_prompt = \"\"\"You are an AI assistant for an online shoe store that helps users find appropriate shoes.\n",
    "You convert their queries into appropriate filters for the search function.\n",
    "\"\"\"\n",
    "\n",
    "functions = [\n",
    "    {\n",
    "        \"name\": \"search\",\n",
    "        \"description\": \"This function calls Search API of the shoe store to find top matches for user's description.\",\n",
    "        \"parameters\": {\n",
    "            \"type\": \"object\",\n",
    "            \"properties\": {\n",
    "                \"shoe_types\": {\n",
    "                    \"type\": \"array\",\n",
    "                    \"items\": {\n",
    "                        \"type\": \"string\",\n",
    "                        \"enum\": [\"running\", \"jogging\", \"trekking\", \"sports\", \"heels\"]\n",
    "                    },\n",
    "                    \"description\": \"The types of shoes to search for.\"\n",
    "                },\n",
    "                \"sizes\": {\n",
    "                    \"type\": \"array\",\n",
    "                    \"items\": {\n",
    "                        \"type\": \"string\",\n",
    "                        \"enum\": [\"uk4\", \"uk5\", \"uk6\", \"uk7\", \"uk8\", \"uk9\"]\n",
    "                    },\n",
    "                    \"description\": \"The sizes of shoe to search for. Small refers to uk4 and uk5. Medium refers to uk6 and uk7. Large refers to uk8 and uk9.\"\n",
    "                },\n",
    "                \"brands\": {\n",
    "                     \"type\": \"array\",\n",
    "                    \"items\": {\n",
    "                        \"type\": \"string\",\n",
    "                        \"enum\": [\"reebok\", \"puma\", \"adidas\", \"clarks london\"]\n",
    "                    },\n",
    "                    \"description\": \"The brands of shoes to search for.\"\n",
    "                },\n",
    "                \"colors\": {\n",
    "                     \"type\": \"array\",\n",
    "                    \"items\": {\n",
    "                        \"type\": \"string\",\n",
    "                        \"enum\": [\"red\", \"green\", \"blue\"]\n",
    "                    },\n",
    "                    \"description\": \"The colors of shoes to search for.\"\n",
    "                },\n",
    "            }\n",
    "        },\n",
    "        \"result\": {\n",
    "            \"type\": \"array\",\n",
    "            \"items\": {\n",
    "                \"type\": \"string\"\n",
    "            }\n",
    "        }\n",
    "    }\n",
    "]"
   ]
  },
  {
   "cell_type": "code",
   "execution_count": 27,
   "id": "bcbcc5be",
   "metadata": {},
   "outputs": [],
   "source": [
    "def get_search_filters(chat_history):\n",
    "    response = openai.ChatCompletion.create(\n",
    "        model=\"gpt-4\",\n",
    "        engine=\"gpt-4\",\n",
    "        messages=[\n",
    "            {\"role\": \"system\", \"content\": system_prompt},\n",
    "            *chat_history,\n",
    "        ],\n",
    "        temperature=0,\n",
    "        functions=functions,\n",
    "    )\n",
    "    response_message = response.choices[0].message\n",
    "    assert \"function_call\" in response_message\n",
    "    search_filters = json.loads(response_message.function_call.arguments)\n",
    "    \n",
    "    chat_history.append({\n",
    "        \"role\": response_message[\"role\"],\n",
    "        \"function_call\": {\n",
    "            \"name\": response_message[\"function_call\"][\"name\"],\n",
    "            \"arguments\": response_message[\"function_call\"][\"arguments\"],\n",
    "        },\n",
    "        \"content\": None\n",
    "    })\n",
    "    chat_history.append({\n",
    "        \"role\": \"function\",\n",
    "        \"name\": response_message[\"function_call\"][\"name\"],\n",
    "        \"content\": \"List of 10 shoes with that description\",\n",
    "    })\n",
    "    return search_filters, chat_history"
   ]
  },
  {
   "cell_type": "code",
   "execution_count": 30,
   "id": "9f968a32",
   "metadata": {},
   "outputs": [
    {
     "name": "stdout",
     "output_type": "stream",
     "text": [
      "Query: blue running shoes for small feet\n",
      "Search Filters: {'shoe_types': ['running'], 'sizes': ['uk4', 'uk5'], 'colors': ['blue']}\n",
      "\n",
      "Query: show nike and puma only\n",
      "Search Filters: {'shoe_types': ['running'], 'sizes': ['uk4', 'uk5'], 'colors': ['blue'], 'brands': ['nike', 'puma']}\n",
      "\n",
      "Query: include red\n",
      "Search Filters: {'shoe_types': ['running'], 'sizes': ['uk4', 'uk5'], 'colors': ['blue', 'red'], 'brands': ['nike', 'puma']}\n",
      "\n",
      "Query: show sports shoes instead of running\n",
      "Search Filters: {'shoe_types': ['sports'], 'sizes': ['uk4', 'uk5'], 'colors': ['blue', 'red'], 'brands': ['nike', 'puma']}\n",
      "\n"
     ]
    }
   ],
   "source": [
    "user_queries = [\n",
    "    \"blue running shoes for small feet\",\n",
    "    \"show nike and puma only\",\n",
    "    \"include red\",\n",
    "    \"show sports shoes instead of running\"\n",
    "]\n",
    "\n",
    "chat_history = []\n",
    "for query in user_queries:\n",
    "    chat_history.append({\"role\": \"user\", \"content\": query})\n",
    "    search_filters, chat_history = get_search_filters(chat_history)\n",
    "    print(f\"Query: {query}\")\n",
    "    print(f\"Search Filters: {search_filters}\")\n",
    "    print()"
   ]
  },
  {
   "cell_type": "code",
   "execution_count": null,
   "id": "0083c3e3",
   "metadata": {},
   "outputs": [],
   "source": []
  },
  {
   "cell_type": "markdown",
   "id": "d7940516",
   "metadata": {},
   "source": [
    "## Chatbot performing API actions\n",
    "\n",
    "Sample chatbot created using openai functions. Chatbot works for an ecommerce app and helps customers solve order issues by performing actions by calling APIs. It also does retrieval.\n",
    "\n",
    "\n",
    "### Scenario 2\n",
    "\n",
    "- My delivered order has defects\n",
    "- I would like an exchange/return\n",
    "\n",
    "### Scenario 3\n",
    "\n",
    "- (order_id in chat history)\n",
    "- I need order invoice\n",
    "- Here's how to get order invoice... (retrieval from docs)"
   ]
  },
  {
   "cell_type": "code",
   "execution_count": 143,
   "id": "56b17829",
   "metadata": {},
   "outputs": [],
   "source": [
    "from importlib import reload\n",
    "import functions_code\n",
    "reload(functions_code)\n",
    "\n",
    "order_api = functions_code.OrderAPI()\n",
    "functions = order_api.get_functions()"
   ]
  },
  {
   "cell_type": "code",
   "execution_count": 138,
   "id": "dad3ec1b",
   "metadata": {},
   "outputs": [],
   "source": [
    "system_prompt = \"\"\"You are an AI assistant for an ecommerce app helping customers with their queries about their orders.\n",
    "If customer's query requires an order id but none is present in messages then list orders and ask them to select their order.\n",
    "\"\"\""
   ]
  },
  {
   "cell_type": "code",
   "execution_count": 148,
   "id": "d9e434c2",
   "metadata": {},
   "outputs": [],
   "source": [
    "def simulate_conversation(chat_history):\n",
    "    response = openai.ChatCompletion.create(\n",
    "        model=\"gpt-4\",\n",
    "        engine=\"gpt-4\",\n",
    "        messages=[\n",
    "            {\"role\": \"system\", \"content\": system_prompt},\n",
    "            *chat_history,\n",
    "        ],\n",
    "        temperature=0,\n",
    "        functions=functions,\n",
    "    )\n",
    "    response_message = response.choices[0].message\n",
    "    if \"function_call\" in response_message:\n",
    "        func = response_message[\"function_call\"][\"name\"]\n",
    "        ar = json.loads(response_message[\"function_call\"][\"arguments\"])\n",
    "    \n",
    "    chat_history.append({\n",
    "        \"role\": response_message[\"role\"],\n",
    "        \"function_call\": {\n",
    "            \"name\": response_message[\"function_call\"][\"name\"],\n",
    "            \"arguments\": response_message[\"function_call\"][\"arguments\"],\n",
    "        },\n",
    "        \"content\": None\n",
    "    })\n",
    "    chat_history.append({\n",
    "        \"role\": \"function\",\n",
    "        \"name\": response_message[\"function_call\"][\"name\"],\n",
    "        \"content\": \"List of 10 shoes with that description\",\n",
    "    })\n",
    "    return chat_history"
   ]
  },
  {
   "cell_type": "markdown",
   "id": "ae1ab304",
   "metadata": {},
   "source": [
    "### Scenario 1\n",
    "\n",
    "```\n",
    "Customer: Where is my order? (without order_id)\n",
    "Bot: Please let me know which order: (list of orders)\n",
    "Customer: nike shoes one\n",
    "Bot: Your order is at Indiranagar\n",
    "Customer: Cancel my order\n",
    "Bot: Are you sure you want to cancel Nike shoes order?\n",
    "Customer: Yes\n",
    "Bot: Your order of Nike shoes has been canceled.\n",
    "```"
   ]
  },
  {
   "cell_type": "code",
   "execution_count": 150,
   "id": "05173b54",
   "metadata": {},
   "outputs": [
    {
     "name": "stdout",
     "output_type": "stream",
     "text": [
      "Query: where is my order?\n",
      "\n"
     ]
    }
   ],
   "source": [
    "user_queries = [\n",
    "    \"where is my order?\",\n",
    "]\n",
    "\n",
    "chat_history = []\n",
    "for query in user_queries:\n",
    "    chat_history.append({\"role\": \"user\", \"content\": query})\n",
    "    chat_history = simulate_conversation(chat_history)\n",
    "    print(f\"Query: {query}\")\n",
    "    print()\n"
   ]
  },
  {
   "cell_type": "code",
   "execution_count": 5,
   "id": "ba8cc0c4",
   "metadata": {},
   "outputs": [],
   "source": []
  },
  {
   "cell_type": "code",
   "execution_count": 6,
   "id": "1b5698e1",
   "metadata": {},
   "outputs": [],
   "source": []
  },
  {
   "cell_type": "code",
   "execution_count": 2,
   "id": "7e4752f1",
   "metadata": {},
   "outputs": [
    {
     "data": {
      "text/plain": [
       "\"\\nYou are a sophisticated AI assistant, a specialist in user intent detection and interpretation.\\nYour task is to perceive and respond to the user's needs, even when they're expressed in an indirect or direct manner.\\nYou excel in recognizing subtle cues: for example, if a user states they are 'hungry', you should assume they are seeking nearby dining options such as a restaurant or a cafe.\\nIf they indicate feeling 'tired', 'weary', or mention a long journey, interpret this as a request for accommodation options like hotels or guest houses.\\nHowever, remember to navigate the fine line of interpretation and assumption: if a user's intent is unclear or can be interpreted in multiple ways, do not hesitate to politely ask for additional clarification.\\nMake sure to tailor your responses to the user based on their preferences and past experiences which can be found here {customer_profile_str}\\n\""
      ]
     },
     "execution_count": 2,
     "metadata": {},
     "output_type": "execute_result"
    }
   ],
   "source": [
    " \"\"\"\n",
    "You are a sophisticated AI assistant, a specialist in user intent detection and interpretation.\n",
    "Your task is to perceive and respond to the user's needs, even when they're expressed in an indirect or direct manner.\n",
    "You excel in recognizing subtle cues: for example, if a user states they are 'hungry', you should assume they are seeking nearby dining options such as a restaurant or a cafe.\n",
    "If they indicate feeling 'tired', 'weary', or mention a long journey, interpret this as a request for accommodation options like hotels or guest houses.\n",
    "However, remember to navigate the fine line of interpretation and assumption: if a user's intent is unclear or can be interpreted in multiple ways, do not hesitate to politely ask for additional clarification.\n",
    "Make sure to tailor your responses to the user based on their preferences and past experiences which can be found here {customer_profile_str}\n",
    "\"\"\""
   ]
  },
  {
   "cell_type": "code",
   "execution_count": 3,
   "id": "7ba53f26",
   "metadata": {},
   "outputs": [
    {
     "data": {
      "text/plain": [
       "{'name': 'call_google_places_api',\n",
       " 'description': 'This function calls the Google Places API to find the top places of a specified type near a specific location. It can be used when a user expresses a need (e.g., feeling hungry or tired) or wants to find a certain type of place (e.g., restaurant or hotel).',\n",
       " 'parameters': {'type': 'object',\n",
       "  'properties': {'place_type': {'type': 'string',\n",
       "    'description': 'The type of place to search for.'}}},\n",
       " 'result': {'type': 'array', 'items': {'type': 'string'}}}"
      ]
     },
     "execution_count": 3,
     "metadata": {},
     "output_type": "execute_result"
    }
   ],
   "source": [
    "        {\n",
    "            \"name\": \"call_google_places_api\",\n",
    "            \"description\": \"This function calls the Google Places API to find the top places of a specified type near a specific location. It can be used when a user expresses a need (e.g., feeling hungry or tired) or wants to find a certain type of place (e.g., restaurant or hotel).\",\n",
    "            \"parameters\": {\n",
    "                \"type\": \"object\",\n",
    "                \"properties\": {\n",
    "                    \"place_type\": {\n",
    "                        \"type\": \"string\",\n",
    "                        \"description\": \"The type of place to search for.\"\n",
    "                    }\n",
    "                }\n",
    "            },\n",
    "            \"result\": {\n",
    "                \"type\": \"array\",\n",
    "                \"items\": {\n",
    "                    \"type\": \"string\"\n",
    "                }\n",
    "            }\n",
    "        }"
   ]
  },
  {
   "cell_type": "code",
   "execution_count": null,
   "id": "007af6c3",
   "metadata": {},
   "outputs": [],
   "source": []
  }
 ],
 "metadata": {
  "kernelspec": {
   "display_name": "Python (openai)",
   "language": "python",
   "name": "openai"
  },
  "language_info": {
   "codemirror_mode": {
    "name": "ipython",
    "version": 3
   },
   "file_extension": ".py",
   "mimetype": "text/x-python",
   "name": "python",
   "nbconvert_exporter": "python",
   "pygments_lexer": "ipython3",
   "version": "3.10.10"
  }
 },
 "nbformat": 4,
 "nbformat_minor": 5
}
