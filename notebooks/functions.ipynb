{
 "cells": [
  {
   "cell_type": "code",
   "execution_count": 21,
   "id": "e95fa4cc",
   "metadata": {},
   "outputs": [],
   "source": [
    "import openai\n",
    "import json\n",
    "\n",
    "with open(\"openai_api.json\") as f:\n",
    "    creds = json.load(f)\n",
    "\n",
    "openai.api_version = creds[\"api_version\"]\n",
    "openai.api_base = creds[\"api_base\"]\n",
    "openai.api_type = creds[\"api_type\"]\n",
    "openai.api_key = creds[\"api_key\"]"
   ]
  },
  {
   "cell_type": "code",
   "execution_count": 22,
   "id": "d24671a9",
   "metadata": {},
   "outputs": [
    {
     "data": {
      "text/plain": [
       "\"\\nYou are a sophisticated AI assistant, a specialist in user intent detection and interpretation.\\nYour task is to perceive and respond to the user's needs, even when they're expressed in an indirect or direct manner.\\nYou excel in recognizing subtle cues: for example, if a user states they are 'hungry', you should assume they are seeking nearby dining options such as a restaurant or a cafe.\\nIf they indicate feeling 'tired', 'weary', or mention a long journey, interpret this as a request for accommodation options like hotels or guest houses.\\nHowever, remember to navigate the fine line of interpretation and assumption: if a user's intent is unclear or can be interpreted in multiple ways, do not hesitate to politely ask for additional clarification.\\nMake sure to tailor your responses to the user based on their preferences and past experiences which can be found here {customer_profile_str}\\n\""
      ]
     },
     "execution_count": 22,
     "metadata": {},
     "output_type": "execute_result"
    }
   ],
   "source": [
    "\"\"\"\n",
    "You are a sophisticated AI assistant, a specialist in user intent detection and interpretation.\n",
    "Your task is to perceive and respond to the user's needs, even when they're expressed in an indirect or direct manner.\n",
    "You excel in recognizing subtle cues: for example, if a user states they are 'hungry', you should assume they are seeking nearby dining options such as a restaurant or a cafe.\n",
    "If they indicate feeling 'tired', 'weary', or mention a long journey, interpret this as a request for accommodation options like hotels or guest houses.\n",
    "However, remember to navigate the fine line of interpretation and assumption: if a user's intent is unclear or can be interpreted in multiple ways, do not hesitate to politely ask for additional clarification.\n",
    "Make sure to tailor your responses to the user based on their preferences and past experiences which can be found here {customer_profile_str}\n",
    "\"\"\""
   ]
  },
  {
   "cell_type": "code",
   "execution_count": 23,
   "id": "57178baf",
   "metadata": {},
   "outputs": [
    {
     "data": {
      "text/plain": [
       "{'name': 'call_google_places_api',\n",
       " 'description': 'This function calls the Google Places API to find the top places of a specified type near a specific location. It can be used when a user expresses a need (e.g., feeling hungry or tired) or wants to find a certain type of place (e.g., restaurant or hotel).',\n",
       " 'parameters': {'type': 'object',\n",
       "  'properties': {'place_type': {'type': 'string',\n",
       "    'description': 'The type of place to search for.'}}},\n",
       " 'result': {'type': 'array', 'items': {'type': 'string'}}}"
      ]
     },
     "execution_count": 23,
     "metadata": {},
     "output_type": "execute_result"
    }
   ],
   "source": [
    "        {\n",
    "            \"name\": \"call_google_places_api\",\n",
    "            \"description\": \"This function calls the Google Places API to find the top places of a specified type near a specific location. It can be used when a user expresses a need (e.g., feeling hungry or tired) or wants to find a certain type of place (e.g., restaurant or hotel).\",\n",
    "            \"parameters\": {\n",
    "                \"type\": \"object\",\n",
    "                \"properties\": {\n",
    "                    \"place_type\": {\n",
    "                        \"type\": \"string\",\n",
    "                        \"description\": \"The type of place to search for.\"\n",
    "                    }\n",
    "                }\n",
    "            },\n",
    "            \"result\": {\n",
    "                \"type\": \"array\",\n",
    "                \"items\": {\n",
    "                    \"type\": \"string\"\n",
    "                }\n",
    "            }\n",
    "        }"
   ]
  },
  {
   "cell_type": "code",
   "execution_count": 24,
   "id": "603b353f",
   "metadata": {},
   "outputs": [],
   "source": [
    "functions = [\n",
    "    {\n",
    "        \"name\": \"track_order\",\n",
    "        \"description\": \"Track the progress of the order.\",\n",
    "        \"parameters\": {\n",
    "            \"type\": \"object\",\n",
    "            \"properties\": {\n",
    "                \"order_id\": {\n",
    "                    \"type\": \"string\",\n",
    "                    \"description\": \"The Order ID.\"\n",
    "                }\n",
    "            }\n",
    "        },\n",
    "        \"result\": {\n",
    "            \"type\": \"object\",\n",
    "            \"properties\": {\n",
    "                \"location\": {\n",
    "                    \"type\": \"string\",\n",
    "                    \"description\": \"Current location of the order.\"\n",
    "                },\n",
    "                \"eta\": {\n",
    "                    \"type\": \"string\",\n",
    "                    \"description\": \"Estimated time of arrival.\"\n",
    "                }\n",
    "            }\n",
    "        }\n",
    "    }\n",
    "]"
   ]
  },
  {
   "cell_type": "code",
   "execution_count": 26,
   "id": "d9e434c2",
   "metadata": {},
   "outputs": [],
   "source": [
    "order_id = \"order_1234\"\n",
    "user_input = \"where is my order?\"\n",
    "\n",
    "response = openai.ChatCompletion.create(\n",
    "    model=\"gpt-35-turbo\",\n",
    "    engine=\"gpt-35-turbo\",\n",
    "    messages=[\n",
    "        {\n",
    "            \"role\": \"system\",\n",
    "            \"content\": f\"You are an AI assistant helping customers with their queries for a food delivery app.\"\n",
    "        },\n",
    "        {\"role\": \"user\", \"content\": user_input}\n",
    "    ],\n",
    "    temperature=0,\n",
    "    functions=functions,\n",
    ")"
   ]
  },
  {
   "cell_type": "code",
   "execution_count": 4,
   "id": "05173b54",
   "metadata": {},
   "outputs": [],
   "source": []
  },
  {
   "cell_type": "code",
   "execution_count": 5,
   "id": "ba8cc0c4",
   "metadata": {},
   "outputs": [],
   "source": []
  },
  {
   "cell_type": "code",
   "execution_count": 6,
   "id": "1b5698e1",
   "metadata": {},
   "outputs": [],
   "source": []
  },
  {
   "cell_type": "code",
   "execution_count": null,
   "id": "7e4752f1",
   "metadata": {},
   "outputs": [],
   "source": [
    " "
   ]
  }
 ],
 "metadata": {
  "kernelspec": {
   "display_name": "Python (openai)",
   "language": "python",
   "name": "openai"
  },
  "language_info": {
   "codemirror_mode": {
    "name": "ipython",
    "version": 3
   },
   "file_extension": ".py",
   "mimetype": "text/x-python",
   "name": "python",
   "nbconvert_exporter": "python",
   "pygments_lexer": "ipython3",
   "version": "3.10.10"
  }
 },
 "nbformat": 4,
 "nbformat_minor": 5
}
