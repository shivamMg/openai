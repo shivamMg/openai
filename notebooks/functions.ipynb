{
 "cells": [
  {
   "cell_type": "markdown",
   "id": "ab347597",
   "metadata": {},
   "source": [
    "# openai functions\n",
    "\n",
    "References:\n",
    "\n",
    "- https://github.com/Azure-Samples/openai/blob/main/Basic_Samples/Functions/working_with_functions.ipynb\n",
    "- https://github.com/openai/openai-cookbook/blob/main/examples/How_to_call_functions_for_knowledge_retrieval.ipynb"
   ]
  },
  {
   "cell_type": "code",
   "execution_count": 72,
   "id": "e95fa4cc",
   "metadata": {},
   "outputs": [],
   "source": [
    "import openai\n",
    "import json\n",
    "\n",
    "with open(\"openai_api.json\") as f:\n",
    "    creds = json.load(f)\n",
    "\n",
    "openai.api_version = creds[\"api_version\"]\n",
    "openai.api_base = creds[\"api_base\"]\n",
    "openai.api_type = creds[\"api_type\"]\n",
    "openai.api_key = creds[\"api_key\"]"
   ]
  },
  {
   "cell_type": "markdown",
   "id": "fa7c8dd2",
   "metadata": {},
   "source": [
    "## Natural language to structured DSL\n",
    "\n",
    "Following example shows how to convert natural language queries to a structured query using OpenAI functions.\n",
    "As an example we use natural language queries to search for shoes on an online store. OpenAI functions converts these queries into search filters that can be used to call a search API and show results to the user."
   ]
  },
  {
   "cell_type": "code",
   "execution_count": 20,
   "id": "287c35e8",
   "metadata": {},
   "outputs": [],
   "source": [
    "system_prompt = \"\"\"You are an AI assistant for an online shoe store that helps users find appropriate shoes.\n",
    "You convert their queries into appropriate filters for the search function.\n",
    "\"\"\"\n",
    "\n",
    "functions = [\n",
    "    {\n",
    "        \"name\": \"search\",\n",
    "        \"description\": \"This function calls Search API of the shoe store to find top matches for user's description.\",\n",
    "        \"parameters\": {\n",
    "            \"type\": \"object\",\n",
    "            \"properties\": {\n",
    "                \"shoe_types\": {\n",
    "                    \"type\": \"array\",\n",
    "                    \"items\": {\n",
    "                        \"type\": \"string\",\n",
    "                        \"enum\": [\"running\", \"jogging\", \"trekking\", \"sports\", \"heels\"]\n",
    "                    },\n",
    "                    \"description\": \"The types of shoes to search for.\"\n",
    "                },\n",
    "                \"sizes\": {\n",
    "                    \"type\": \"array\",\n",
    "                    \"items\": {\n",
    "                        \"type\": \"string\",\n",
    "                        \"enum\": [\"uk4\", \"uk5\", \"uk6\", \"uk7\", \"uk8\", \"uk9\"]\n",
    "                    },\n",
    "                    \"description\": \"The sizes of shoe to search for. Small refers to uk4 and uk5. Medium refers to uk6 and uk7. Large refers to uk8 and uk9.\"\n",
    "                },\n",
    "                \"brands\": {\n",
    "                     \"type\": \"array\",\n",
    "                    \"items\": {\n",
    "                        \"type\": \"string\",\n",
    "                        \"enum\": [\"reebok\", \"puma\", \"adidas\", \"clarks london\"]\n",
    "                    },\n",
    "                    \"description\": \"The brands of shoes to search for.\"\n",
    "                },\n",
    "                \"colors\": {\n",
    "                     \"type\": \"array\",\n",
    "                    \"items\": {\n",
    "                        \"type\": \"string\",\n",
    "                        \"enum\": [\"red\", \"green\", \"blue\"]\n",
    "                    },\n",
    "                    \"description\": \"The colors of shoes to search for.\"\n",
    "                },\n",
    "            }\n",
    "        },\n",
    "        \"result\": {\n",
    "            \"type\": \"array\",\n",
    "            \"items\": {\n",
    "                \"type\": \"string\"\n",
    "            }\n",
    "        }\n",
    "    }\n",
    "]"
   ]
  },
  {
   "cell_type": "code",
   "execution_count": 27,
   "id": "bcbcc5be",
   "metadata": {},
   "outputs": [],
   "source": [
    "def get_search_filters(chat_history):\n",
    "    response = openai.ChatCompletion.create(\n",
    "        model=\"gpt-4\",\n",
    "        engine=\"gpt-4\",\n",
    "        messages=[\n",
    "            {\"role\": \"system\", \"content\": system_prompt},\n",
    "            *chat_history,\n",
    "        ],\n",
    "        temperature=0,\n",
    "        functions=functions,\n",
    "    )\n",
    "    response_message = response.choices[0].message\n",
    "    assert \"function_call\" in response_message\n",
    "    search_filters = json.loads(response_message.function_call.arguments)\n",
    "    \n",
    "    chat_history.append({\n",
    "        \"role\": response_message[\"role\"],\n",
    "        \"function_call\": {\n",
    "            \"name\": response_message[\"function_call\"][\"name\"],\n",
    "            \"arguments\": response_message[\"function_call\"][\"arguments\"],\n",
    "        },\n",
    "        \"content\": None\n",
    "    })\n",
    "    chat_history.append({\n",
    "        \"role\": \"function\",\n",
    "        \"name\": response_message[\"function_call\"][\"name\"],\n",
    "        \"content\": \"List of 10 shoes with that description\",\n",
    "    })\n",
    "    return search_filters, chat_history"
   ]
  },
  {
   "cell_type": "code",
   "execution_count": 30,
   "id": "9f968a32",
   "metadata": {},
   "outputs": [
    {
     "name": "stdout",
     "output_type": "stream",
     "text": [
      "Query: blue running shoes for small feet\n",
      "Search Filters: {'shoe_types': ['running'], 'sizes': ['uk4', 'uk5'], 'colors': ['blue']}\n",
      "\n",
      "Query: show nike and puma only\n",
      "Search Filters: {'shoe_types': ['running'], 'sizes': ['uk4', 'uk5'], 'colors': ['blue'], 'brands': ['nike', 'puma']}\n",
      "\n",
      "Query: include red\n",
      "Search Filters: {'shoe_types': ['running'], 'sizes': ['uk4', 'uk5'], 'colors': ['blue', 'red'], 'brands': ['nike', 'puma']}\n",
      "\n",
      "Query: show sports shoes instead of running\n",
      "Search Filters: {'shoe_types': ['sports'], 'sizes': ['uk4', 'uk5'], 'colors': ['blue', 'red'], 'brands': ['nike', 'puma']}\n",
      "\n"
     ]
    }
   ],
   "source": [
    "# simulate a chatbot style conversation\n",
    "user_queries = [\n",
    "    \"blue running shoes for small feet\",\n",
    "    \"show nike and puma only\",\n",
    "    \"include red\",\n",
    "    \"show sports shoes instead of running\"\n",
    "]\n",
    "\n",
    "chat_history = []\n",
    "for query in user_queries:\n",
    "    chat_history.append({\"role\": \"user\", \"content\": query})\n",
    "    search_filters, chat_history = get_search_filters(chat_history)\n",
    "    print(f\"Query: {query}\")\n",
    "    print(f\"Search Filters: {search_filters}\")\n",
    "    print()"
   ]
  },
  {
   "cell_type": "code",
   "execution_count": null,
   "id": "0083c3e3",
   "metadata": {},
   "outputs": [],
   "source": []
  },
  {
   "cell_type": "markdown",
   "id": "d7940516",
   "metadata": {},
   "source": [
    "## Chatbot performing API actions\n",
    "\n",
    "Sample chatbot created using openai functions. Example chatbot below works for an ecommerce app and helps customers solve order issues by performing actions by calling APIs. It also does information retrieval. Function schema is automatically derived from function signature and doc."
   ]
  },
  {
   "cell_type": "code",
   "execution_count": 104,
   "id": "56b17829",
   "metadata": {},
   "outputs": [],
   "source": [
    "from importlib import reload\n",
    "import functions_code\n",
    "reload(functions_code)\n",
    "\n",
    "order_api = functions_code.OrderAPI()\n",
    "functions = order_api.get_functions()  # automatically generated functions from methods of OrderAPI class"
   ]
  },
  {
   "cell_type": "code",
   "execution_count": 105,
   "id": "dad3ec1b",
   "metadata": {},
   "outputs": [],
   "source": [
    "system_prompt = \"\"\"You are an AI assistant for an ecommerce app helping customers with their queries about their orders.\n",
    "If customer's query requires an order id but none is present in previous messages then call list orders function with to_get_order_details=true.\n",
    "Customer's first ask to cancel order must be responded to with confirmation so call cancel order with confirmed as false. Once customer confirms call cancel order with confirmed as true. \n",
    "\"\"\""
   ]
  },
  {
   "cell_type": "code",
   "execution_count": 106,
   "id": "d9e434c2",
   "metadata": {},
   "outputs": [],
   "source": [
    "from IPython.display import display_html\n",
    "\n",
    "def add_to_chat_history(chat_history, message):\n",
    "    content = message[\"content\"]\n",
    "    if not content:\n",
    "        function_call = message['function_call']\n",
    "        content = f\"{function_call['name']}({function_call['arguments']})\"\n",
    "    content = content.replace(\"\\n\", \"<br>\")\n",
    "    display_html(f\"<b>{message['role']}:</b> {content}\", raw=True)\n",
    "    chat_history.append(message)\n",
    "    return chat_history\n",
    "\n",
    "def chat_completion(chat_history):\n",
    "    response = openai.ChatCompletion.create(\n",
    "        model=\"gpt-4\",\n",
    "        engine=\"gpt-4\",\n",
    "        messages=[{\"role\": \"system\", \"content\": system_prompt}, *chat_history],\n",
    "        temperature=0,\n",
    "        functions=functions,\n",
    "    )\n",
    "    return response.choices[0].message\n",
    "\n",
    "def simulate_conversation(order_api, chat_history):\n",
    "    response_message = chat_completion(chat_history)\n",
    "    if \"function_call\" not in response_message:\n",
    "        chat_history = add_to_chat_history(chat_history, {\n",
    "            \"role\": \"assistant\",\n",
    "            \"content\": response_message[\"content\"],\n",
    "        })\n",
    "        return chat_history\n",
    "\n",
    "    func_name = response_message[\"function_call\"][\"name\"]\n",
    "    func_arguments = response_message[\"function_call\"][\"arguments\"]\n",
    "    chat_history = add_to_chat_history(chat_history, {\n",
    "        \"role\": \"assistant\",\n",
    "        \"function_call\": {\n",
    "            \"name\": func_name,\n",
    "            \"arguments\": func_arguments,\n",
    "        },\n",
    "        \"content\": None,\n",
    "    })\n",
    "    func = getattr(functions_code.OrderAPI, func_name)\n",
    "    func_kwargs = json.loads(func_arguments)\n",
    "\n",
    "    if func_name == \"get_order_details\":\n",
    "        func_output = func(order_api, **func_kwargs)\n",
    "        chat_history = add_to_chat_history(chat_history, {\n",
    "            \"role\": \"function\",\n",
    "            \"name\": func_name,\n",
    "            \"content\": str(func_output),\n",
    "        })\n",
    "    elif func_name == \"list_orders\":\n",
    "        func_output = func(order_api, **func_kwargs)\n",
    "        chat_history = add_to_chat_history(chat_history, {\n",
    "            \"role\": \"function\",\n",
    "            \"name\": func_name,\n",
    "            \"content\": str(func_output),\n",
    "        })\n",
    "        if func_kwargs[\"to_get_order_details\"]:\n",
    "            chat_history = add_to_chat_history(chat_history, {\n",
    "                \"role\": \"assistant\",\n",
    "                \"content\": \"Could you please tell me which order?\",\n",
    "            })\n",
    "    elif func_name == \"cancel_order\":\n",
    "        if not func_kwargs[\"confirmed\"]:\n",
    "            chat_history = add_to_chat_history(chat_history, {\n",
    "                \"role\": \"assistant\",\n",
    "                \"content\": \"Are you sure you want to cancel your order?\",\n",
    "            })\n",
    "        else:\n",
    "            func_output = func(order_api, **func_kwargs)\n",
    "            chat_history = add_to_chat_history(chat_history, {\n",
    "                \"role\": \"function\",\n",
    "                \"name\": func_name,\n",
    "                \"content\": str(func_output),\n",
    "            })\n",
    "    return chat_history"
   ]
  },
  {
   "cell_type": "markdown",
   "id": "ae1ab304",
   "metadata": {},
   "source": [
    "### Scenario 1: Read-only (list_orders) and State-changing (cancel_order) actions\n",
    "\n",
    "- Customer: Where is my order? (without order_id)\n",
    "- Bot: Could you please tell me which order? (list orders call)\n",
    "- Customer: nike shoes one\n",
    "- Bot: Your order is at Indiranagar (get order details call)\n",
    "- Customer: Cancel my order\n",
    "- Bot: Are you sure you want to cancel Nike shoes order? (confirmation before any state-changing action)\n",
    "  - Customer: Yes\n",
    "    - Bot: Your order of Nike shoes has been canceled.\n",
    "  - Customer: No\n",
    "    - Bot: Your order of Nike shoes will not be canceled."
   ]
  },
  {
   "cell_type": "code",
   "execution_count": 107,
   "id": "05173b54",
   "metadata": {},
   "outputs": [
    {
     "data": {
      "text/html": [
       "<b>user:</b> where is my order?"
      ]
     },
     "metadata": {},
     "output_type": "display_data"
    },
    {
     "data": {
      "text/html": [
       "<b>assistant:</b> list_orders({<br>  \"to_get_order_details\": true<br>})"
      ]
     },
     "metadata": {},
     "output_type": "display_data"
    },
    {
     "data": {
      "text/html": [
       "<b>function:</b> id,item_name,status,order_date<br>124,Nike running shoes,OUT_FOR_DELIVERY,2023-09-11 00:00:00<br>123,Beige blanket,DELIVERED,2023-01-01 00:00:00<br>122,IKEA Table lamp,CANCELED,2022-02-28 00:00:00<br>121,Shampoo,DELIVERED,2022-01-01 00:00:00"
      ]
     },
     "metadata": {},
     "output_type": "display_data"
    },
    {
     "data": {
      "text/html": [
       "<b>assistant:</b> Could you please tell me which order?"
      ]
     },
     "metadata": {},
     "output_type": "display_data"
    },
    {
     "data": {
      "text/html": [
       "<b>user:</b> nike shoes one"
      ]
     },
     "metadata": {},
     "output_type": "display_data"
    },
    {
     "data": {
      "text/html": [
       "<b>assistant:</b> get_order_details({<br>  \"order_id\": 124<br>})"
      ]
     },
     "metadata": {},
     "output_type": "display_data"
    },
    {
     "data": {
      "text/html": [
       "<b>function:</b> id,item_name,status,order_date,current_location,delivery_eta<br>124,Nike running shoes,OUT_FOR_DELIVERY,2023-09-11 00:00:00,Indiranagar,2023-09-13 00:00:00"
      ]
     },
     "metadata": {},
     "output_type": "display_data"
    },
    {
     "data": {
      "text/html": [
       "<b>user:</b> cancel my order"
      ]
     },
     "metadata": {},
     "output_type": "display_data"
    },
    {
     "data": {
      "text/html": [
       "<b>assistant:</b> cancel_order({<br>  \"order_id\": 124,<br>  \"confirmed\": false<br>})"
      ]
     },
     "metadata": {},
     "output_type": "display_data"
    },
    {
     "data": {
      "text/html": [
       "<b>assistant:</b> Are you sure you want to cancel your order?"
      ]
     },
     "metadata": {},
     "output_type": "display_data"
    },
    {
     "data": {
      "text/html": [
       "<b>user:</b> yes"
      ]
     },
     "metadata": {},
     "output_type": "display_data"
    },
    {
     "data": {
      "text/html": [
       "<b>assistant:</b> cancel_order({<br>  \"order_id\": 124,<br>  \"confirmed\": true<br>})"
      ]
     },
     "metadata": {},
     "output_type": "display_data"
    },
    {
     "data": {
      "text/html": [
       "<b>function:</b> Cancellation was successful."
      ]
     },
     "metadata": {},
     "output_type": "display_data"
    }
   ],
   "source": [
    "user_inputs = [\n",
    "    \"where is my order?\",\n",
    "    \"nike shoes one\",\n",
    "    \"cancel my order\",\n",
    "    \"yes\",\n",
    "]\n",
    "\n",
    "chat_history = []\n",
    "for inp in user_inputs:\n",
    "    chat_history = add_to_chat_history(chat_history, {\"role\": \"user\", \"content\": inp})\n",
    "    chat_history = simulate_conversation(order_api, chat_history)"
   ]
  },
  {
   "cell_type": "code",
   "execution_count": 5,
   "id": "ba8cc0c4",
   "metadata": {},
   "outputs": [],
   "source": []
  },
  {
   "cell_type": "markdown",
   "id": "0c7afa63",
   "metadata": {},
   "source": [
    "### Scenario 2: Information retrieval\n",
    "\n",
    "- Customer: I need invoice for my order\n",
    "- Bot: Here's how to get order invoice... (retrieval from docs)"
   ]
  },
  {
   "cell_type": "code",
   "execution_count": null,
   "id": "7e4752f1",
   "metadata": {},
   "outputs": [],
   "source": []
  },
  {
   "cell_type": "code",
   "execution_count": null,
   "id": "7ba53f26",
   "metadata": {},
   "outputs": [],
   "source": []
  },
  {
   "cell_type": "code",
   "execution_count": null,
   "id": "007af6c3",
   "metadata": {},
   "outputs": [],
   "source": []
  }
 ],
 "metadata": {
  "kernelspec": {
   "display_name": "Python (openai)",
   "language": "python",
   "name": "openai"
  },
  "language_info": {
   "codemirror_mode": {
    "name": "ipython",
    "version": 3
   },
   "file_extension": ".py",
   "mimetype": "text/x-python",
   "name": "python",
   "nbconvert_exporter": "python",
   "pygments_lexer": "ipython3",
   "version": "3.10.10"
  }
 },
 "nbformat": 4,
 "nbformat_minor": 5
}
