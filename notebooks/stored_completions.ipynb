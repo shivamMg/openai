{
 "cells": [
  {
   "cell_type": "markdown",
   "id": "1bbb25cc",
   "metadata": {},
   "source": [
    "# openai stored completions"
   ]
  },
  {
   "cell_type": "markdown",
   "id": "02377dd7",
   "metadata": {},
   "source": [
    "- https://platform.openai.com/docs/api-reference/chat/create (store completion request with store=true)\n",
    "- https://platform.openai.com/docs/api-reference/chat/list (list stored completions)"
   ]
  },
  {
   "cell_type": "markdown",
   "id": "80199e2a",
   "metadata": {},
   "source": [
    "## prepare sample chat data"
   ]
  },
  {
   "cell_type": "code",
   "execution_count": 8,
   "id": "2e206c23",
   "metadata": {},
   "outputs": [],
   "source": [
    "import requests\n",
    "from pathlib import Path\n",
    "\n",
    "# https://huggingface.co/datasets/Samsung/samsum\n",
    "samsum_dataset_url = \"https://huggingface.co/datasets/Samsung/samsum/resolve/main/data/corpus.7z?download=true\"\n",
    "data_dir = Path(\"./data/samsum\")\n",
    "data_dir.mkdir(exist_ok=True)\n",
    "data_file = data_dir / \"corpus.7z\"\n",
    "\n",
    "with requests.get(samsum_dataset_url, stream=True) as response:\n",
    "    response.raise_for_status()\n",
    "    with open(data_file, \"wb\") as f:\n",
    "        for chunk in response.iter_content(chunk_size=8192):\n",
    "            f.write(chunk)"
   ]
  },
  {
   "cell_type": "code",
   "execution_count": null,
   "id": "eca299bd",
   "metadata": {},
   "outputs": [],
   "source": [
    "!pip install py7zr"
   ]
  },
  {
   "cell_type": "code",
   "execution_count": 10,
   "id": "ecb3b58f",
   "metadata": {},
   "outputs": [],
   "source": [
    "import py7zr\n",
    "\n",
    "with py7zr.SevenZipFile(data_file, mode=\"r\") as z:\n",
    "    z.extractall(data_dir)"
   ]
  },
  {
   "cell_type": "code",
   "execution_count": 18,
   "id": "20b5d56f",
   "metadata": {},
   "outputs": [],
   "source": [
    "import json\n",
    "\n",
    "with open(data_dir / \"train.json\", encoding=\"utf8\") as f:\n",
    "    samsum_data = json.load(f)"
   ]
  },
  {
   "cell_type": "markdown",
   "id": "6da9d03c",
   "metadata": {},
   "source": [
    "## store chat completions with store=true"
   ]
  },
  {
   "cell_type": "code",
   "execution_count": 44,
   "id": "d5e74065",
   "metadata": {},
   "outputs": [],
   "source": [
    "from openai import AzureOpenAI\n",
    "import json\n",
    "\n",
    "with open(\"openai_api.json\") as f:\n",
    "    creds = json.load(f)\n",
    "\n",
    "client = AzureOpenAI(\n",
    "    api_version=creds[\"api_version2\"],\n",
    "    azure_endpoint=creds[\"api_base2\"],\n",
    "    api_key=creds[\"api_key2\"],\n",
    ")"
   ]
  },
  {
   "cell_type": "code",
   "execution_count": 48,
   "id": "3f17c60b",
   "metadata": {},
   "outputs": [],
   "source": [
    "deployment = \"gpt-4o-2024-08-06\"\n",
    "\n",
    "for i, row in enumerate(samsum_data[:20]):\n",
    "    messages = [\n",
    "        { \"role\": \"system\", \"content\": \"You are a dialogue summarizer.\" },\n",
    "        { \"role\": \"user\", \"content\": f\"Summarize this dialogue:\\n\\n{row['dialogue']}\"}\n",
    "    ]\n",
    "\n",
    "    response = client.chat.completions.with_raw_response.create(\n",
    "        messages=messages,\n",
    "        model=deployment,\n",
    "        temperature=0.1,\n",
    "        store=True,\n",
    "        metadata={\n",
    "            \"source\": \"notebook\"\n",
    "        }\n",
    "    )\n",
    "    response_json = json.loads(response.content)\n",
    "    print(i, \", Completion id:\", response_json[\"id\"], \", Request id:\", response.headers.get(\"apim-request-id\"))"
   ]
  },
  {
   "cell_type": "markdown",
   "id": "0595eeec",
   "metadata": {},
   "source": [
    "## manage stored completions"
   ]
  },
  {
   "cell_type": "markdown",
   "id": "0fdc0f6a",
   "metadata": {},
   "source": [
    "### list completions - https://platform.openai.com/docs/api-reference/chat/list"
   ]
  },
  {
   "cell_type": "code",
   "execution_count": 63,
   "id": "7ab8eb8c",
   "metadata": {},
   "outputs": [],
   "source": [
    "completions = client.chat.completions.list(\n",
    "  metadata={\"source\": \"notebook\"},\n",
    "  limit=2,  # completions in one page\n",
    ")\n",
    "\n",
    "for page, completion in enumerate(completions):\n",
    "    print(page, completion.id, completion.request_id)\n",
    "    if page > 2:\n",
    "        break"
   ]
  },
  {
   "cell_type": "markdown",
   "id": "1e000c7d",
   "metadata": {},
   "source": [
    "### get completion - https://platform.openai.com/docs/api-reference/chat/get"
   ]
  },
  {
   "cell_type": "code",
   "execution_count": 66,
   "id": "792e7cec",
   "metadata": {},
   "outputs": [],
   "source": [
    "completion_id = \"chatcmpl-B2u5LdHbuRqgYA1bY4Xe30iIZdwUZ\"\n",
    "\n",
    "completion = client.chat.completions.retrieve(completion_id)\n",
    "print(completion.id, completion.request_id)"
   ]
  },
  {
   "cell_type": "markdown",
   "id": "fbc37b8e",
   "metadata": {},
   "source": [
    "### get completion input messages - https://platform.openai.com/docs/api-reference/chat/getMessages"
   ]
  },
  {
   "cell_type": "code",
   "execution_count": 69,
   "id": "5880caae",
   "metadata": {},
   "outputs": [],
   "source": [
    "messages = client.chat.completions.messages.list(\n",
    "    completion_id,\n",
    "    limit=2,\n",
    ")\n",
    "\n",
    "for page, message in enumerate(messages):\n",
    "    print(page, message.role, message.content)\n",
    "    if page > 2:\n",
    "        break"
   ]
  },
  {
   "cell_type": "markdown",
   "id": "f86ef79f",
   "metadata": {},
   "source": [
    "### update completion metadata - https://platform.openai.com/docs/api-reference/chat/update"
   ]
  },
  {
   "cell_type": "code",
   "execution_count": 72,
   "id": "d54b413a",
   "metadata": {},
   "outputs": [],
   "source": [
    "completion = client.chat.completions.update(\n",
    "  completion_id,\n",
    "  metadata={\n",
    "      \"tag_to_add\": \"value\",  # add new tag\n",
    "      \"source\": \"notebook2\",  # update existing tag\n",
    "      \"tag_to_delete\": None,  # delete existing tag\n",
    "  }\n",
    ")\n",
    "print(completion.id, completion.metadata)"
   ]
  },
  {
   "cell_type": "markdown",
   "id": "818585bd",
   "metadata": {},
   "source": [
    "### delete completion - https://platform.openai.com/docs/api-reference/chat/delete"
   ]
  },
  {
   "cell_type": "code",
   "execution_count": 73,
   "id": "aabed6b6",
   "metadata": {},
   "outputs": [],
   "source": [
    "delete_response = client.chat.completions.delete(completion_id)\n",
    "print(delete_response.id, delete_response.deleted)"
   ]
  },
  {
   "cell_type": "code",
   "execution_count": null,
   "id": "a9c21c66",
   "metadata": {},
   "outputs": [],
   "source": []
  }
 ],
 "metadata": {
  "kernelspec": {
   "display_name": "baker",
   "language": "python",
   "name": "baker"
  },
  "language_info": {
   "codemirror_mode": {
    "name": "ipython",
    "version": 3
   },
   "file_extension": ".py",
   "mimetype": "text/x-python",
   "name": "python",
   "nbconvert_exporter": "python",
   "pygments_lexer": "ipython3",
   "version": "3.10.12"
  }
 },
 "nbformat": 4,
 "nbformat_minor": 5
}
