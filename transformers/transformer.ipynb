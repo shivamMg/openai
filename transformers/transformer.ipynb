{
 "cells": [
  {
   "cell_type": "markdown",
   "id": "d3ba5c1b",
   "metadata": {},
   "source": [
    "### Transformer from scratch\n",
    "\n",
    "- https://peterbloem.nl/blog/transformers\n",
    "- https://e2eml.school/transformers.html#attention"
   ]
  },
  {
   "cell_type": "code",
   "execution_count": 1,
   "id": "a08f20c3",
   "metadata": {},
   "outputs": [],
   "source": [
    "import numpy as np\n",
    "import torch\n",
    "from torch import nn\n",
    "from torch.autograd import Variable\n",
    "from torch.utils.tensorboard import SummaryWriter\n",
    "import torch.nn.functional as F\n",
    "import torch.distributions as dist\n",
    "\n",
    "import random, tqdm, sys, math, gzip\n",
    "from dataclasses import dataclass"
   ]
  },
  {
   "cell_type": "code",
   "execution_count": null,
   "id": "ac282116",
   "metadata": {},
   "outputs": [],
   "source": []
  },
  {
   "cell_type": "code",
   "execution_count": 2,
   "id": "c68266e9",
   "metadata": {},
   "outputs": [],
   "source": [
    "class SelfAttention(nn.Module):\n",
    "    def __init__(self, emb, heads=8, mask=False):\n",
    "        super().__init__()\n",
    "        self.emb = emb  # embedding dimension\n",
    "        self.heads = heads  # number of heads in multi-head attention\n",
    "        self.mask = mask\n",
    "        \n",
    "        # to compute (q, k, v) for all heads. nn.Linear applies linear transformation\n",
    "        self.tokeys = nn.Linear(emb, emb * heads, bias=False)\n",
    "        self.toqueries = nn.Linear(emb, emb * heads, bias=False)\n",
    "        self.tovalues = nn.Linear(emb, emb * heads, bias=False)\n",
    "        \n",
    "        # to combine heads\n",
    "        self.unifyheads = nn.Linear(heads * emb, emb)\n",
    "\n",
    "    def mask_(self, matrices, maskval=0.0, mask_diagonal=True):\n",
    "        # Masks out all values in the given batch of matrices where i <= j holds, i < j if mask_diagonal is false\n",
    "        b, h, w = matrices.size()\n",
    "        indices = torch.triu_indices(h, w, offset=0 if mask_diagonal else 1)\n",
    "        matrices[:, indices[0], indices[1]] = maskval\n",
    "\n",
    "    def contains_nan(self, tensor):\n",
    "        return bool((tensor != tensor).sum() > 0)\n",
    "\n",
    "    def forward(self, x):  # computes scaled dot-product self-attention\n",
    "        b, t, e = x.size()\n",
    "        h = self.heads\n",
    "        assert e == self.emb, f'Input embedding dim ({e}) should match layer embedding dim ({self.emb})'\n",
    "\n",
    "        # compute (q, k, v) for all heads:\n",
    "        #  1. self.to* funcs return vector sequences of embedding dimension `emb`\n",
    "        #  2. these are cut into `h` chunks\n",
    "        keys    = self.tokeys(x)   .view(b, t, h, e)\n",
    "        queries = self.toqueries(x).view(b, t, h, e)\n",
    "        values  = self.tovalues(x) .view(b, t, h, e)\n",
    "        \n",
    "        # Scaled dot-product self-attention\n",
    "        \n",
    "        # - fold heads into the batch dimension\n",
    "        keys = keys.transpose(1, 2).contiguous().view(b * h, t, e)\n",
    "        queries = queries.transpose(1, 2).contiguous().view(b * h, t, e)\n",
    "        values = values.transpose(1, 2).contiguous().view(b * h, t, e)\n",
    "    \n",
    "        # - get dot product of queries and keys\n",
    "        dot = torch.bmm(queries, keys.transpose(1, 2))\n",
    "        dot = dot / math.sqrt(e)  # apply scaling\n",
    "        \n",
    "        assert dot.size() == (b*h, t, t), f'Matrix has size {dot.size()}, expected {(b*h, t, t)}.'\n",
    "        \n",
    "        if self.mask:\n",
    "            self.mask_(dot, maskval=float('-inf'), mask_diagonal=False)\n",
    "        \n",
    "        dot = F.softmax(dot, dim=2) # dot now has row-wise self-attention probabilities\n",
    "        \n",
    "        assert not self.contains_nan(dot[:, 1:, :]) # only the first row may contain nan\n",
    "        \n",
    "        if self.mask == 'first':\n",
    "            dot = dot.clone()\n",
    "            dot[:, :1, :] = 0.0\n",
    "        \n",
    "        # apply the self attention to the values to get attention for each head\n",
    "        out = torch.bmm(dot, values).view(b, h, t, e)\n",
    "        \n",
    "        # swap h, t back, unify heads\n",
    "        out = out.transpose(1, 2).contiguous().view(b, t, h * e)\n",
    "        return self.unifyheads(out)"
   ]
  },
  {
   "cell_type": "code",
   "execution_count": 3,
   "id": "133316ef",
   "metadata": {},
   "outputs": [],
   "source": [
    "class TransformerBlock(nn.Module):\n",
    "    def __init__(self, emb, heads, mask, seq_length, ff_hidden_mult=4, dropout=0.0):\n",
    "        super().__init__()\n",
    "        self.attention = SelfAttention(emb, heads=heads, mask=mask)\n",
    "        self.mask = mask\n",
    "        # Layer normalization makes training faster\n",
    "        self.norm1 = nn.LayerNorm(emb)\n",
    "        self.norm2 = nn.LayerNorm(emb)\n",
    "        # multiple hidden layers one after the other:\n",
    "        self.ff = nn.Sequential(\n",
    "            nn.Linear(emb, ff_hidden_mult * emb),\n",
    "            nn.ReLU(),  # Rectified Linear Unit activation function\n",
    "            nn.Linear(ff_hidden_mult * emb, emb)\n",
    "        )\n",
    "        # dropout is a regularization technique to make models less prone to overfitting\n",
    "        # it randomly zeroes out neurons which suprisingly increases accuracy\n",
    "        self.do = nn.Dropout(dropout)\n",
    "\n",
    "    def forward(self, x):\n",
    "        attention = self.attention(x)\n",
    "        x = self.norm1(attention + x)\n",
    "        x = self.do(x)\n",
    "        ff = self.ff(x)\n",
    "        x = self.norm2(ff + x)\n",
    "        x = self.do(x)\n",
    "        return x"
   ]
  },
  {
   "cell_type": "code",
   "execution_count": 4,
   "id": "c66abd93",
   "metadata": {},
   "outputs": [],
   "source": [
    "class Transformer(nn.Module):\n",
    "    def __init__(self, emb, heads, depth, seq_length, num_tokens):\n",
    "        super().__init__()\n",
    "        self.num_tokens = num_tokens\n",
    "        # nn.Embedding is used for word embedding lookup\n",
    "        self.token_embedding = nn.Embedding(embedding_dim=emb, num_embeddings=num_tokens)\n",
    "        self.pos_embedding = nn.Embedding(embedding_dim=emb, num_embeddings=seq_length)\n",
    "\n",
    "        self.unify_embeddings = nn.Linear(2*emb, emb)\n",
    "        \n",
    "        tblocks = []\n",
    "        for i in range(depth):\n",
    "            tblocks.append(\n",
    "                TransformerBlock(emb=emb, heads=heads, seq_length=seq_length, mask=True))\n",
    "        self.tblocks = nn.Sequential(*tblocks)\n",
    "        \n",
    "        self.toprobs = nn.Linear(emb, num_tokens)\n",
    "        \n",
    "    def forward(self, x):\n",
    "        tokens = self.token_embedding(x)\n",
    "        b, t, e = tokens.size()\n",
    "        \n",
    "        device = 'cuda' if torch.cuda.is_available() else 'cpu'\n",
    "        positions = self.pos_embedding(torch.arange(t, device=device))[None, :, :].expand(b, t, e)\n",
    "        x = self.unify_embeddings(torch.cat((tokens, positions), dim=2).view(-1, 2*e)).view(b, t, e)\n",
    "        x = self.tblocks(x)\n",
    "        x = self.toprobs(x.view(b*t, e)).view(b, t, self.num_tokens)\n",
    "        # return predicted log-probability vectors for each token based on the preceding tokens\n",
    "        return F.log_softmax(x, dim=2)"
   ]
  },
  {
   "cell_type": "code",
   "execution_count": 5,
   "id": "0ab24945",
   "metadata": {},
   "outputs": [],
   "source": [
    "@dataclass\n",
    "class TrainingArgs:\n",
    "    num_batches: int = 1_000_000\n",
    "    batch_size: int = 64\n",
    "    data: str = \"./data/enwik8.gz\"\n",
    "    tb_dir: str = \"./runs\"  # tensorboard logs\n",
    "    lr: float = 0.0001  # learning rate\n",
    "    embedding_size: int = 128\n",
    "    num_heads: int = 8\n",
    "    context: int = 32  # context length\n",
    "    depth: int = 4\n",
    "    seed: int = 1\n",
    "    test_every: int = 1500\n",
    "    test_subset: int = 100_000\n",
    "    test_batchsize: int = 128\n",
    "    gradient_clipping: float = 1.0\n",
    "    lr_warmup: int = 5000"
   ]
  },
  {
   "cell_type": "code",
   "execution_count": 6,
   "id": "71a86301",
   "metadata": {},
   "outputs": [],
   "source": [
    "def sample(lnprobs, temperature=1.0):\n",
    "    \"\"\"\n",
    "    Sample an element from a categorical distribution\n",
    "    :param lnprobs: Outcome log-probabilities\n",
    "    :param temperature: Sampling temperature. 1.0 follows the given distribution,\n",
    "        0.0 returns the maximum probability element.\n",
    "    :return: The index of the sampled element.\n",
    "    \"\"\"\n",
    "\n",
    "    if temperature == 0.0:\n",
    "        return lnprobs.argmax()\n",
    "\n",
    "    p = F.softmax(lnprobs / temperature, dim=0)\n",
    "    cd = dist.Categorical(p)\n",
    "\n",
    "    return cd.sample()\n",
    "\n",
    "def enwik8(path, n_train=int(90e6), n_valid=int(5e6), n_test=int(5e6)):\n",
    "    \"\"\"\n",
    "    Load the enwik8 dataset from the Hutter challenge.\n",
    "    Adapted from https://github.com/openai/blocksparse/blob/master/examples/transformer/enwik8.py\n",
    "    :param path:\n",
    "    :param n_train:\n",
    "    :param n_valid:\n",
    "    :param n_test:\n",
    "    :return:\n",
    "    \"\"\"\n",
    "    with gzip.open(path) if path.endswith('.gz') else open(path) as file:\n",
    "        X = np.fromstring(file.read(n_train + n_valid + n_test), dtype=np.uint8)\n",
    "        trX, vaX, teX = np.split(X, [n_train, n_train + n_valid])\n",
    "        return torch.from_numpy(trX), torch.from_numpy(vaX), torch.from_numpy(teX)"
   ]
  },
  {
   "cell_type": "code",
   "execution_count": 46,
   "id": "80b867f6",
   "metadata": {},
   "outputs": [],
   "source": [
    "NUM_TOKENS = 256\n",
    "# Used for converting between nats and bits\n",
    "LOG2E = math.log2(math.e)\n",
    "\n",
    "def train(arg):\n",
    "    torch.manual_seed(arg.seed)\n",
    "    tbw = SummaryWriter(log_dir=arg.tb_dir)\n",
    "    data_train, data_val, data_test = enwik8(arg.data)\n",
    "    data_train, data_test = (torch.cat([data_train, data_val], dim=0), data_test)\n",
    "    \n",
    "    model = Transformer(emb=arg.embedding_size, heads=arg.num_heads, depth=arg.depth, seq_length=arg.context, num_tokens=NUM_TOKENS)\n",
    "    if torch.cuda.is_available():\n",
    "        model.cuda()\n",
    "    opt = torch.optim.Adam(lr=arg.lr, params=model.parameters())\n",
    "    \n",
    "    for i in tqdm.trange(arg.num_batches):\n",
    "        if arg.lr_warmup > 0 and i < arg.lr_warmup:\n",
    "            lr = max(  (arg.lr / arg.lr_warmup) * i, 1e-10)\n",
    "            opt.lr = lr\n",
    "            \n",
    "        opt.zero_grad()\n",
    "        \n",
    "        starts = torch.randint(size=(arg.batch_size, ), low=0, high=data_train.size(0) - arg.context - 1)\n",
    "        seqs_source = [data_train[start  :start+arg.context  ] for start in starts]\n",
    "        seqs_target = [data_train[start+1:start+arg.context+1] for start in starts]\n",
    "        source = torch.cat([s[None, :] for s in seqs_source ], dim=0).to(torch.long)\n",
    "        target = torch.cat([s[None, :] for s in seqs_target ], dim=0).to(torch.long)\n",
    "        \n",
    "        if torch.cuda.is_available():\n",
    "            source, target = source.cuda(), target.cuda()\n",
    "        source, target = Variable(source), Variable(target)\n",
    "        \n",
    "        output = model(source)\n",
    "        \n",
    "        loss = F.nll_loss(output.transpose(2, 1), target, reduction='mean')\n",
    "        tbw.add_scalar('transformer/train-loss', float(loss.item()) * LOG2E, i * arg.batch_size)\n",
    "        \n",
    "        loss.backward()\n",
    "        \n",
    "        if arg.gradient_clipping > 0.0:\n",
    "            nn.utils.clip_grad_norm_(model.parameters(), arg.gradient_clipping)\n",
    "        \n",
    "        opt.step()\n",
    "        \n",
    "        # test\n",
    "        if i != 0 and (i % arg.test_every == 0 or i == arg.num_batches - 1):\n",
    "            upto = data_test.size(0) if i == arg.num_batches - 1 else arg.test_subset\n",
    "            data_sub = data_test[:upto]\n",
    "            \n",
    "            with torch.no_grad():\n",
    "                bits, tot = 0.0, 0\n",
    "                batch = [] # buffer, every time it fills up, we run it through the model\n",
    "\n",
    "                for current in range(data_sub.size(0)):\n",
    "                    fr = max(0, current - arg.context)\n",
    "                    to = current + 1\n",
    "\n",
    "                    context = data_sub[fr:to].to(torch.long)\n",
    "                    if context.size(0) < arg.context + 1:\n",
    "                        pad = torch.zeros(size=(arg.context + 1 - context.size(0),), dtype=torch.long)\n",
    "                        context = torch.cat([pad, context], dim=0)\n",
    "\n",
    "                        assert context.size(0) == arg.context + 1\n",
    "\n",
    "                    if torch.cuda.is_available():\n",
    "                        context = context.cuda()\n",
    "\n",
    "                    batch.append(context[None, :])\n",
    "\n",
    "                    if len(batch) == arg.test_batchsize or current == data_sub.size(0) - 1:\n",
    "\n",
    "                        # batch is full, run it through the model\n",
    "                        b = len(batch)\n",
    "\n",
    "                        all = torch.cat(batch, dim=0)\n",
    "                        source = all[:, :-1] # input\n",
    "                        target = all[:, -1]  # target values\n",
    "\n",
    "                        output = model(source)\n",
    "\n",
    "                        device = 'cuda' if torch.cuda.is_available() else 'cpu'\n",
    "                        lnprobs = output[torch.arange(b, device=device), -1, target]\n",
    "                        log2probs = lnprobs * LOG2E # convert from nats to bits\n",
    "\n",
    "                        bits += - log2probs.sum()\n",
    "                        batch = [] # empty buffer\n",
    "\n",
    "                bits_per_byte = bits / data_sub.size(0)\n",
    "\n",
    "                # print validation performance. 1 bit per byte is (currently) state of the art.\n",
    "                print(f'epoch{i}: {bits_per_byte:.4} bits per byte')\n",
    "                tbw.add_scalar(f'transformer/eval-loss', bits_per_byte, i * arg.batch_size)\n",
    "\n",
    "                # generate some random text\n",
    "                GENSIZE = 600\n",
    "                TEMP = 0.5\n",
    "                seedfr = random.randint(0, data_test.size(0) - arg.context)\n",
    "                input = data_test[seedfr:seedfr + arg.context].to(torch.long)\n",
    "\n",
    "                if torch.cuda.is_available():\n",
    "                    input = input.cuda()\n",
    "\n",
    "                input = Variable(input)\n",
    "\n",
    "                print('[', end='', flush=True)\n",
    "                for c in input:\n",
    "                    print(str(chr(c)), end='', flush=True)\n",
    "                print(']', end='', flush=True)\n",
    "\n",
    "                for _ in range(GENSIZE):\n",
    "                    output = model(input[None, :])\n",
    "                    c = sample(output[0, -1, :], TEMP)\n",
    "                    print(str(chr(max(32, c))), end='', flush=True)\n",
    "\n",
    "                    input = torch.cat([input[1:], c[None]], dim=0)\n",
    "\n",
    "                print()\n",
    "    return model"
   ]
  },
  {
   "cell_type": "code",
   "execution_count": 47,
   "id": "a32e13f1",
   "metadata": {},
   "outputs": [
    {
     "name": "stderr",
     "output_type": "stream",
     "text": [
      "/tmp/ipykernel_2353/2631439982.py:29: DeprecationWarning: The binary mode of fromstring is deprecated, as it behaves surprisingly on unicode inputs. Use frombuffer instead\n",
      "  X = np.fromstring(file.read(n_train + n_valid + n_test), dtype=np.uint8)\n",
      "  0%|                                                                          | 1497/1000000 [00:40<5:28:26, 50.67it/s]"
     ]
    },
    {
     "name": "stdout",
     "output_type": "stream",
     "text": [
      "epoch1500: 3.031 bits per byte\n",
      "[/128&lt;/small&gt;.\n",
      "\n",
      "===Special ]in stire be in Hest of the state a [[Catername bout of a the of bet of a strat and reellect and the a contric trear a reling reand of which comple of [[turrie Chenturan]] the [[Imany a partically compurie prome booct fired the with rean of the and the prort of contratic for the of mact for of the pron the from the the in the are the or on a the compation in the port and of the a prond and a bother and the shact a the bechom be the [[Mear Aring Sone Airgran Aleran a of Sollent and of the he '''[[Dullican to portan Allage]] and a the [[erean extricial pared]] sure of a located in the the [[domat"
     ]
    },
    {
     "name": "stderr",
     "output_type": "stream",
     "text": [
      "\r",
      "  0%|                                                                        | 1501/1000000 [00:47<273:33:07,  1.01it/s]"
     ]
    },
    {
     "name": "stdout",
     "output_type": "stream",
     "text": [
      "\n"
     ]
    },
    {
     "name": "stderr",
     "output_type": "stream",
     "text": [
      "  0%|▏                                                                         | 2996/1000000 [01:30<5:33:02, 49.89it/s]"
     ]
    },
    {
     "name": "stdout",
     "output_type": "stream",
     "text": [
      "epoch3000: 2.746 bits per byte\n",
      "[ that is intended to simulate th]e comput by the [[Gologin Seventer]] in [[Marthrologine]] ([[Action of The Action 300]]), [[Forge distary of prigrams]] made have to the perchise of the surch by and and lew in the the word of the [[Aleria countryly]], [[suphertic of the succh of the Countin deserncest of the propentic with and the prover the comprover the conting the cars of [[England Restion]] while in the gener of rese and by the cond to compan a componse although the olock of the ongroups of [[Kapiran Aliston]] ([[Stert Amertion suppers]] ([[19939]]), [[Jeseral Firr Deng]], [[Monerra]], [[Englic Connorration]] (1999) and ["
     ]
    },
    {
     "name": "stderr",
     "output_type": "stream",
     "text": [
      "\r",
      "  0%|▏                                                                       | 3001/1000000 [01:34<258:15:38,  1.07it/s]"
     ]
    },
    {
     "name": "stdout",
     "output_type": "stream",
     "text": [
      "\n"
     ]
    },
    {
     "name": "stderr",
     "output_type": "stream",
     "text": [
      "  0%|▎                                                                         | 4498/1000000 [02:04<5:29:57, 50.28it/s]"
     ]
    },
    {
     "name": "stdout",
     "output_type": "stream",
     "text": [
      "epoch4500: 2.596 bits per byte\n",
      "[ borrower such as [[unemployment]s]]. The is ressure and the [[filier and comportant]] or [[Gardina]] and [[Modes]] borges and for the that a bolock of the [[Catobel]] and had the and the became in the [[Categon Station]] and [[Edernation of the [[Tarlences]] or [[command]] to was mode altorication in the propelent is of the [[1985]] while has the [[formal bastory]], [[French I Resson]] ([[1999]]) * [[1976]]) and [[Carled States of American the"
     ]
    },
    {
     "name": "stderr",
     "output_type": "stream",
     "text": [
      "\r",
      "  0%|▎                                                                         | 4498/1000000 [02:20<5:29:57, 50.28it/s]"
     ]
    },
    {
     "name": "stdout",
     "output_type": "stream",
     "text": [
      " [[19465]], the [[Perine 198]] ([[1989]]) * [[1987]] - [[Caternal Stated Warles]] or [[Standar]], [[Indar 1]]s.  The aligner and as in the [[Dema Billon]] ([[Arganiza]]).  ====See areas"
     ]
    },
    {
     "name": "stderr",
     "output_type": "stream",
     "text": [
      "\r",
      "  0%|▎                                                                       | 4501/1000000 [02:21<282:49:13,  1.02s/it]"
     ]
    },
    {
     "name": "stdout",
     "output_type": "stream",
     "text": [
      "\n"
     ]
    },
    {
     "name": "stderr",
     "output_type": "stream",
     "text": [
      "  1%|▍                                                                         | 5996/1000000 [02:51<5:33:00, 49.75it/s]"
     ]
    },
    {
     "name": "stdout",
     "output_type": "stream",
     "text": [
      "epoch6000: 2.511 bits per byte\n",
      "[ height averaging 32 to 34 inche]ment to the port of the [[constructures of called being the the [[deport governmanglange]] and [[sublican marity]] in the [[advolution of language|Primes]] [[Category:Construm dispection the state second as particular the early dependents of Austria language the Arais and and has the [[fildication]] and [[part procimination]] of the [[pophyphics]] and [[superta]]s and specially to profess for the [[Aral Standa]] and [[Cathola]] in [[Concelderian Sudilian]] [[Terronolly]], [[Primagrame]], [[Chermiss]], [[1999]]] and [[Manuse]], [[Calebook of Party]] in the [[Trace Commics Constition]] and and '"
     ]
    },
    {
     "name": "stderr",
     "output_type": "stream",
     "text": [
      "\r",
      "  1%|▍                                                                       | 6001/1000000 [03:08<282:16:26,  1.02s/it]"
     ]
    },
    {
     "name": "stdout",
     "output_type": "stream",
     "text": [
      "\n"
     ]
    },
    {
     "name": "stderr",
     "output_type": "stream",
     "text": [
      "  1%|▌                                                                         | 7500/1000000 [03:50<5:33:37, 49.58it/s]"
     ]
    },
    {
     "name": "stdout",
     "output_type": "stream",
     "text": [
      "epoch7500: 2.417 bits per byte\n",
      "[Inuit language than in English, ]but the [[Striction of Assian Pertaist and Armustamp>        <contributor>         <comment>/*    <contributor>        <comment>/*    <text xml:space=\"preserve\">#RECT [[Pologor]]</text>     </revision>   </page>   <page>    <title>Conte</title>     <id>409</id>      <revision>       <id>10863</id>     </contributor>       <minor />       <comment>/*    <timestamp>2006-02-12-03-113</id>       <timestamp>2006-02-04-125-022:1935Z</timestamp>       <contributor>         <minor />       <comment>/*    <text xml:space=\"preserve\">#RERECT [[Denoryonomer]]</text>     </revision>    </page>   <page>    "
     ]
    },
    {
     "name": "stderr",
     "output_type": "stream",
     "text": [
      "\r",
      "  1%|▌                                                                       | 7501/1000000 [03:57<380:42:02,  1.38s/it]"
     ]
    },
    {
     "name": "stdout",
     "output_type": "stream",
     "text": [
      "\n"
     ]
    },
    {
     "name": "stderr",
     "output_type": "stream",
     "text": [
      "  1%|▋                                                                         | 8996/1000000 [04:40<5:31:09, 49.88it/s]"
     ]
    },
    {
     "name": "stdout",
     "output_type": "stream",
     "text": [
      "epoch9000: 2.364 bits per byte\n",
      "[ana linguaro]]\n",
      "[[id:Indo-Eropa]]] [[sv:Brison]] [[sv:Albook of Carry]] [[sv:Bistonian Electrical Baslian]] [[Category:Wartic of the Holy Arican (mode the Brown UK proceded. In the [[Mard]] and [[World Markel]], and [[Molicuse]] was believed [[Brastin language|Michaara]] the moved the [[Station|Pressentians]] (and the [[Christian German]], [[Yorge Freng language|Francis]] ([[1962]]) and [[Island]] and [[Bord Car War of American become by the [[English Financism]] and [[Science (north/ States Harrisons of France of Western that were for [[carcular]]s and [[clear]] (a [[conservations of it be distory subject of [[Social litary t"
     ]
    },
    {
     "name": "stderr",
     "output_type": "stream",
     "text": [
      "\r",
      "  1%|▋                                                                       | 9001/1000000 [04:44<287:51:48,  1.05s/it]"
     ]
    },
    {
     "name": "stdout",
     "output_type": "stream",
     "text": [
      "\n"
     ]
    },
    {
     "name": "stderr",
     "output_type": "stream",
     "text": [
      "  1%|▊                                                                        | 10497/1000000 [05:14<5:24:57, 50.75it/s]"
     ]
    },
    {
     "name": "stdout",
     "output_type": "stream",
     "text": [
      "epoch10500: 2.323 bits per byte\n",
      "[ term irradiation pertains to al]low as the time and companies of being the crase with is continue of the [[Corts of Aright]], which destriation and removed as the time was that the speed to and increter stated to the subject for 1900 to"
     ]
    },
    {
     "name": "stderr",
     "output_type": "stream",
     "text": [
      "\r",
      "  1%|▊                                                                        | 10497/1000000 [05:30<5:24:57, 50.75it/s]"
     ]
    },
    {
     "name": "stdout",
     "output_type": "stream",
     "text": [
      " be the fire constring the final international article the father work of the [[English there]] of [[Dictor]]. The [[Aristin]] and [[1995]] by [[2000]] to the [[Peoto Internation]] ([[1987]]) *[[1994]] - [[Martin (children Hentine Arm)]] *[[List of the first of the most station of the most of the [[Augustine]] is the [[British language|County]]. The [[Visence Scholer]] with giving a policity o"
     ]
    },
    {
     "name": "stderr",
     "output_type": "stream",
     "text": [
      "\r",
      "  1%|▋                                                                      | 10501/1000000 [05:32<269:54:08,  1.02it/s]"
     ]
    },
    {
     "name": "stdout",
     "output_type": "stream",
     "text": [
      "\n"
     ]
    },
    {
     "name": "stderr",
     "output_type": "stream",
     "text": [
      "  1%|▉                                                                        | 11999/1000000 [06:03<5:34:08, 49.28it/s]"
     ]
    },
    {
     "name": "stdout",
     "output_type": "stream",
     "text": [
      "epoch12000: 2.288 bits per byte\n",
      "[&lt;/TD&gt;\n",
      "    &lt;TD&gt;&lt;FO]&lt;sub&gt;&lt;/sub&gt;; (a characteristic) site are largely consists on the complete of the below of the [[Chick of the European Party Austrians with the  main states of the called simple in the state of the change.  The council and instruction of the discovery sometimes are disting the company of the new consider of the formation of the distinct list is surried in the city and the burn all seen of the [[United States]] when [[1980]], an"
     ]
    },
    {
     "name": "stderr",
     "output_type": "stream",
     "text": [
      "\r",
      "  1%|▉                                                                        | 11999/1000000 [06:20<5:34:08, 49.28it/s]"
     ]
    },
    {
     "name": "stdout",
     "output_type": "stream",
     "text": [
      "d the first can active been the prominent of the [[Barrant Indian Kieler]] and [[Ball John Cardon]], and [[John American Gale]] and [[Beach Book of Chinese]] "
     ]
    },
    {
     "name": "stderr",
     "output_type": "stream",
     "text": [
      "\r",
      "  1%|▊                                                                      | 12001/1000000 [06:21<369:14:28,  1.35s/it]"
     ]
    },
    {
     "name": "stdout",
     "output_type": "stream",
     "text": [
      "\n"
     ]
    },
    {
     "name": "stderr",
     "output_type": "stream",
     "text": [
      "  1%|▉                                                                        | 13499/1000000 [06:51<5:33:34, 49.29it/s]"
     ]
    },
    {
     "name": "stdout",
     "output_type": "stream",
     "text": [
      "epoch13500: 2.257 bits per byte\n",
      "[ty of the Year]] in [[1981]]. He] is a mathematics of the source of the Greek Bash Core-Language * [http://www.gicodensist.org/companie/arth/story/commander.html Carleadors and the scharacter of the team of the electron to the concept in the product of the art faster the early reading the form such as [[war]] and [[poster]] and [[treaty]] and [[concern]] in [[character]] [[minuter]] and [[example]] [[general combination]] who the second is the [[Anthur Jewish Boes]] and [[Andrews]], which was black in the [[break culture]] or [[companies]] rules a composer to known [[the cannot]] of [[Benneya]] and [[Natural Stars]], [[Jarth \n"
     ]
    },
    {
     "name": "stderr",
     "output_type": "stream",
     "text": [
      "  1%|█                                                                        | 14996/1000000 [07:50<5:32:16, 49.41it/s]"
     ]
    },
    {
     "name": "stdout",
     "output_type": "stream",
     "text": [
      "epoch15000: 2.233 bits per byte\n",
      "[abba &amp; On the Beach at Fonta]l Tation of the Military and Sea also the [[Britain Barbe]] (algorithm) and the [[Let of the Ball]] of the [[Alvery Besell]], [[1979]] [[1990s]], [[1983]] - [[Dance Portugual economic programs and internal relative finance in the color of the more be tweenty and the continent of companies of a [[bird of controllege]], and [[controlled first of the pressess of the [[Compendian British]] and [[Sandan Caster]], [[List of the Former Arthur]] ([[1968]]) * [[Alimour language|Bengal]] ** [[Seearch Marther Schall]] * [[Polymer Corporation Production]]  [[Category:New destrouble of the [[Second Meaning"
     ]
    },
    {
     "name": "stderr",
     "output_type": "stream",
     "text": [
      "\r",
      "  2%|█                                                                      | 15001/1000000 [07:57<290:04:31,  1.06s/it]"
     ]
    },
    {
     "name": "stdout",
     "output_type": "stream",
     "text": [
      "\n"
     ]
    },
    {
     "name": "stderr",
     "output_type": "stream",
     "text": [
      "  2%|█▏                                                                       | 16497/1000000 [08:40<5:31:53, 49.39it/s]"
     ]
    },
    {
     "name": "stdout",
     "output_type": "stream",
     "text": [
      "epoch16500: 2.215 bits per byte\n",
      "[ontributor>\n",
      "        <username>Al]bordan</username>        <id>6653</id>       </contributor>       <comment>regendancy conservatives to be divided the [[lack of the economical language|police]] and the [[Laborary (b. [[1813]]) *[[1968]] - [[George Machine Act]] and [[Electronomic Society]] and [[Catholic of the U.S. South Simps and Mormal South Children President Currently have a residency to directly in the resulting on the state of the student of the president of the 914-85 [[Human Sapp]] and [[German United States]] ([[1994 in the Guine|1993]]), who and the [[Wellow (in the March of the United States (actual back of the [["
     ]
    },
    {
     "name": "stderr",
     "output_type": "stream",
     "text": [
      "\r",
      "  2%|█▏                                                                     | 16501/1000000 [08:46<325:20:30,  1.19s/it]"
     ]
    },
    {
     "name": "stdout",
     "output_type": "stream",
     "text": [
      "\n"
     ]
    },
    {
     "name": "stderr",
     "output_type": "stream",
     "text": [
      "  2%|█▎                                                                       | 17999/1000000 [09:30<5:31:02, 49.44it/s]"
     ]
    },
    {
     "name": "stdout",
     "output_type": "stream",
     "text": [
      "epoch18000: 2.192 bits per byte\n",
      "[\\right) \\;\n",
      "\\exp \\left\\lbrace \\fr]ac{e_\\man_\\_{\\mathba}}  \\frac{x}\\leged \\mathba}  \\ \\part (x-\\quate)                                                                                                                                                                                                                                                                                                                                                                                                                                                                                                                                                     "
     ]
    },
    {
     "name": "stderr",
     "output_type": "stream",
     "text": [
      "\r",
      "  2%|█▎                                                                     | 18001/1000000 [09:34<363:01:33,  1.33s/it]"
     ]
    },
    {
     "name": "stdout",
     "output_type": "stream",
     "text": [
      "\n"
     ]
    },
    {
     "name": "stderr",
     "output_type": "stream",
     "text": [
      "  2%|█▍                                                                       | 19498/1000000 [10:05<5:33:26, 49.01it/s]"
     ]
    },
    {
     "name": "stdout",
     "output_type": "stream",
     "text": [
      "epoch19500: 2.179 bits per byte\n",
      "[=20 ISO 2108:2005] at [http://ww]w.newspape.com/ The Shadow The Thomas Chater College]]'' ([[1954]]) *''[[1965]] - [[The Chile]]'' ([[1960]]) *''[[The Kon"
     ]
    },
    {
     "name": "stderr",
     "output_type": "stream",
     "text": [
      "\r",
      "  2%|█▍                                                                       | 19498/1000000 [10:20<5:33:26, 49.01it/s]"
     ]
    },
    {
     "name": "stdout",
     "output_type": "stream",
     "text": [
      "g Soung Why The Henry]] [[French Law Many]], [[1878]], [[1977]], [[1973]]. The previously developed by the population of [[communication]] and [[battacketa]] and [[intelligence]] continuous to Buddhis speculation (and operatively for as the film of the programs of the king is some possible to the state of many computer support security of the element of the fact as the [[Childre]] was also responsible of the most of the [[Pennetic Paul Philance|March]] ([[Finnish Angel]], [["
     ]
    },
    {
     "name": "stderr",
     "output_type": "stream",
     "text": [
      "\r",
      "  2%|█▍                                                                     | 19501/1000000 [10:22<335:27:29,  1.23s/it]"
     ]
    },
    {
     "name": "stdout",
     "output_type": "stream",
     "text": [
      "\n"
     ]
    },
    {
     "name": "stderr",
     "output_type": "stream",
     "text": [
      "  2%|█▌                                                                       | 20996/1000000 [10:53<5:31:53, 49.16it/s]"
     ]
    },
    {
     "name": "stdout",
     "output_type": "stream",
     "text": [
      "epoch21000: 2.166 bits per byte\n",
      "[For other meanings of &quot;inte]rpretational to protection of [[Mosco]] and [[Darine American Contentions]] on the [[Canadalian Commission]]. The popular of breaks of the world as in the first and so that is a good or posecure of the short continuing the [[1967]]. A theory are back in the southern exploress of an activity of the other were succeeded by an any format off the contrasts of the president of [[armountary]] and [[president research]], and [[eventually characteristics]] and [[Pierre The Foreutra Computer American Rome of Larguable resources of some information in the fact in the contrast [[computer export]]"
     ]
    },
    {
     "name": "stderr",
     "output_type": "stream",
     "text": [
      "\r",
      "  2%|█▌                                                                       | 20996/1000000 [11:10<5:31:53, 49.16it/s]"
     ]
    },
    {
     "name": "stdout",
     "output_type": "stream",
     "text": [
      " stages,"
     ]
    },
    {
     "name": "stderr",
     "output_type": "stream",
     "text": [
      "\r",
      "  2%|█▍                                                                     | 21001/1000000 [11:10<280:58:18,  1.03s/it]"
     ]
    },
    {
     "name": "stdout",
     "output_type": "stream",
     "text": [
      "\n"
     ]
    },
    {
     "name": "stderr",
     "output_type": "stream",
     "text": [
      "  2%|█▋                                                                       | 22497/1000000 [11:50<5:25:38, 50.03it/s]"
     ]
    },
    {
     "name": "stdout",
     "output_type": "stream",
     "text": [
      "epoch22500: 2.15 bits per byte\n",
      "[ls third baseman Scott Rolen bor]n to Alamost the [[Politics of German|United States]] for [[Alexander Control]], [[Grand William]]. For a very description of the construction of the subject of the seem to be different to is extending the status and the [[Languabla]] and [[Island]] and [[Alan Constantine]].  === External links ===  * [[Canadian Cantorol College]] * [[Indian Islam (album)|Stan Chile]] (1985-1999) * [[The Life Rail of Mansala]] * [[Albania]] * [[The Sea]] ([[Niconduction of the English]] *[[Charles of House of Channel Paces of the [[British Testament|Provinces]] that the first of the [[successful community]] wa"
     ]
    },
    {
     "name": "stderr",
     "output_type": "stream",
     "text": [
      "\r",
      "  2%|█▌                                                                     | 22501/1000000 [11:57<267:33:45,  1.01it/s]"
     ]
    },
    {
     "name": "stdout",
     "output_type": "stream",
     "text": [
      "\n"
     ]
    },
    {
     "name": "stderr",
     "output_type": "stream",
     "text": [
      "  2%|█▊                                                                       | 23997/1000000 [12:40<5:22:08, 50.50it/s]"
     ]
    },
    {
     "name": "stdout",
     "output_type": "stream",
     "text": [
      "epoch24000: 2.136 bits per byte\n",
      "[electrons.\n",
      "\n",
      "=== Hydrogen bonding] to the main [[China]] and [[Mather II]] were seen to a structure in the stage of the [[Black Script]] ([[List of the German|President]], [[Native (music)|David Lingua]] | [[Anarch Brazil]] |- |[[April Lithodor]] |[[George William Person]] | '''[[Elsions Standard Distributions|Macas]], [[University]] |- |[[Category:1964 billion of the Elements of the [[Spaint music]] as [[China]] and [[Albanka|Paradian Empire]] and [[List of the England]] ([[1989]]) *[[1960]] - [[January 2]], [[1966]] |- |[[1964]] |[[January 1]] |[[1948]] |[[1937]] || [[180 AL (2]] || 8 || [[Flamin|200||10]] || [[19 || [[160]]"
     ]
    },
    {
     "name": "stderr",
     "output_type": "stream",
     "text": [
      "\r",
      "  2%|█▋                                                                     | 24001/1000000 [12:44<263:32:58,  1.03it/s]"
     ]
    },
    {
     "name": "stdout",
     "output_type": "stream",
     "text": [
      "\n"
     ]
    },
    {
     "name": "stderr",
     "output_type": "stream",
     "text": [
      "  3%|█▊                                                                       | 25496/1000000 [13:14<5:23:47, 50.16it/s]"
     ]
    },
    {
     "name": "stdout",
     "output_type": "stream",
     "text": [
      "epoch25500: 2.113 bits per byte\n",
      "[4-&lt;/code&gt;\n",
      "|- align=&quot;c]enter&gt;                                                                         <username>         <id>15902</id>       </contributor>       <text xml:space=\"preserve\">#REDIRECT [[Commics]] and [[South America]].  == External links == * [[Prince and Similian language|Contribution]] of [[History of the United Kingdom]] ([[197 Indonesia]"
     ]
    },
    {
     "name": "stderr",
     "output_type": "stream",
     "text": [
      "\r",
      "  3%|█▊                                                                       | 25496/1000000 [13:30<5:23:47, 50.16it/s]"
     ]
    },
    {
     "name": "stdout",
     "output_type": "stream",
     "text": [
      "]) *[[1960]] - [[Communist Richard]], [[Cattle Ricards]], [[Carthomer]] ([[Polish Indiana]]) * [[Slovade of the Derive South American and the Barrian Butter Holden Berker]] *[[Charles Carante]] * [[China]] * [[List of the Germany]] * [[Letter Boys Book of Alas "
     ]
    },
    {
     "name": "stderr",
     "output_type": "stream",
     "text": [
      "\r",
      "  3%|█▊                                                                     | 25501/1000000 [13:31<248:17:50,  1.09it/s]"
     ]
    },
    {
     "name": "stdout",
     "output_type": "stream",
     "text": [
      "\n"
     ]
    },
    {
     "name": "stderr",
     "output_type": "stream",
     "text": [
      "  3%|█▉                                                                       | 26999/1000000 [14:01<5:21:42, 50.41it/s]"
     ]
    },
    {
     "name": "stdout",
     "output_type": "stream",
     "text": [
      "epoch27000: 2.117 bits per byte\n",
      "[two parts:\n",
      "* network number &amp];mdash; [[Serious Pologitan Spanish]] *[[Londor British National Programs and the [[New British name|Car]] &lt;sup&gt;2&lt;/sub&gt; in its a base and with the first had and the countries of the [[British Films]] and [[Bock of the Biography]] and [[Liberation of the United States| || 1998 || 21 || 2 || 3.4||||| || ||| || || ||| 1||| ||| ||| || ||| ||| |||| ||| || ||| ||| ||  ||| ||| ||| ||| || ||| || ||| ||  ||| ||| ||| ||| ||| ||| ||| ||| ||| ||| {{R-2}} ||| }} |- |{{Elematic}} | [[Carl Chandrick Academy]] |- | [[Australia (1993)|John Edwards Doctor]]) * [[American property]], [[1917]] and [[1\n"
     ]
    },
    {
     "name": "stderr",
     "output_type": "stream",
     "text": [
      "  3%|██                                                                       | 28495/1000000 [15:00<5:22:03, 50.28it/s]"
     ]
    },
    {
     "name": "stdout",
     "output_type": "stream",
     "text": [
      "epoch28500: 2.1 bits per byte\n",
      "[ty, and excellence. This is fore] three states and brand to decimal that any her to a member of the state the main [[season]] and [[computer professional group of the [[John London]]. The [[Scriptive Treaty (programmer from the Computer systems to signal [[inform language]] and [[experimentary language]] was not concepted by the [[state]] to assisted the domination of the series reported to support growing the form of the [[Fancist Albert]] and [[National Council]] at the [[Charles Sera]] and [[John March]] ([[1976]]) *[[1976]] - [[Parliamentary Arthur Discovery]], and [[Daniel]], [[1907]], [[Alexander Africa]], [[Saint Marin"
     ]
    },
    {
     "name": "stderr",
     "output_type": "stream",
     "text": [
      "\r",
      "  3%|██                                                                     | 28501/1000000 [15:06<235:22:12,  1.15it/s]"
     ]
    },
    {
     "name": "stdout",
     "output_type": "stream",
     "text": [
      "\n"
     ]
    },
    {
     "name": "stderr",
     "output_type": "stream",
     "text": [
      "  3%|██▏                                                                      | 29998/1000000 [15:50<5:21:30, 50.28it/s]"
     ]
    },
    {
     "name": "stdout",
     "output_type": "stream",
     "text": [
      "epoch30000: 2.091 bits per byte\n",
      "[ername>Tarquin</username>\n",
      "      ]  <id>79881</id>       </contributor>       <minor />       <comment>/* External links and Weeks with the Central English produced by the script of the driven in the time to remain at the side the people of the long of the subject is the doctrine destruction are believed by the second side of the world. The [[Ireland]] in [[1999]], and in the [[Germany|Palestin]] and [[French in the Hellen December]] - [[Germany Latin]], [[American system]], the [[Story of the Storm]] and in the [[Soviet Asian English Red States]] were protected the [[Alfonso Communisty|Hearts British British Colombian and Afr"
     ]
    },
    {
     "name": "stderr",
     "output_type": "stream",
     "text": [
      "\r",
      "  3%|██▏                                                                    | 30001/1000000 [15:53<273:50:30,  1.02s/it]"
     ]
    },
    {
     "name": "stdout",
     "output_type": "stream",
     "text": [
      "\n"
     ]
    },
    {
     "name": "stderr",
     "output_type": "stream",
     "text": [
      "  3%|██▎                                                                      | 31495/1000000 [16:23<5:19:22, 50.54it/s]"
     ]
    },
    {
     "name": "stdout",
     "output_type": "stream",
     "text": [
      "epoch31500: 2.082 bits per byte\n",
      "[art with Genesis. I start with J]ay and British extensive concerns at the south of the [[Paramas]] (American and Control Revolution) * [http://www.asht.com/missions/lority/1003.htm Shee was exerted in the [[1960s]] and [[1966]] the [[Boston Computer County]], [[New Project]], [[Bart British]] (1995) - [[Asia]] * [[Alpha British language|American provided in the [[1996]]. The [[Dominication of December 1996]] [[Category:1980s developed by [[Mary 19]] and [[1924]] the [[1890s]]), and [[2000]], [[English language]], and the [[Control Parliament]] and [[Steve Tr"
     ]
    },
    {
     "name": "stderr",
     "output_type": "stream",
     "text": [
      "\r",
      "  3%|██▎                                                                      | 31495/1000000 [16:40<5:19:22, 50.54it/s]"
     ]
    },
    {
     "name": "stdout",
     "output_type": "stream",
     "text": [
      "eaty]] in the [[Christian Common]] set the country of the [[New York]"
     ]
    },
    {
     "name": "stderr",
     "output_type": "stream",
     "text": [
      "\r",
      "  3%|██▏                                                                    | 31501/1000000 [16:40<238:47:14,  1.13it/s]"
     ]
    },
    {
     "name": "stdout",
     "output_type": "stream",
     "text": [
      "\n"
     ]
    },
    {
     "name": "stderr",
     "output_type": "stream",
     "text": [
      "  3%|██▍                                                                      | 32995/1000000 [17:10<5:19:56, 50.37it/s]"
     ]
    },
    {
     "name": "stdout",
     "output_type": "stream",
     "text": [
      "epoch33000: 2.078 bits per byte\n",
      "[h [[New World Order (conspiracy)]|English region]]) to see [[general of the settlement]] and [[community]] in [[1981]], and in the [[1970s]] the [[1950s]] and [[1996]] [[1926]].  It is also make the king of the [[Apollo 1]], and [[Antoniha]], and [[International Indian American Manuel's market for the [[Europe]] to the power of [[Egypt]] and the [[Antarctic State]], which was represent to level party canon energy considered a discovered university of which for its first market as separately in the [[1960s]] and [[1950]] and [[186]] bits in the [[1920s]].  He was in the [[The Sarah]] and [[African Emperor]], [[Parliam (particu"
     ]
    },
    {
     "name": "stderr",
     "output_type": "stream",
     "text": [
      "\r",
      "  3%|██▎                                                                    | 33001/1000000 [17:27<234:55:59,  1.14it/s]"
     ]
    },
    {
     "name": "stdout",
     "output_type": "stream",
     "text": [
      "\n"
     ]
    },
    {
     "name": "stderr",
     "output_type": "stream",
     "text": [
      "  3%|██▌                                                                      | 34497/1000000 [18:10<5:18:27, 50.53it/s]"
     ]
    },
    {
     "name": "stdout",
     "output_type": "stream",
     "text": [
      "epoch34500: 2.068 bits per byte\n",
      "[cation, and security &amp;mdash;] between the support of the [[Saint University Company|order]] (1920), [[West Holly]] and [[The Briss of the Lords of Society of second in the [[United States]] (and [[Anthropologist]]) *[[1924]] - [[Andersian Constitution]] - [[Prince (mathematics)|March]] and [[John France]], [[Luis Tongo (mathematics)|Judaism]], and [[Sharaten]], [[Milen]], and [[International Constitution of Berlin (except on [[alk]] and [[head of computer]]s and [[negates|electronic]], and [[activity]], and [[order]], the [[scription]] continued to [[him]] and [[the group]]s and [[section]] when the dependence of the [[Bo\n"
     ]
    },
    {
     "name": "stderr",
     "output_type": "stream",
     "text": [
      "  4%|██▋                                                                      | 35998/1000000 [18:44<5:21:43, 49.94it/s]"
     ]
    },
    {
     "name": "stdout",
     "output_type": "stream",
     "text": [
      "epoch36000: 2.06 bits per byte\n",
      "[ndividual ownership of the produ]ction of the [[Antimation of Commons]] and [[Canada]] and [[Crickets]], the [[Constantinope]] ([[European Conference]]) support and the round his work "
     ]
    },
    {
     "name": "stderr",
     "output_type": "stream",
     "text": [
      "\r",
      "  4%|██▋                                                                      | 35998/1000000 [19:00<5:21:43, 49.94it/s]"
     ]
    },
    {
     "name": "stdout",
     "output_type": "stream",
     "text": [
      "of her democrats and propertion of the server and the first face in [[sent]] and [[spaces maniformation]] in [[2005]] to the [[List of Brooke]] and [[Hebrew England]], and [[Kylan]], [[Scottish Republic]], [[Anthropologise]], a person of the final strong it the approximation in the states of the [[William Charles Company]] (However, and result of the [[March of Democratic Age]] ([[1866]]&amp;nbsp;[[2001]]) *[[1864]] - [[Martin South America]] | "
     ]
    },
    {
     "name": "stderr",
     "output_type": "stream",
     "text": [
      "\r",
      "  4%|██▌                                                                    | 36001/1000000 [19:02<305:30:24,  1.14s/it]"
     ]
    },
    {
     "name": "stdout",
     "output_type": "stream",
     "text": [
      "\n"
     ]
    },
    {
     "name": "stderr",
     "output_type": "stream",
     "text": [
      "  4%|██▋                                                                      | 37496/1000000 [19:32<5:22:37, 49.72it/s]"
     ]
    },
    {
     "name": "stdout",
     "output_type": "stream",
     "text": [
      "epoch37500: 2.06 bits per byte\n",
      "[transporting and accommodating t]he development of the dead of the [[List of Manuagus]], [[April 2004]], [[1996]], a publication of [[Germany]], which has a sequence as a personal and settled from the [[Sunday Andrew Canadian]], and [[Canada]], [[Canada]], [[Landa]], [[New York]], [[Johann January]], [[1967]], [[1963]], [[1997]], [[1999]] |- | [[1911 BJA|48]]||[[2005 BC]] |- || [[Flame Manister]] | [[List of many consideration|according service]] in [[1917]], the [[Greece]] was the second in the [[Alexander Hall]] and [[South America]] and [[Nation"
     ]
    },
    {
     "name": "stderr",
     "output_type": "stream",
     "text": [
      "\r",
      "  4%|██▋                                                                      | 37496/1000000 [19:50<5:22:37, 49.72it/s]"
     ]
    },
    {
     "name": "stdout",
     "output_type": "stream",
     "text": [
      "al Council of Mariana]], [[April 2000]] in the [[United Kingdom|1996]] | [[1989"
     ]
    },
    {
     "name": "stderr",
     "output_type": "stream",
     "text": [
      "\r",
      "  4%|██▋                                                                    | 37501/1000000 [19:50<284:47:40,  1.07s/it]"
     ]
    },
    {
     "name": "stdout",
     "output_type": "stream",
     "text": [
      "\n"
     ]
    },
    {
     "name": "stderr",
     "output_type": "stream",
     "text": [
      "  4%|██▊                                                                      | 38997/1000000 [20:20<5:20:54, 49.91it/s]"
     ]
    },
    {
     "name": "stdout",
     "output_type": "stream",
     "text": [
      "epoch39000: 2.046 bits per byte\n",
      "[the 19th century. The Dutch lost] distinct and the [[Roman Catholic County]]. The Anglo-Arab is included and the restoration of [[France]] and [[Europe]], [[Smartine]] and [[Classical Consequently]] and [[South America]], [[German South American League]] *[[Sadier]] *[[List of the Barta]] *[[Cornish position of Liberation and the same category of [[Bastal Bellaudi]], [[Mother Party]] and [[Germany]] ([[161]]) is a specialization of the [[Sander of America]] and the [[South American American]] by [[North American Alexander III]] in [[1978]], the [[Angeles of Arabic provinces]] to be the [[Medical Power of Mathematics|Allegory \n"
     ]
    },
    {
     "name": "stderr",
     "output_type": "stream",
     "text": [
      "  4%|██▉                                                                      | 40496/1000000 [21:20<5:19:08, 50.11it/s]"
     ]
    },
    {
     "name": "stdout",
     "output_type": "stream",
     "text": [
      "epoch40500: 2.045 bits per byte\n",
      "[[[County Tyrconnel|Tyrconnel]]\n",
      "|] class=&quot;wikitable&quot; align=&quot;center&quot; | 1997 | align=&quot;center&quot; cellspacing=&quot;2&quot; now &quot;Ellesst Emperor [[Wallace Party]] and [[Hesbert (musician composition of the string considered a result of the age of [[Colorado Press]], the term of a large book of the domestic strong or [[church language]]s in the [[Boston War II]]. The stone of the continued to the traditional consider of the [[Most Mariting European Thosphorise of Constantinople'' * [[Handis Sport]] (see [[Maniformation]] [[1947]] of the [[British Roman Single]].  ==External links== *[http://www.alle"
     ]
    },
    {
     "name": "stderr",
     "output_type": "stream",
     "text": [
      "\r",
      "  4%|██▉                                                                    | 40501/1000000 [21:25<250:33:48,  1.06it/s]"
     ]
    },
    {
     "name": "stdout",
     "output_type": "stream",
     "text": [
      "\n"
     ]
    },
    {
     "name": "stderr",
     "output_type": "stream",
     "text": [
      "  4%|███                                                                      | 42000/1000000 [21:55<5:18:22, 50.15it/s]"
     ]
    },
    {
     "name": "stdout",
     "output_type": "stream",
     "text": [
      "epoch42000: 2.037 bits per byte\n",
      "[beth II]] appointed him a [[Orde]r Democracy]] and [[French language|French Wales]] for the [[Several Science Stephens]] in [[1900]], [[April 12]], [[1997]], [[Industrial State]], [[India]], [[Industrian]], [[Cave Station]], [[United States]], and [[The American Salicia]], [[The Briton (John Charles)|Jerusal Alexander]]"
     ]
    },
    {
     "name": "stderr",
     "output_type": "stream",
     "text": [
      "\r",
      "  4%|███                                                                      | 42000/1000000 [22:10<5:18:22, 50.15it/s]"
     ]
    },
    {
     "name": "stdout",
     "output_type": "stream",
     "text": [
      ", American and [[Indo-Centrol College]] works in this modern source makes a possible to support the [[activity]] services. This is a comparable to the resulting of the [[United States of Tongalist Committee of the English and the [[Son Bowl Problem subject]], German actor and engineers and in the company of the"
     ]
    },
    {
     "name": "stderr",
     "output_type": "stream",
     "text": [
      "\r",
      "  4%|██▉                                                                    | 42001/1000000 [22:11<302:32:55,  1.14s/it]"
     ]
    },
    {
     "name": "stdout",
     "output_type": "stream",
     "text": [
      "\n"
     ]
    },
    {
     "name": "stderr",
     "output_type": "stream",
     "text": [
      "  4%|███▏                                                                     | 43500/1000000 [22:41<5:18:42, 50.02it/s]"
     ]
    },
    {
     "name": "stdout",
     "output_type": "stream",
     "text": [
      "epoch43500: 2.029 bits per byte\n",
      "[as one number for each individua]l and discovered by extreme to the [[List of the Card]] was also the [[Postume of God States]].  The science and person with months and most common of the potation of his only way for the ''[[Stream and the County Sox]]''' (1995) and [[Macinto Astronomical Acts]] and [[Ancient Orthodox]], [[Shannon]], [[South America]], [[Singer Benson]], [[New York Islamic Sates]], [[South Africa]]. The character the [[Eender Monster Prophetic]] ([[1915]]) * [[Automated Athenia]] ([[Altar BDS]]) and [[Europe]]s and [[Image:Automan-American Forges.jpg|thumb|30px|right|thumby the first of the began controlled b\n"
     ]
    },
    {
     "name": "stderr",
     "output_type": "stream",
     "text": [
      "  4%|███▎                                                                     | 44999/1000000 [23:40<5:19:06, 49.88it/s]"
     ]
    },
    {
     "name": "stdout",
     "output_type": "stream",
     "text": [
      "epoch45000: 2.014 bits per byte\n",
      "[r the civil war, which [[Cumann ]Earth]], [[Catholicism]], [[Kathaan John Schological Association of the Free concerns for the protestant colors of consider of the earliest [[Christian Internet]] in [[Western War]] and [[Walles Corporation]] (see [[California Wars]], [[Market Works]] and the [[United States University]] and [[Islamic Culture]] in the 1990s, and city to produce a constitution of [[John Burken Bally]] and [[December 19]] [[1959]]). In [[1979]], [[1986]], and [[1985]] and [[1878]], [[American Effective Army Halley]] [[Category:English priest secondary|Politics]] second and editor of the countries of the electrol"
     ]
    },
    {
     "name": "stderr",
     "output_type": "stream",
     "text": [
      "\r",
      "  5%|███▏                                                                   | 45001/1000000 [23:47<306:46:44,  1.16s/it]"
     ]
    },
    {
     "name": "stdout",
     "output_type": "stream",
     "text": [
      "\n"
     ]
    },
    {
     "name": "stderr",
     "output_type": "stream",
     "text": [
      "  5%|███▍                                                                     | 46498/1000000 [24:30<5:17:14, 50.09it/s]"
     ]
    },
    {
     "name": "stdout",
     "output_type": "stream",
     "text": [
      "epoch46500: 2.011 bits per byte\n",
      "[ming duty in a nuclear missile s]ense of the [[social second states]] in the [[United Kingdom]], which are not interior of the government computers to be seen in the [[1940s the century]] low a match of the [[African Spain]] or [[Sander Schools]], and the first particular and the [[Forest Computer College]], and the [[19th century called in the people's position of the [[Subsequence of Andrew and States of the [[United States University]] (who have no see [[Battle of Books]].   The earlier [[Brownich of the United Kingdom]] that is an armed political composers of the [[British Story]] (1961) * [[Superior of Supporter]] ([[192"
     ]
    },
    {
     "name": "stderr",
     "output_type": "stream",
     "text": [
      "\r",
      "  5%|███▎                                                                   | 46501/1000000 [24:35<284:17:04,  1.07s/it]"
     ]
    },
    {
     "name": "stdout",
     "output_type": "stream",
     "text": [
      "\n"
     ]
    },
    {
     "name": "stderr",
     "output_type": "stream",
     "text": [
      "  5%|███▌                                                                     | 47996/1000000 [25:05<5:19:49, 49.61it/s]"
     ]
    },
    {
     "name": "stdout",
     "output_type": "stream",
     "text": [
      "epoch48000: 2.02 bits per byte\n",
      "[s by the U.S. Navy, the cruiser ]to the most common and desert to the constantine was a function of the [[Carolina Clinton]] and [[World "
     ]
    },
    {
     "name": "stderr",
     "output_type": "stream",
     "text": [
      "\r",
      "  5%|███▌                                                                     | 47996/1000000 [25:20<5:19:49, 49.61it/s]"
     ]
    },
    {
     "name": "stdout",
     "output_type": "stream",
     "text": [
      "War II]]. The [[United States American America]], [[Although Tenness]], [[John Britain]], [[Malay 4]], [[1855]] &amp;ndash; [[1930]] - [[Allen Dominica]], American (completed by [[Standard College]] [[Soviet State]]s and [[List of Republic of Australian Americas and a complex of [[Guide (computing)|car]] and [[Betarian performance]] not destroyed by [[March 13]], [[1950]] - [[Martin William]], [[Star Bundy]], [[State of the Stanley Athenians|Athlicist]] and [[French computer]]s.  The state o"
     ]
    },
    {
     "name": "stderr",
     "output_type": "stream",
     "text": [
      "\r",
      "  5%|███▍                                                                   | 48001/1000000 [25:22<283:08:52,  1.07s/it]"
     ]
    },
    {
     "name": "stdout",
     "output_type": "stream",
     "text": [
      "\n"
     ]
    },
    {
     "name": "stderr",
     "output_type": "stream",
     "text": [
      "  5%|███▌                                                                     | 49499/1000000 [25:52<5:16:16, 50.09it/s]"
     ]
    },
    {
     "name": "stdout",
     "output_type": "stream",
     "text": [
      "epoch49500: 2.003 bits per byte\n",
      "[Indianapolis===\n",
      "Since 1984, the ][[Hall of the Communist of Browned and the [[Eric (governor)|Europe]] ([[Secretary school]]) * [[List of computer design]] (the [[19th century|1994]], where he was a little and the [[All Saints]] received the [[Harvard George Berner]] and [[Baseball and European action of [[Communist of Elizabeth and Germany extensively as well as a few mathematical control of the [[Buch Army]] and [[Russia]] in [[1960]].  In [[1943]] was a trapl faced from the [[Book of Marine]] of the companies are common from the never policy for the street of the [[Berline Boy]] and [[House of Babylon]] of the [[Bayer Int"
     ]
    },
    {
     "name": "stderr",
     "output_type": "stream",
     "text": [
      "\r",
      "  5%|███▌                                                                     | 49499/1000000 [26:10<5:16:16, 50.09it/s]"
     ]
    },
    {
     "name": "stdout",
     "output_type": "stream",
     "text": [
      "e"
     ]
    },
    {
     "name": "stderr",
     "output_type": "stream",
     "text": [
      "\r",
      "  5%|███▌                                                                   | 49501/1000000 [26:10<292:34:13,  1.11s/it]"
     ]
    },
    {
     "name": "stdout",
     "output_type": "stream",
     "text": [
      "\n"
     ]
    },
    {
     "name": "stderr",
     "output_type": "stream",
     "text": [
      "  5%|███▋                                                                     | 50995/1000000 [26:50<5:15:38, 50.11it/s]"
     ]
    },
    {
     "name": "stdout",
     "output_type": "stream",
     "text": [
      "epoch51000: 2.007 bits per byte\n",
      "[ Exhibition Rotherhithe, 1992, I]SBN 0-276-1077-1991 * [[Christmas Alerica]] ([[Ancient Republic]] [[Party]] (Technical Anderson Catholic Communities in most surrounding the [[St National Technology]] ([[State Street]] and the death of the [[Blogo]] and [[Magazine]] and the [[March of Wallon]] between the full desert of the [[Europe]] experience requires are used for the first in the [[British Congress]] of [[Loyal Legislation]] in the [[United States]] concepts of the [[September 20]] [[1950]] [[special programming]] and [[computer mathematics]], and [[state start to company|explanating]], and is sometimes of the remained in"
     ]
    },
    {
     "name": "stderr",
     "output_type": "stream",
     "text": [
      "\r",
      "  5%|███▌                                                                   | 51001/1000000 [26:57<232:25:36,  1.13it/s]"
     ]
    },
    {
     "name": "stdout",
     "output_type": "stream",
     "text": [
      "\n"
     ]
    },
    {
     "name": "stderr",
     "output_type": "stream",
     "text": [
      "  5%|███▊                                                                     | 52500/1000000 [27:40<5:15:36, 50.04it/s]"
     ]
    },
    {
     "name": "stdout",
     "output_type": "stream",
     "text": [
      "epoch52500: 2.002 bits per byte\n",
      "[arly numbered Japan Airlines fli]ght. The relation of the patient of the programming became the following post carries are the considerable powers to the Constitution and the process of the function of his complete into the position of the country of control and used as the above season, and responsible number of totals and consisting the international construction of the History of Company and Scotland of College and the [[Parliament of the United States]] and the [[United States]] in the [[1990s]], the first consider the second were considered from the [[Arthur States of Article]] and [[Navigation Computer]].  The [[San Aug"
     ]
    },
    {
     "name": "stderr",
     "output_type": "stream",
     "text": [
      "\r",
      "  5%|███▋                                                                   | 52501/1000000 [27:44<308:51:02,  1.17s/it]"
     ]
    },
    {
     "name": "stdout",
     "output_type": "stream",
     "text": [
      "\n"
     ]
    },
    {
     "name": "stderr",
     "output_type": "stream",
     "text": [
      "  5%|███▉                                                                     | 53997/1000000 [28:14<5:15:37, 49.95it/s]"
     ]
    },
    {
     "name": "stdout",
     "output_type": "stream",
     "text": [
      "epoch54000: 1.999 bits per byte\n",
      "[mp;nbsp;||[[Ï]]||style=&quot;ba]ckground: #10 || [[List of computer part been as a [[major collection by the China consider to contain a computer current in the late 1990s million as the [[La"
     ]
    },
    {
     "name": "stderr",
     "output_type": "stream",
     "text": [
      "\r",
      "  5%|███▉                                                                     | 53997/1000000 [28:30<5:15:37, 49.95it/s]"
     ]
    },
    {
     "name": "stdout",
     "output_type": "stream",
     "text": [
      "tin (seek of the content)|Hebrew]] [[particularly relations]] and [[metal system|computable]] and [[constitutional science from the modern solid in the secure of the [[Bridge]] ([[1969]]) * [[Carnegies of Cantor of English Consequently part of the Revolutionary President of the [[Chemica]] and [[Continental Constitutional Concertion of the September of [[1932]] to [[1886]].  ==See also== {{imdball| |- | align=&quot;center&quot; | [[Archi"
     ]
    },
    {
     "name": "stderr",
     "output_type": "stream",
     "text": [
      "\r",
      "  5%|███▊                                                                   | 54001/1000000 [28:32<271:16:44,  1.03s/it]"
     ]
    },
    {
     "name": "stdout",
     "output_type": "stream",
     "text": [
      "\n"
     ]
    },
    {
     "name": "stderr",
     "output_type": "stream",
     "text": [
      "  6%|████                                                                     | 55495/1000000 [29:02<5:14:13, 50.10it/s]"
     ]
    },
    {
     "name": "stdout",
     "output_type": "stream",
     "text": [
      "epoch55500: 2.001 bits per byte\n",
      "[scussed during examination in ch]aracterized by the [[United States]] and [[United States]] and [[Angelica]] and [[Electronic language|English]] in [[Greece]] and [[Golding Greek]], [[President of Salina]], [[David (disambiguation)]], [[March 18]], [[1996]], [[1992]], in [[1959]]. The capital is also considered the belief that a state and superious manufacturers of the [[North College]] ([[1971]]) and [[1992]] ([[1998]]) * ''[[Australian Party]]'' ([[1999]]) ([[1972]]) and [[1996]] (an [[1982]] - [[Polyn]] [[variation]] and the [[environmental language|entries of the first terms]] in the [[1990s]] has a commercial serve for t"
     ]
    },
    {
     "name": "stderr",
     "output_type": "stream",
     "text": [
      "\r",
      "  6%|███▉                                                                   | 55501/1000000 [29:19<227:56:44,  1.15it/s]"
     ]
    },
    {
     "name": "stdout",
     "output_type": "stream",
     "text": [
      "\n"
     ]
    },
    {
     "name": "stderr",
     "output_type": "stream",
     "text": [
      "  6%|████▏                                                                    | 56999/1000000 [30:00<5:15:15, 49.85it/s]"
     ]
    },
    {
     "name": "stdout",
     "output_type": "stream",
     "text": [
      "epoch57000: 1.994 bits per byte\n",
      "[o-European language broke up, it] is a release to promotor the original population can be supported to the transportation and only to provide a particular state eastern and based on the original state in the stars of a string company and the destroyer (d. [[1961]]) *[[1918]] - [[Saudi (memorability)|Month Rome]] described the [[Saints College of the President and [[North American Australians|National China]] ([[1960]]-[[1978]], [[1991]]) was an [[astronomy (computer synthesis)|accessyrace]], which contrasted the largest region of the constitution of the strength century and the party of [[New Zealand Australia]] and [[Amazon "
     ]
    },
    {
     "name": "stderr",
     "output_type": "stream",
     "text": [
      "\r",
      "  6%|████                                                                   | 57001/1000000 [30:07<317:45:11,  1.21s/it]"
     ]
    },
    {
     "name": "stdout",
     "output_type": "stream",
     "text": [
      "\n"
     ]
    },
    {
     "name": "stderr",
     "output_type": "stream",
     "text": [
      "  6%|████▎                                                                    | 58495/1000000 [30:50<5:11:30, 50.37it/s]"
     ]
    },
    {
     "name": "stdout",
     "output_type": "stream",
     "text": [
      "epoch58500: 1.996 bits per byte\n",
      "[etation; specific rules might ex]perience and the [[Assembly Republic]] recording the [[Guatemala Month God of Project (May 1996). The [[United Kingdom]] in [[1989]].  The [[Marine Romanus|May Bank]] or [[Last Asimous Country]], and [[Sherican and China|Council]] is a contrary of [[anti-election]].   ===The term and also=== * [http://www.gressings.com/from the prophet of [[Party Party]].   === External links === * [http://www.hat.blogs.com/script/revolution/ Anthropologists of [[Australia]]. The early became the [[United States]].  The first of the last first visit stations of the [[computer station]] and [[South American Ste"
     ]
    },
    {
     "name": "stderr",
     "output_type": "stream",
     "text": [
      "\r",
      "  6%|████▏                                                                  | 58501/1000000 [30:54<238:08:16,  1.10it/s]"
     ]
    },
    {
     "name": "stdout",
     "output_type": "stream",
     "text": [
      "\n"
     ]
    },
    {
     "name": "stderr",
     "output_type": "stream",
     "text": [
      "  6%|████▍                                                                    | 59998/1000000 [31:24<5:11:30, 50.29it/s]"
     ]
    },
    {
     "name": "stdout",
     "output_type": "stream",
     "text": [
      "epoch60000: 1.988 bits per byte\n",
      "[d studies)\n",
      "# Climate is expected] in the [[Complain]] of the [[The Party of Song March (1984)|The Company]]'' ([[1999]]) *''[[Scotland]]'' *''[[Merchant Tinesses of"
     ]
    },
    {
     "name": "stderr",
     "output_type": "stream",
     "text": [
      "\r",
      "  6%|████▍                                                                    | 59998/1000000 [31:40<5:11:30, 50.29it/s]"
     ]
    },
    {
     "name": "stdout",
     "output_type": "stream",
     "text": [
      " the Sans]], so the [[Chordate company]] for the [[World French]] (1997).  The [[Sun Sarinism]] ([[1963]]) * [[Convention of the Soviet Union]] for the [[United States|Catholic Sea]] which is the [[Glace Republic]] [[executive computer]] and [[economy of computer]]s and complete the [[Canada]] is a previous service of [[complex county]] and [[Construction]] and came to the theme of the [[United States of Antiles]] and [[Asia Alexander (United States)|Act of Arab]] "
     ]
    },
    {
     "name": "stderr",
     "output_type": "stream",
     "text": [
      "\r",
      "  6%|████▎                                                                  | 60001/1000000 [31:42<280:23:32,  1.07s/it]"
     ]
    },
    {
     "name": "stdout",
     "output_type": "stream",
     "text": [
      "\n"
     ]
    },
    {
     "name": "stderr",
     "output_type": "stream",
     "text": [
      "  6%|████▍                                                                    | 61498/1000000 [32:12<5:09:49, 50.49it/s]"
     ]
    },
    {
     "name": "stdout",
     "output_type": "stream",
     "text": [
      "epoch61500: 1.981 bits per byte\n",
      "[&lt;TD&gt;&lt;FONT SIZE=&quot;1&]quot; align=&quot;center&quot; | [[Corporation]] | accessdeath = [[1917]] | align=&quot;center&quot; | 1993 || &amp;#1516; &amp;#103;&amp;#1087;&amp;#1091;&amp;#1498;&amp;#1001;&amp;#1087;&amp;#1095;&amp;#1489;&amp;#1074;&amp;#15882;&amp;#1511;&amp;#1081; &amp;#1085;&amp;#1070;&amp;#1079;&amp;#1086;&amp;#1481;]] [[de:Frank Hindi]] [[eo:French Colloquine]] [[es:Anton Karena]] [[es:Alexander]] [[es:Allea]] [[eo:Astrona]] [[es:Aberdo]] [[eo:Alexander Bart]] [[fr:Anda Battle of Minor Bart]] [[Category:1990 Alberta Conservations of the Communication of the Canadian die of English will almost expres\n"
     ]
    },
    {
     "name": "stderr",
     "output_type": "stream",
     "text": [
      "  6%|████▌                                                                    | 62996/1000000 [33:10<5:09:32, 50.45it/s]"
     ]
    },
    {
     "name": "stdout",
     "output_type": "stream",
     "text": [
      "epoch63000: 1.98 bits per byte\n",
      "[rn-day [[Chile]], and extended i]n the [[United Kingdom]] and the [[State of the Charles and Shannon on early after the marriage. The group which can be used to be transported by a story for the first [[benzolous constitution]] and [[sentence]] in the [[parallel]] and [[political programming language|publication]] and [[biology]] of short and development of the early 19th century and structures the popular of the constitution of the [[Athletic]] and [[Arabic language|Anthrono]] products and sometimes produces of the [[Minor of Murray]] and [[Mary Bene]], and [[Iran]], [[Party]], [[International Cup]], [[Pinetic language|Portu"
     ]
    },
    {
     "name": "stderr",
     "output_type": "stream",
     "text": [
      "\r",
      "  6%|████▍                                                                  | 63001/1000000 [33:19<268:40:49,  1.03s/it]"
     ]
    },
    {
     "name": "stdout",
     "output_type": "stream",
     "text": [
      "\n"
     ]
    },
    {
     "name": "stderr",
     "output_type": "stream",
     "text": [
      "  6%|████▋                                                                    | 64495/1000000 [34:00<5:09:44, 50.34it/s]"
     ]
    },
    {
     "name": "stdout",
     "output_type": "stream",
     "text": [
      "epoch64500: 1.979 bits per byte\n",
      "[ but rather must say, ''I want h]is bis and the first places of the popular particular biological popular or &quot;the country&quot; of the [[United States of the Art of the Senate of the Space of the [[South American Christians]]) and the [[Asia Barname Maria]] and [[California]] and [[European Champions]], [[El Earth]], [[Iran]], [[Sterling Socialist]] and [[Pennet Social Church|President Chinese]] (Internet [[Earth]]), which is a particular exception of the same terminology at [[Alaman China]] with the [[Spanish of Tore]] and [[Single (good)|Super Korea]].   [[Category:Carolina restrictions of the process of the [[1990s]] "
     ]
    },
    {
     "name": "stderr",
     "output_type": "stream",
     "text": [
      "\r",
      "  6%|████▌                                                                  | 64501/1000000 [34:05<225:08:38,  1.15it/s]"
     ]
    },
    {
     "name": "stdout",
     "output_type": "stream",
     "text": [
      "\n"
     ]
    },
    {
     "name": "stderr",
     "output_type": "stream",
     "text": [
      "  7%|████▊                                                                    | 65996/1000000 [34:35<5:11:21, 50.00it/s]"
     ]
    },
    {
     "name": "stdout",
     "output_type": "stream",
     "text": [
      "epoch66000: 1.977 bits per byte\n",
      "[ehind Australia.\n",
      "\n",
      "Sunday [[19 Ju]ne]], [[1942]], [[1844]], [[1992]] "
     ]
    },
    {
     "name": "stderr",
     "output_type": "stream",
     "text": [
      "\r",
      "  7%|████▊                                                                    | 65996/1000000 [34:50<5:11:21, 50.00it/s]"
     ]
    },
    {
     "name": "stdout",
     "output_type": "stream",
     "text": [
      "*[[1961]] - [[Frederick Institute of Congress|Chinese]] [[Category:Peoples of Persians|Roman Empire]] to the [[Computer Commission]] were also religious to be an advantage in the major country of the south of the [[North American American]] and the [[New York City]], who was the state of the films are often developed the state of the [[Belgium]] or [[chemical theory]], the [[state of some considerable to the family of the [[Anti-Semitism]] to the [[United States]] and [[Athanasia]] and [[American God]] and [[Australia]] and [[Albert Auto]] and [[Computer gove"
     ]
    },
    {
     "name": "stderr",
     "output_type": "stream",
     "text": [
      "\r",
      "  7%|████▋                                                                  | 66001/1000000 [34:53<245:12:16,  1.06it/s]"
     ]
    },
    {
     "name": "stdout",
     "output_type": "stream",
     "text": [
      "\n"
     ]
    },
    {
     "name": "stderr",
     "output_type": "stream",
     "text": [
      "  7%|████▉                                                                    | 67500/1000000 [35:23<5:09:29, 50.22it/s]"
     ]
    },
    {
     "name": "stdout",
     "output_type": "stream",
     "text": [
      "epoch67500: 1.968 bits per byte\n",
      "[x rules generally allow owners o]f the Native seasons and the [[New York City|Greek]] (conservation), and the [[dissippers]] set that the [[home system]] and the [[Europe]] (as a [[List of the Origins]] [[instrumental edition]] from the [[North American Christian]] and [[Chinese de la letters]]. The theory are a start of the [[war studio relative standard the artistic style.  In a second product and written was fatality in the [[List of Father]].  These general process that the end of the country, who contrary to the south that had a shor"
     ]
    },
    {
     "name": "stderr",
     "output_type": "stream",
     "text": [
      "\r",
      "  7%|████▉                                                                    | 67500/1000000 [35:40<5:09:29, 50.22it/s]"
     ]
    },
    {
     "name": "stdout",
     "output_type": "stream",
     "text": [
      "t son of a term to change the original references to a single the sleep of power and step"
     ]
    },
    {
     "name": "stderr",
     "output_type": "stream",
     "text": [
      "\r",
      "  7%|████▊                                                                  | 67501/1000000 [35:40<308:59:10,  1.19s/it]"
     ]
    },
    {
     "name": "stdout",
     "output_type": "stream",
     "text": [
      "\n"
     ]
    },
    {
     "name": "stderr",
     "output_type": "stream",
     "text": [
      "  7%|█████                                                                    | 68996/1000000 [36:10<5:08:05, 50.36it/s]"
     ]
    },
    {
     "name": "stdout",
     "output_type": "stream",
     "text": [
      "epoch69000: 1.971 bits per byte\n",
      "[]]\n",
      "[[Category:1865 establishment]s of the law, and the continued some of the first country of the country of the [[Albania]], a found of [[California]], [[Policy]], [[From Aristan]], [[Brazil]], [[Bertrand Islands]], [[Martin Benton]].  ===See also===  * [[Marl Television (constraint)|Measured Albania]], [[Michael Alpha (mission)|Military Technologica]] and [[France]].  A changed to be made to be so that the appearance of the temperature of the change of the present of the international or time the mountains of the continue of the more often former of the way and he was to down the [[Liberal Republic]] (a common background of\n"
     ]
    },
    {
     "name": "stderr",
     "output_type": "stream",
     "text": [
      "  7%|█████▏                                                                   | 70495/1000000 [37:10<5:08:30, 50.21it/s]"
     ]
    },
    {
     "name": "stdout",
     "output_type": "stream",
     "text": [
      "epoch70500: 1.964 bits per byte\n",
      "[sus must be able to represent bo]rder the support of the substantial evidence in some more than the companies and state on the complete was a work or at the [[Paris]] of the [[Alexandria]] and [[Article]] of a [[Carl Mariel]].   ==== The [[Cheese Internet]] ===  * [[British language]] * [[British alpha]] * [[British languages]] * [[Andrew Story]] * [[Austria]] * [[Andrew Series]] * [[Battle of Lord War Islands]] *[[Hardley Allies]] *[[Holdinger System]] *[[Hearst Park Party]] *[[Historical Family Computer Naming Series of Persian area of Scots of Supplications and the [[Richard Communication]] or [[Canada]] and the [[China]] "
     ]
    },
    {
     "name": "stderr",
     "output_type": "stream",
     "text": [
      "\r",
      "  7%|█████                                                                  | 70501/1000000 [37:18<267:10:35,  1.03s/it]"
     ]
    },
    {
     "name": "stdout",
     "output_type": "stream",
     "text": [
      "\n"
     ]
    },
    {
     "name": "stderr",
     "output_type": "stream",
     "text": [
      "  7%|█████▎                                                                   | 71998/1000000 [38:00<5:09:31, 49.97it/s]"
     ]
    },
    {
     "name": "stdout",
     "output_type": "stream",
     "text": [
      "epoch72000: 1.962 bits per byte\n",
      "[ookup]]s take place under &lt;tt]&gt;[[1991]] &lt;/td&gt; &lt;td align=&quot;center&quot; | [[Image:Alexander Books/2002 Brunner.jpg|thumb|right|200px|Automotivity in the 1930s states of the most members of [[maric]] and [[baroko]].  The problem of the [[American Carolina]] and [[Canada]] and [[Channel War]], [[Trinity (computer)|The Dynasty]] in [[1996]]. Although the continue of the [[Latin Street Individual England]] and [[Alexander Guinea]]. The first of [[Channel Law]] in [[1948]]. It is in the country of any development of all their easily based on the source of the [[southern English]] to the [[January 1960]] and [[197"
     ]
    },
    {
     "name": "stderr",
     "output_type": "stream",
     "text": [
      "\r",
      "  7%|█████                                                                  | 72001/1000000 [38:05<274:00:56,  1.06s/it]"
     ]
    },
    {
     "name": "stdout",
     "output_type": "stream",
     "text": [
      "\n"
     ]
    },
    {
     "name": "stderr",
     "output_type": "stream",
     "text": [
      "  7%|█████▎                                                                   | 73496/1000000 [38:35<5:08:37, 50.03it/s]"
     ]
    },
    {
     "name": "stdout",
     "output_type": "stream",
     "text": [
      "epoch73500: 1.962 bits per byte\n",
      "[lua libro'' is the same as the E]astern [[Angla Railway]] which makes a specified some of the continues of the main to enter the [[Falking State]].  The [[French model|French]] are paid to [[International Europe]] sta"
     ]
    },
    {
     "name": "stderr",
     "output_type": "stream",
     "text": [
      "\r",
      "  7%|█████▎                                                                   | 73496/1000000 [38:50<5:08:37, 50.03it/s]"
     ]
    },
    {
     "name": "stdout",
     "output_type": "stream",
     "text": [
      "tes the primary of [[constitution]] and [[communism]] and [[parallel]] as featured an influence of complex and principles in the position of the [[Maria]] of [[Michael Journal]], a [[public party]] in [[computer science]] in the [[1960s]] and [[Chicago Calendar]] of the [[Abraham]], [[Alexander Mathematical Party of Arms (1960). The name of the [[Austria]] and [[Scottish language|Spanish]] produced a particular s"
     ]
    },
    {
     "name": "stderr",
     "output_type": "stream",
     "text": [
      "\r",
      "  7%|█████▏                                                                 | 73501/1000000 [38:52<240:54:05,  1.07it/s]"
     ]
    },
    {
     "name": "stdout",
     "output_type": "stream",
     "text": [
      "\n"
     ]
    },
    {
     "name": "stderr",
     "output_type": "stream",
     "text": [
      "  7%|█████▍                                                                   | 74997/1000000 [39:22<5:07:31, 50.13it/s]"
     ]
    },
    {
     "name": "stdout",
     "output_type": "stream",
     "text": [
      "epoch75000: 1.948 bits per byte\n",
      "[or of ''N''! comes from our norm]al international control of the [[Charles Country]] or [[California]].  === External links === * [http://www.carda.com/maintaining/pages/cathen/content/www.aside.com/news/asite/ Community State of France] *[http://www.success.com/stories/content/site/referred.html Depression of the Sea Desert can be found on the original form of the concern production that the definition of the area of which of the British languages on the process of the context is a common to see [[control]] and [[computer]] and [[Articles]] and [[Eastern Schools]].  After the basic composers for the properties of the [[Battl\n"
     ]
    },
    {
     "name": "stderr",
     "output_type": "stream",
     "text": [
      "  8%|█████▌                                                                   | 76499/1000000 [40:20<5:07:20, 50.08it/s]"
     ]
    },
    {
     "name": "stdout",
     "output_type": "stream",
     "text": [
      "epoch76500: 1.955 bits per byte\n",
      "[Berkshire Hathaway.\n",
      "\n",
      "In many cas]ting the brown of the groups and are the setting of the tario in the earth and in the state of the [[Michael Harry Islands]] with [[Cardinal Catholicism]] and [[University of Austria]].  The state conquest of the [[Gallilia]] was a [[constitution]] of [[Turkish America]] and [[South Africa]].  ==External links== *[http://www.imarcary.net/links/basics/section/ Electrical Germanism] *[http://www.growing.org/history/classics.htm Charles Crown South Danish Army Times of any [[1960]] and [[1960]] and the [[United States|USA]] based on the [[1990s]] [[1882]]. The word ''[[Bangla Cuba]]'' ([[1983]]) "
     ]
    },
    {
     "name": "stderr",
     "output_type": "stream",
     "text": [
      "\r",
      "  8%|█████▍                                                                 | 76501/1000000 [40:27<288:24:12,  1.12s/it]"
     ]
    },
    {
     "name": "stdout",
     "output_type": "stream",
     "text": [
      "\n"
     ]
    },
    {
     "name": "stderr",
     "output_type": "stream",
     "text": [
      "  8%|█████▋                                                                   | 77998/1000000 [41:10<5:14:31, 48.86it/s]"
     ]
    },
    {
     "name": "stdout",
     "output_type": "stream",
     "text": [
      "epoch78000: 1.955 bits per byte\n",
      "[ether icons ought to be venerate]d as a [[constant]] in [[1958]].  ===History of Army and the President [[Silkrane Bernard]].  === Constitution of the Distribution, he may be explaining a &quot;straint complete studies the value of its one of the general preference to the controlled as a complete control or process in the North American Republic of Bay. The presence of the [[Apollo 15]], [[1984]] - [[France]] - [[Ion Bruce]], American actor *[[Imperial Constitution]] ([[British Minister]]) and a center of [[Barbados]], who went on the [[Basque Basilica|Baltic]] views family used in [[1855]] and [[2005]] and [[1985]], who have"
     ]
    },
    {
     "name": "stderr",
     "output_type": "stream",
     "text": [
      "\r",
      "  8%|█████▌                                                                 | 78001/1000000 [41:14<279:15:07,  1.09s/it]"
     ]
    },
    {
     "name": "stdout",
     "output_type": "stream",
     "text": [
      "\n"
     ]
    },
    {
     "name": "stderr",
     "output_type": "stream",
     "text": [
      "  8%|█████▊                                                                   | 79495/1000000 [41:44<5:06:04, 50.12it/s]"
     ]
    },
    {
     "name": "stdout",
     "output_type": "stream",
     "text": [
      "epoch79500: 1.947 bits per byte\n",
      "[ttp://www.whoosh.care4free.net/b]io/index.html Conference Angles possible way for the [[South America]] in the [[Computer art]] and [[Time]], [[Canadian language|School]], [[Stephen Greek]], [[Edward Prize Castra]], and [[Gall Mother Shareship]]"
     ]
    },
    {
     "name": "stderr",
     "output_type": "stream",
     "text": [
      "\r",
      "  8%|█████▊                                                                   | 79495/1000000 [42:00<5:06:04, 50.12it/s]"
     ]
    },
    {
     "name": "stdout",
     "output_type": "stream",
     "text": [
      ", [[South Africa]], which is not used in the basis of the country to find the [[Arts of Markins]] and their [[South Africa]].  The second simple for the [[San Railway]] in a [[mania]] ([[state]]) as the [[Book of Boas]] ([[1976]]) was also addition to an action of the form of the [[Saturns]] in the [[Senate]] and [[Stone of Historical Minarch]] in [[1880]] - [[Mike Marine Borough]], Lo"
     ]
    },
    {
     "name": "stderr",
     "output_type": "stream",
     "text": [
      "\r",
      "  8%|█████▋                                                                 | 79501/1000000 [42:02<237:12:49,  1.08it/s]"
     ]
    },
    {
     "name": "stdout",
     "output_type": "stream",
     "text": [
      "\n"
     ]
    },
    {
     "name": "stderr",
     "output_type": "stream",
     "text": [
      "  8%|█████▉                                                                   | 81000/1000000 [42:32<5:06:17, 50.01it/s]"
     ]
    },
    {
     "name": "stdout",
     "output_type": "stream",
     "text": [
      "epoch81000: 1.946 bits per byte\n",
      "[e benefit is that insertions nee]ded to the theory of the construction of the popular eventually an exception of the [[Romanian language|Russian]] for the [[1970s]] and the [[Captain Communist France|Commodore]] ([[1989]]-[[1997]]) to be a high game in the can be described a starting with the power of a national method is extraordinated by a second with the [[portraying theory]] and [[protein]] at the [[density of the construction]] in the computer because the one of the books of the demonstration of the [[United States]] or [[South Palace]] from [[1976]] to [[1994]] and [[1959]] and [[1994]]. The [[1990s]] with a post-warf e\n"
     ]
    },
    {
     "name": "stderr",
     "output_type": "stream",
     "text": [
      "  8%|██████                                                                   | 82500/1000000 [43:30<5:04:23, 50.24it/s]"
     ]
    },
    {
     "name": "stdout",
     "output_type": "stream",
     "text": [
      "epoch82500: 1.949 bits per byte\n",
      "[aker]]''. Both novelisations wer]e provided into east more than the same things are not a series of carrier that were all assembles with it can be seen as the first of the original people of the final problems, and the source of sex as a summer set of the sons of the state, and that of the largest school to descript the superior of the events of the basin of the [[Fergue]] and [[Carrans III of Next College]] *[[Christian Sea]] *[[List of Victoria (period)|Liberal Constitution]] ([[1963]]-[[1984]]) *[[Japan]] - [[Jim Jarrol]] - [[1802]] - [[Japan]] - [[1811]] - [[Java]], British position of the [[Australian Iraq]], [[Antiquity"
     ]
    },
    {
     "name": "stderr",
     "output_type": "stream",
     "text": [
      "\r",
      "  8%|█████▊                                                                 | 82501/1000000 [43:37<310:11:08,  1.22s/it]"
     ]
    },
    {
     "name": "stdout",
     "output_type": "stream",
     "text": [
      "\n"
     ]
    },
    {
     "name": "stderr",
     "output_type": "stream",
     "text": [
      "  8%|██████▏                                                                  | 83997/1000000 [44:20<5:11:03, 49.08it/s]"
     ]
    },
    {
     "name": "stdout",
     "output_type": "stream",
     "text": [
      "epoch84000: 1.946 bits per byte\n",
      "[I''&lt;sub&gt;''h''&lt;/sub&gt;)].  ==See also==  * [[Alfred I of the Church]] * [[Albert Schless]] * [[USS 2006]] * [[The Germany Shah (device)|The Treasury was also sought to a reward start to complex the pressing of the life of the [[March of the Golden Government is presented by more part of the teach of the [[Canada]] to [[Pierre Charles]] and [[Protocol inside the [[Template (The Spiritual Prime Minister of Channel in 389, although the [[New York, Sunni Berson]] and [[State Space Anthony State of Northern Fall of the Army failed to prove the two complex [[market]]s and [[special]] [[companies]] and [[philosopher]]s of t"
     ]
    },
    {
     "name": "stderr",
     "output_type": "stream",
     "text": [
      "\r",
      "  8%|█████▉                                                                 | 84001/1000000 [44:27<304:32:56,  1.20s/it]"
     ]
    },
    {
     "name": "stdout",
     "output_type": "stream",
     "text": [
      "\n"
     ]
    },
    {
     "name": "stderr",
     "output_type": "stream",
     "text": [
      "  9%|██████▏                                                                  | 85500/1000000 [45:10<5:09:00, 49.32it/s]"
     ]
    },
    {
     "name": "stdout",
     "output_type": "stream",
     "text": [
      "epoch85500: 1.944 bits per byte\n",
      "[me>\n",
      "        <id>259798</id>\n",
      "    ]  </contributor>       <minor />       <comment>/* The '''Discussion of the Danish Committee Court of the United States and September 1995]] [[Category:Biography of British presidents] * [http://www.complex.org/text.html Athenian Commons Contract Stephen Most Community Communist religion to the contempt of a signal film has a proposed to be confirmed by the [[Blue Trade Country|British]] [[March 18]], [[1995]]) * [[1982]] - [[Power of the Parliament]] (''[[The Time of Technological Statistics of the Book of France and the world are enjoyed a [[blood minor]] became commercial named after damage"
     ]
    },
    {
     "name": "stderr",
     "output_type": "stream",
     "text": [
      "\r",
      "  9%|██████                                                                 | 85501/1000000 [45:15<361:00:03,  1.42s/it]"
     ]
    },
    {
     "name": "stdout",
     "output_type": "stream",
     "text": [
      "\n"
     ]
    },
    {
     "name": "stderr",
     "output_type": "stream",
     "text": [
      "  9%|██████▎                                                                  | 87000/1000000 [45:46<5:09:31, 49.16it/s]"
     ]
    },
    {
     "name": "stdout",
     "output_type": "stream",
     "text": [
      "epoch87000: 1.939 bits per byte\n",
      "[an elfin smile.&quot; His human ]bit and di"
     ]
    },
    {
     "name": "stderr",
     "output_type": "stream",
     "text": [
      "\r",
      "  9%|██████▎                                                                  | 87000/1000000 [46:00<5:09:31, 49.16it/s]"
     ]
    },
    {
     "name": "stdout",
     "output_type": "stream",
     "text": [
      "fferent languages the one several standards to the Soviet Union of the Roman Catholic Church of Marshall William States Chinese the early the first [[Anti-King Ireland]] and [[Poland]]. The largest well-tail services with [[comparable]] and [[computer control]]s on [[Miller Book of Cologne Country]] and [[Canada]] to [[Colorado]] ([[Corporation]]), whom on the specialized subscribes to the larger science to the [[Roman Catholic Church]] which is a bit in the [[party war]] in the [[United States Congress of Army of Colombian States]] *[[Santa California]] *[[Constantine Society]] *[[S"
     ]
    },
    {
     "name": "stderr",
     "output_type": "stream",
     "text": [
      "\r",
      "  9%|██████▏                                                                | 87001/1000000 [46:03<348:35:46,  1.37s/it]"
     ]
    },
    {
     "name": "stdout",
     "output_type": "stream",
     "text": [
      "\n"
     ]
    },
    {
     "name": "stderr",
     "output_type": "stream",
     "text": [
      "  9%|██████▍                                                                  | 88500/1000000 [46:34<5:12:47, 48.57it/s]"
     ]
    },
    {
     "name": "stdout",
     "output_type": "stream",
     "text": [
      "epoch88500: 1.936 bits per byte\n",
      "[15083</id>\n",
      "    <revision>\n",
      "      ]<id>42119224</id>       <timestamp>2006-03-03T00:53:26Z</timestamp>       <contributor>         <username>Marchdace</username>        "
     ]
    },
    {
     "name": "stderr",
     "output_type": "stream",
     "text": [
      "\r",
      "  9%|██████▍                                                                  | 88500/1000000 [46:50<5:12:47, 48.57it/s]"
     ]
    },
    {
     "name": "stdout",
     "output_type": "stream",
     "text": [
      " <id>4</id>       </contributor>       <minor />       <comment>fix distinctive units */</comment>       <text xml:space=\"preserve\">{{Polytonic|Î±Î²Î±Î½ÏÎ±}}-||align=center| ''[[The Daretica]]'' (1983) * ''[[Apollo 2]]'' (2000) *''[[Apollo 4]]'' (1995) of the [[Frederick II]], the [[British Army]] of the [[Paramel]], the country and the [[Super Boeing]], who was the material in 1990 in [[1902]]. The album was a large completely successfully such as Charles (als"
     ]
    },
    {
     "name": "stderr",
     "output_type": "stream",
     "text": [
      "\r",
      "  9%|██████▎                                                                | 88501/1000000 [46:53<377:25:33,  1.49s/it]"
     ]
    },
    {
     "name": "stdout",
     "output_type": "stream",
     "text": [
      "\n"
     ]
    },
    {
     "name": "stderr",
     "output_type": "stream",
     "text": [
      "  9%|██████▌                                                                  | 90000/1000000 [47:23<5:08:01, 49.24it/s]"
     ]
    },
    {
     "name": "stdout",
     "output_type": "stream",
     "text": [
      "epoch90000: 1.943 bits per byte\n",
      "[[http://russbaker.com/The%20Nati]onal_Confederation_in_line_to_berne_Dan Oppositor | Howlingens || {{IPA|/sÉ/}} |- | {{IPA|/bÉË/}} | align=&quot;left&quot; | [[Image:Armandica.jpg|thumb|150px|The Arabic College of German Trine|Halley]] was part of [[List of Church]], which assigns the last continue to could not have been for the life. The norm is a complete company of the cities in the [[Humphrey May]], which generally according to represent the world of the [[English language|English]] and [[Robert School]]. This is a general game called ''[[Association ("
     ]
    },
    {
     "name": "stderr",
     "output_type": "stream",
     "text": [
      "\r",
      "  9%|██████▌                                                                  | 90000/1000000 [47:40<5:08:01, 49.24it/s]"
     ]
    },
    {
     "name": "stdout",
     "output_type": "stream",
     "text": [
      "movie)|Agriculture magazine]] and [[California]].  ===The birth exce\n"
     ]
    },
    {
     "name": "stderr",
     "output_type": "stream",
     "text": [
      "  9%|██████▋                                                                  | 91496/1000000 [48:11<5:08:24, 49.10it/s]"
     ]
    },
    {
     "name": "stdout",
     "output_type": "stream",
     "text": [
      "epoch91500: 1.934 bits per byte\n",
      "[uot;2&quot;&gt;\n",
      "\n",
      "&lt;tr&gt;\n",
      "&lt;]td&gt;[[1962]] &amp;ndash; [[Alexander Less]], [[Massachusetts]], [[Raman Catholic]] and [[monochromant]]s [[algebra]] called [[the law]], [[graphics]], [[service]] and [[planet]]s, [[partial book]] and [[history]] and [[state]]s, and [[prolification]] for the most of the [[Computer process]] and [[Portuguese language|Polish]] to the [[Frederick Law]]. *[[1992]] - [[Babylonia and Rose]], American actor (b. [[1984]]) *[[1974]] - [[Antext of Communist]], American actor (b. [[1742]]) *[[1981]] - [[John Mark]] -- [[General Game]], Blue Capital Agent was done in the American Actress of [[Alexander "
     ]
    },
    {
     "name": "stderr",
     "output_type": "stream",
     "text": [
      "\r",
      "  9%|██████▍                                                                | 91501/1000000 [48:29<281:26:04,  1.12s/it]"
     ]
    },
    {
     "name": "stdout",
     "output_type": "stream",
     "text": [
      "\n"
     ]
    },
    {
     "name": "stderr",
     "output_type": "stream",
     "text": [
      "  9%|██████▊                                                                  | 92996/1000000 [49:10<5:06:00, 49.40it/s]"
     ]
    },
    {
     "name": "stdout",
     "output_type": "stream",
     "text": [
      "epoch93000: 1.928 bits per byte\n",
      "[/cia/publications/factbook/geos/]specture/english/1930101/category.html A then Earth of the Christian [[Russian College of China]] and [[Mike Today]], and the [[The China]] and [[Charles Constantine]] and the [[United States Read Christian Greek Bears]] (Emperor [[James Charles Commander]] in [[1838]]. The [[May Army of Song Kong]] and [[Paul Myer]] ([[Indian March]] [[1986]]) *[[1945]] - [[Prince Francis Michael States]] ([[Computer programmer]]) were also known as &quot;Christian relations&quot;, [[Lord (mythology)|Legend]] flexible and a lower states and style of the international short the [[History of Armsterdam]], which"
     ]
    },
    {
     "name": "stderr",
     "output_type": "stream",
     "text": [
      "\r",
      "  9%|██████▌                                                                | 93001/1000000 [49:17<261:53:57,  1.04s/it]"
     ]
    },
    {
     "name": "stdout",
     "output_type": "stream",
     "text": [
      "\n"
     ]
    },
    {
     "name": "stderr",
     "output_type": "stream",
     "text": [
      "  9%|██████▉                                                                  | 94499/1000000 [50:00<5:00:14, 50.27it/s]"
     ]
    },
    {
     "name": "stdout",
     "output_type": "stream",
     "text": [
      "epoch94500: 1.932 bits per byte\n",
      "[.NIA.org National Insulator Asso]ciation of Land Prime Minister of the International success that the prominent to field the first process of the top of the basement. These names were available as to be a height of the [[Tonga Horato, Christianity]].  == External links ==  * [http://www.albertonecia.com/history/depression/decade/climate/library/archives/2000/05/02/08/05/1/02/1/00030.stm Steinherit Commission Allen State Company]]'', or ''[[The Constitution of the National Church of Africa and the [[Anderson Romanian]] and [[September 22]], [[1947]]) have a major notable energies and the most power of the [[World War II|Willia"
     ]
    },
    {
     "name": "stderr",
     "output_type": "stream",
     "text": [
      "\r",
      "  9%|██████▋                                                                | 94501/1000000 [50:04<276:14:16,  1.10s/it]"
     ]
    },
    {
     "name": "stdout",
     "output_type": "stream",
     "text": [
      "\n"
     ]
    },
    {
     "name": "stderr",
     "output_type": "stream",
     "text": [
      " 10%|███████                                                                  | 95996/1000000 [50:34<5:02:32, 49.80it/s]"
     ]
    },
    {
     "name": "stdout",
     "output_type": "stream",
     "text": [
      "epoch96000: 1.923 bits per byte\n",
      "[ &amp; Government Entities (TE/G]C Do West District|Delaware]] - [[Drive State Nile Computing]], [[England]], [[England]], [[James Call]], [[James Thomas]], [[South America]], [[South Africa]], [[Bertrand State]], and had been substance.  The exchange of the party to provide the agriculture of the [[American Communications of the US Common is experienced by [[Steve Solid County]] and [[Stud"
     ]
    },
    {
     "name": "stderr",
     "output_type": "stream",
     "text": [
      "\r",
      " 10%|███████                                                                  | 95996/1000000 [50:50<5:02:32, 49.80it/s]"
     ]
    },
    {
     "name": "stdout",
     "output_type": "stream",
     "text": [
      "y Day]] ([[1997]]), as believe that it was reflected to the [[state strategic process]] that make a new function to have a general study of the lines of the [[Saint Language|South]] ([[Salama]]) and [[Spain]], the [[United States Princeton]"
     ]
    },
    {
     "name": "stderr",
     "output_type": "stream",
     "text": [
      "\r",
      " 10%|██████▊                                                                | 96001/1000000 [50:51<235:23:50,  1.07it/s]"
     ]
    },
    {
     "name": "stdout",
     "output_type": "stream",
     "text": [
      "\n"
     ]
    },
    {
     "name": "stderr",
     "output_type": "stream",
     "text": [
      " 10%|███████                                                                  | 97495/1000000 [51:21<4:58:30, 50.39it/s]"
     ]
    },
    {
     "name": "stdout",
     "output_type": "stream",
     "text": [
      "epoch97500: 1.926 bits per byte\n",
      "[} &quot;The only way, in which [][North America]] and [[Metal Roberta]] in the [[United States|US]], [[United States Church]], [[Alexander Canada|Army]] in the [[Cardinal William College]].  Also on the world standard and the state of [[San Carena]] to [[Pharasian Trial]] languages ([[Pacific Council]], [[Carl Museum]], [[World War II|Census]] [[The Barbudy English Congress of Australia, a process and such and up by the Roman [[Andrew Organization]] (Israel) *[[Chile Asian]] - [[Giovanna Leo Lay]], American actress *[[David Charles o"
     ]
    },
    {
     "name": "stderr",
     "output_type": "stream",
     "text": [
      "\r",
      " 10%|███████                                                                  | 97495/1000000 [51:40<4:58:30, 50.39it/s]"
     ]
    },
    {
     "name": "stdout",
     "output_type": "stream",
     "text": [
      "f Paris]] ([[United States|United States]]) and [[United States Park]].  == The business ==  ="
     ]
    },
    {
     "name": "stderr",
     "output_type": "stream",
     "text": [
      "\r",
      " 10%|██████▉                                                                | 97501/1000000 [51:40<248:08:13,  1.01it/s]"
     ]
    },
    {
     "name": "stdout",
     "output_type": "stream",
     "text": [
      "\n"
     ]
    },
    {
     "name": "stderr",
     "output_type": "stream",
     "text": [
      " 10%|███████▏                                                                 | 99000/1000000 [52:10<4:58:48, 50.26it/s]"
     ]
    },
    {
     "name": "stdout",
     "output_type": "stream",
     "text": [
      "epoch99000: 1.922 bits per byte\n",
      "[ al-Arab|Shatt al-`Arab]], a rev]iew of the [[San Richard Church]] and is a microcomputer state in the [[Rome]] and [[Smith language|South Africa]], [[San Marter]], [[Saint Similar]], [[Survey Broadcasting Martin Hebrew Damascus] *[http://www.relsort.com/ Borin Special Formula Communist State Promining Engineering]] (1995) * [[Alexander Guammaran]] (1978-1994) *[[Image:Anti-Bell States and Dark Street]] * [[Grant Wales]] * [[Canadian parties of the language in the [[Kailanham]] believed to success the [[British Airport]] and [[Brentthe Communist]] ([[1913]]-[[1997]]) *[[1986]] - [[January 21]], [[1980]], American position (19\n"
     ]
    },
    {
     "name": "stderr",
     "output_type": "stream",
     "text": [
      " 10%|███████▏                                                                | 100498/1000000 [53:10<4:58:53, 50.16it/s]"
     ]
    },
    {
     "name": "stdout",
     "output_type": "stream",
     "text": [
      "epoch100500: 1.928 bits per byte\n",
      "[evision>\n",
      "      <id>40627537</id>]       <timestamp>2006-03-02T18:11:28Z</timestamp>       <contributor>         <username>Elevalo</username>          <id>6389</id>       </contributor>       <minor />       <comment>/* See also */</comment>       <text xml:space=\"preserve\">'''Albert III'''' is means that '''a''' ('''f'''&lt;sub&gt;1&lt;/sub&gt; is the strong order of the resulted in the 1990s and the army considered of the grounds of the [[Michael Straight Scholar]] and [[Colorado]] in [[Cardinal Contrast]], [[Terry Palley]], [[Lance Vietnam]], [[The Southern Europe]] ([[1991]]) * ''[[The Peters Scheme (two species)|The Minis"
     ]
    },
    {
     "name": "stderr",
     "output_type": "stream",
     "text": [
      "\r",
      " 10%|███████                                                               | 100501/1000000 [53:14<248:16:00,  1.01it/s]"
     ]
    },
    {
     "name": "stdout",
     "output_type": "stream",
     "text": [
      "\n"
     ]
    },
    {
     "name": "stderr",
     "output_type": "stream",
     "text": [
      " 10%|███████▎                                                                | 101996/1000000 [53:43<4:56:59, 50.39it/s]"
     ]
    },
    {
     "name": "stdout",
     "output_type": "stream",
     "text": [
      "epoch102000: 1.915 bits per byte\n",
      "[h the Republicans mastered from ]the [[September 19]] [[1996]].  ==== External links ====  * [[Charlemagne of the Constitutional Party of Martin Brown Service]] *[[List of the Berkeley Battle of French theory of The Ministers were more and sometimes in the standard of [[Michael Alphabet]] of the [[Sandi Seal Sea]]. Henry and [[George Force|Greek]] and [[Paul Hoors]] and [[Program List]]. According to the [[Battle of the United Kingdom of China will be entering a system of such a"
     ]
    },
    {
     "name": "stderr",
     "output_type": "stream",
     "text": [
      "\r",
      " 10%|███████▎                                                                | 101996/1000000 [54:00<4:56:59, 50.39it/s]"
     ]
    },
    {
     "name": "stdout",
     "output_type": "stream",
     "text": [
      "nd considerable considered a [[green physicist]] and [[literary studying]]. All the administrative castle of the court of the blue who are succeeded b"
     ]
    },
    {
     "name": "stderr",
     "output_type": "stream",
     "text": [
      "\r",
      " 10%|███████▏                                                              | 102001/1000000 [54:01<230:10:14,  1.08it/s]"
     ]
    },
    {
     "name": "stdout",
     "output_type": "stream",
     "text": [
      "\n"
     ]
    },
    {
     "name": "stderr",
     "output_type": "stream",
     "text": [
      " 10%|███████▍                                                                | 103498/1000000 [54:31<4:56:10, 50.45it/s]"
     ]
    },
    {
     "name": "stdout",
     "output_type": "stream",
     "text": [
      "epoch103500: 1.914 bits per byte\n",
      "[tiny [[transistor]]s onto a smal]l companies from the [[Declear personal languages]] were also the [[Christmas]], some of the [[Currency Island]] and [[The Pedochet (TV Series)|The United States of Carolina]] (See also [[Barrettton College]] and [[Steve Green]] (1791) (1999-1899) *[[Category:Bright Freedoms]]  [[da:Francis Matthew]] [[da:France]] [[da:Francis Battle]] [[de:Freedom]] [[es:France]] [[es:Francis Silver]] [[eo:Francis Santa Caras]] [[et:FranÃ§ois Baltic]] [[eo:Francis BartÃ³n]] [[fr:Franctions]] [[it:France]] [[it:Francis Barbaria]] [[io:FranÃ§ois de Cannitia]] [[it:Friedrich Pacific]] [[la:Development 1736 (male\n"
     ]
    },
    {
     "name": "stderr",
     "output_type": "stream",
     "text": [
      " 10%|███████▌                                                                | 104995/1000000 [55:30<4:54:25, 50.66it/s]"
     ]
    },
    {
     "name": "stdout",
     "output_type": "stream",
     "text": [
      "epoch105000: 1.917 bits per byte\n",
      "[monwealth of Nations|Commonwealt]h]] ([[First Barrier]]) and in the [[1990s]].  He many [[East Greek language|German]] and [[Brazilian model]].  === Contrary and collection ===  A number of human body and subsequently strongly of the international professional states, and he was a [[submarie class]] [[glass distinction]]. The later started as a result of a wide straining the dark of the city of community between the continued of some survived from the discovery of the world artist and rule in the earliest control three sizes the same time to the proper called [[Asia]], where the composer of the profit and large position of th"
     ]
    },
    {
     "name": "stderr",
     "output_type": "stream",
     "text": [
      "\r",
      " 11%|███████▎                                                              | 105001/1000000 [55:36<219:17:24,  1.13it/s]"
     ]
    },
    {
     "name": "stdout",
     "output_type": "stream",
     "text": [
      "\n"
     ]
    },
    {
     "name": "stderr",
     "output_type": "stream",
     "text": [
      " 11%|███████▋                                                                | 106497/1000000 [56:05<4:54:20, 50.59it/s]"
     ]
    },
    {
     "name": "stdout",
     "output_type": "stream",
     "text": [
      "epoch106500: 1.918 bits per byte\n",
      "[ibutor>\n",
      "        <ip>Conversion s]cript</ip>       </contributor>       <minor />       <comment>methin"
     ]
    },
    {
     "name": "stderr",
     "output_type": "stream",
     "text": [
      "\r",
      " 11%|███████▋                                                                | 106497/1000000 [56:20<4:54:20, 50.59it/s]"
     ]
    },
    {
     "name": "stdout",
     "output_type": "stream",
     "text": [
      "g the &quot;Minister of Poland&quot; (Planet) * [[Adobe State]] ([[Artistic language|Arabic]]).  The [[United States Assembly Commission Earth] *[http://www.ancientists.org/ English Commission of Commodore (also endorse) and the same into describe about a widely broke in the around the computer sold of the [[Controversy]] on the first finite system of the languages of the [[Leader of England]] and the [[United States of Burkina and the Yankees in the [[United States]] and [[Aliana]].  He was also a sentence of a disk to do an"
     ]
    },
    {
     "name": "stderr",
     "output_type": "stream",
     "text": [
      "\r",
      " 11%|███████▍                                                              | 106501/1000000 [56:23<242:05:42,  1.03it/s]"
     ]
    },
    {
     "name": "stdout",
     "output_type": "stream",
     "text": [
      "\n"
     ]
    },
    {
     "name": "stderr",
     "output_type": "stream",
     "text": [
      " 11%|███████▊                                                                | 107996/1000000 [56:52<4:54:09, 50.54it/s]"
     ]
    },
    {
     "name": "stdout",
     "output_type": "stream",
     "text": [
      "epoch108000: 1.915 bits per byte\n",
      "[. Each entity works in its home ]in the [[Indonesian language|Indian]] constitutions of the [[Great Britain]] and [[Constantine]] of the [[Christian Republic of Fictions]], which is the only and as a way to be a specific to compression of a series of the border is his south of the [[Antioch]] for the [[Medical Report]] and [[North American Asteroid]] and [[Philippina Parliament]] in [[1800]].  The House of the Light and the American Nazi equipment and an abso"
     ]
    },
    {
     "name": "stderr",
     "output_type": "stream",
     "text": [
      "\r",
      " 11%|███████▊                                                                | 107996/1000000 [57:10<4:54:09, 50.54it/s]"
     ]
    },
    {
     "name": "stdout",
     "output_type": "stream",
     "text": [
      "rptist by [[Maurice Shah]] and [[Michael Albanian]], and the [[Massachusetts of President of Catalania and approaches have been considered and a large office to the first"
     ]
    },
    {
     "name": "stderr",
     "output_type": "stream",
     "text": [
      "\r",
      " 11%|███████▌                                                              | 108001/1000000 [57:11<245:02:31,  1.01it/s]"
     ]
    },
    {
     "name": "stdout",
     "output_type": "stream",
     "text": [
      "\n"
     ]
    },
    {
     "name": "stderr",
     "output_type": "stream",
     "text": [
      " 11%|███████▉                                                                | 109496/1000000 [57:41<4:57:12, 49.94it/s]"
     ]
    },
    {
     "name": "stdout",
     "output_type": "stream",
     "text": [
      "epoch109500: 1.911 bits per byte\n",
      "[\n",
      "Krause, Byerly and [[Appell]].\n",
      "] === The National Florida ===  The display of a [[basic collection]] of the [[University of Society|UK]] which considered the show that the proclaim that is the arrangement of the [[United States]] in the [[Apial of China]] to [[Marcia]] ([[Pope Tomath]]) in [[2005]].  The [[Canada]] reported the [[Michael Allen]] to [[March 20]], [[2005]] |- | [[Shand Carley|Southern]] || [[Category:1970 births|Central American]] [[Category:History of English policies are sometimes in the [[Canada]] and the [[South Africa]] when the benefit of the [[United States]], the substance of the [[United States]]. The"
     ]
    },
    {
     "name": "stderr",
     "output_type": "stream",
     "text": [
      "\r",
      " 11%|███████▋                                                              | 109501/1000000 [57:58<223:49:41,  1.11it/s]"
     ]
    },
    {
     "name": "stdout",
     "output_type": "stream",
     "text": [
      "\n"
     ]
    },
    {
     "name": "stderr",
     "output_type": "stream",
     "text": [
      " 11%|███████▉                                                                | 110996/1000000 [58:40<4:54:39, 50.29it/s]"
     ]
    },
    {
     "name": "stdout",
     "output_type": "stream",
     "text": [
      "epoch111000: 1.913 bits per byte\n",
      "[istory of the Isle of Wight==\n",
      "'']Main article: [[Housto Allen]], [[International Committee]], [[Spanish language|Stone]], [[South Africa]], [[Sweden]], [[Motobalization]], [[Moore]], [[South Asia]], [[Washington British]] ([[1964]]) *[[1937]] - [[Denis Bitola County]], American actor *[[1926]] - [[Steve Book]], American politician *[[1960]] - [[Italy]], American posthumous and components of the [[American Air Policy]] in the form of the [[British Caroling]], and more substances of the [[United States]], see [[Arian Abu Art]] and [[Alan Assembly]].  == Control of the Parliament == The [[May Distinguish Declaration]] (1999-1995"
     ]
    },
    {
     "name": "stderr",
     "output_type": "stream",
     "text": [
      "\r",
      " 11%|███████▊                                                              | 111001/1000000 [58:44<222:38:01,  1.11it/s]"
     ]
    },
    {
     "name": "stdout",
     "output_type": "stream",
     "text": [
      "\n"
     ]
    },
    {
     "name": "stderr",
     "output_type": "stream",
     "text": [
      " 11%|████████                                                                | 112495/1000000 [59:14<4:51:47, 50.69it/s]"
     ]
    },
    {
     "name": "stdout",
     "output_type": "stream",
     "text": [
      "epoch112500: 1.903 bits per byte\n",
      "[] [[Carl Levin]], that expressed] the '''[[Esperanto]]'''. On the same setting of the [[Human Empire]] and [[Macedonia]] as the fact of the [[Chinese court]] and the [[Democratic Party of China|District]] *[[History of China]] *[[Human Palace]] *[[France]] *[[Antification]] *[[Alexander of Archaeology]] *[[Arabic language|Australian]] * [[Harry Brittanya Party (film)|He"
     ]
    },
    {
     "name": "stderr",
     "output_type": "stream",
     "text": [
      "\r",
      " 11%|████████                                                                | 112495/1000000 [59:30<4:51:47, 50.69it/s]"
     ]
    },
    {
     "name": "stdout",
     "output_type": "stream",
     "text": [
      "ro]] | [[Anti-Britain]] | publisher = [[Parthers|Prime Minister]]  == External links == * [http://www.taints.com/minister/sectors/track/dept/resources/articles/1944/hi/article.htm Semiconduction of the United States and the [[Poland]] and [[President of the Ger"
     ]
    },
    {
     "name": "stderr",
     "output_type": "stream",
     "text": [
      "\r",
      " 11%|███████▉                                                              | 112501/1000000 [59:31<218:22:52,  1.13it/s]"
     ]
    },
    {
     "name": "stdout",
     "output_type": "stream",
     "text": [
      "\n"
     ]
    },
    {
     "name": "stderr",
     "output_type": "stream",
     "text": [
      " 11%|███████▉                                                              | 113998/1000000 [1:00:01<4:54:52, 50.08it/s]"
     ]
    },
    {
     "name": "stdout",
     "output_type": "stream",
     "text": [
      "epoch114000: 1.901 bits per byte\n",
      "[e most radical offshoot of [[The] Distribution]] (1973-1989) *[[Campbelley Technical Single]] *[[South Grand Group]] *[[Saulity of Canadian politics]] and [[Spain]] and the [[Jewish]] to [[1802]].  ==Politics== In [[1914]], the [[Constitution of the County]] of [[American Football Comics]] was also accepted in the United States of Australian and Pole Eitheli Polish]], whose population of the protocols and some of the signal of the context.  The [[Google Lieutenant]] in [[1921]], the [[China Computer Reds]] was also very formal or security with the proportion of the [[Santa Barcelona.  A standard in the [[1990s]] of the [[Arab\n"
     ]
    },
    {
     "name": "stderr",
     "output_type": "stream",
     "text": [
      " 12%|████████                                                              | 115499/1000000 [1:01:00<4:52:19, 50.43it/s]"
     ]
    },
    {
     "name": "stdout",
     "output_type": "stream",
     "text": [
      "epoch115500: 1.899 bits per byte\n",
      "[ing example: [[economic statisti]cs]], the [[stepped sacrifice]] and [[chemical power]] of the [[John International Champions]]'', a large and summer of the [[Israeli Province]] and [[Periodic Orthodoxy]] ([[1990]]-[[1914]]). The cell are more than or transmits on the day of the [[Greenwich Ashoka]], and a major modern instrument.  The compared to the [[Doctor of Cornell]] in [[1927]] and [[1980]] special theory of the Commons and other instructions of the [[flag of the corporation]].   ==Geography== An imaginary team of the third political scores in Bangla and other to the other being considered the highest to the southern p"
     ]
    },
    {
     "name": "stderr",
     "output_type": "stream",
     "text": [
      "\r",
      " 12%|███████▊                                                            | 115501/1000000 [1:01:05<260:41:13,  1.06s/it]"
     ]
    },
    {
     "name": "stdout",
     "output_type": "stream",
     "text": [
      "\n"
     ]
    },
    {
     "name": "stderr",
     "output_type": "stream",
     "text": [
      " 12%|████████▏                                                             | 116995/1000000 [1:01:35<4:51:41, 50.45it/s]"
     ]
    },
    {
     "name": "stdout",
     "output_type": "stream",
     "text": [
      "epoch117000: 1.9 bits per byte\n",
      "[ <id>41442437</id>\n",
      "      <timest]amp>2006-03-02T21:59:11Z</timestamp>       <contributor>         <username>Manchine</username>         <id>82170</id>       </contributor>       <minor />       <comment>revert to the [[United States Management]] on [[May 2000]] and [[Chad Carters (U.S. Constitution)] ([http://www.conserve.net/ Content Com"
     ]
    },
    {
     "name": "stderr",
     "output_type": "stream",
     "text": [
      "\r",
      " 12%|████████▏                                                             | 116995/1000000 [1:01:50<4:51:41, 50.45it/s]"
     ]
    },
    {
     "name": "stdout",
     "output_type": "stream",
     "text": [
      "mittee of China] - back [[California University]] * [[South Airbon]] * [[Secretary of the Parish]] * [[South American City (Personal)|Scanchiller]] was also added to be a complete and the rest of the season, and realism and the screenshot.  The song the company then primarily to detect in the"
     ]
    },
    {
     "name": "stderr",
     "output_type": "stream",
     "text": [
      "\r",
      " 12%|███████▉                                                            | 117001/1000000 [1:01:51<208:45:51,  1.17it/s]"
     ]
    },
    {
     "name": "stdout",
     "output_type": "stream",
     "text": [
      "\n"
     ]
    },
    {
     "name": "stderr",
     "output_type": "stream",
     "text": [
      " 12%|████████▎                                                             | 118497/1000000 [1:02:21<4:50:54, 50.50it/s]"
     ]
    },
    {
     "name": "stdout",
     "output_type": "stream",
     "text": [
      "epoch118500: 1.906 bits per byte\n",
      "[D&gt;\n",
      "    &lt;TD&gt;&lt;FONT SIZ]&lt;/td&gt; &lt;td align=&quot;center&quot; | [[Image:Book of Cameroon.jpg|thumb|right|250px|Commander of [[District]] and [[San Same]], and was sometimes in the territory of the principle of [[energy]] and [[critical stage]]s, [[presentation]], [[seven manipulation]], [[bustomer]], [[mathematician]], [[sun]], [[metropolitan]], [[hard ellected]] and [[Petersburg]], and the [[Persian language|Politics]] and [[State States]] in [[Prince Minister of the Anabatra and the [[Discovere Connection]] and [[Parliament]] and [[History of the Commission]] and [[The Gates]] from the [[Greek language|German\n"
     ]
    },
    {
     "name": "stderr",
     "output_type": "stream",
     "text": [
      " 12%|████████▍                                                             | 120000/1000000 [1:03:20<4:51:19, 50.34it/s]"
     ]
    },
    {
     "name": "stdout",
     "output_type": "stream",
     "text": [
      "epoch120000: 1.903 bits per byte\n",
      "[o the gradual standardisation of] community to see the story of [[France]]. More attempts to be carried and became a profession of [[military factor]] and the [[currency of the first dissolves]] *[[Edward Georgia]] *[[Elijah Barcelona]] *[[External link]] *[[Sony of Christian Germany]]  === External links ===  The three way to an accepted six donors later actions of the analysis of [[England]] with [[computer experience]] and [[material]] the constitution of the [[United States of Constantine]] and [[Personal Memorial Anderson]], [[Herodotus]] (born 1974) ([[Song Stone]]) to [[1939]] the [[Doctor of England|Common Diox]] and "
     ]
    },
    {
     "name": "stderr",
     "output_type": "stream",
     "text": [
      "\r",
      " 12%|████████▏                                                           | 120001/1000000 [1:03:25<281:00:50,  1.15s/it]"
     ]
    },
    {
     "name": "stdout",
     "output_type": "stream",
     "text": [
      "\n"
     ]
    },
    {
     "name": "stderr",
     "output_type": "stream",
     "text": [
      " 12%|████████▌                                                             | 121499/1000000 [1:03:55<4:49:13, 50.62it/s]"
     ]
    },
    {
     "name": "stdout",
     "output_type": "stream",
     "text": [
      "epoch121500: 1.903 bits per byte\n",
      "[ption of IPv6 is unlikely to occ]ur with the movement of [[Bermuda]] and [[Charles Paris]], a political strict station can be found in a display of [[social plate]] in the state of the first from the perform, the first word for the professional traditions of the [[United States]] and [[Spain]] and [["
     ]
    },
    {
     "name": "stderr",
     "output_type": "stream",
     "text": [
      "\r",
      " 12%|████████▌                                                             | 121499/1000000 [1:04:10<4:49:13, 50.62it/s]"
     ]
    },
    {
     "name": "stdout",
     "output_type": "stream",
     "text": [
      "South Africa]]. A strong of the [[Greek language|Greek]] and [[George Harry]]. The [[South African Society]] and [[South Africa]] and [[Saint Scott Constitution]] for [[Soviet Union]] and [[Subber (Irish Republican Anti-Party) in the [[1970s]] and [[1985]] was a second [[alcohol]], [[political analogy]], [[political chromosome]] i"
     ]
    },
    {
     "name": "stderr",
     "output_type": "stream",
     "text": [
      "\r",
      " 12%|████████▎                                                           | 121501/1000000 [1:04:12<256:58:52,  1.05s/it]"
     ]
    },
    {
     "name": "stdout",
     "output_type": "stream",
     "text": [
      "\n"
     ]
    },
    {
     "name": "stderr",
     "output_type": "stream",
     "text": [
      " 12%|████████▌                                                             | 122998/1000000 [1:04:41<4:50:11, 50.37it/s]"
     ]
    },
    {
     "name": "stdout",
     "output_type": "stream",
     "text": [
      "epoch123000: 1.898 bits per byte\n",
      "[ marry the daughter and give him] to be a company to a secret wide with the context in rational building of a new long compart in the season of the [[United States]] with the [[List of some artist sailings that began a generic form of the Prime Minister of Canada|Castle of Bank]] and the [[Sandershire]].  The protein has the opposite of the Book of School and the protest for the [[British Armed Socialist Party]] shown as the [[President of the Council of Satellite]] * [[Single (assignment)|San Royal]], and [[Eastern Armenia]] and [[Harry God Dose]] in the [[New York City]].  The Democratic Fields of the Council of Portugal]].\n"
     ]
    },
    {
     "name": "stderr",
     "output_type": "stream",
     "text": [
      " 12%|████████▋                                                             | 124495/1000000 [1:05:40<4:50:17, 50.27it/s]"
     ]
    },
    {
     "name": "stdout",
     "output_type": "stream",
     "text": [
      "epoch124500: 1.9 bits per byte\n",
      "[ policy will set out in details ]and some of the sum of the [[Bill War]] and [[Battle of the Army|British Empire]] and [[Saleman]] and [[Scott]], the [[Samuel Specification]] was considered on the most invention of constant and exact theory that problems of the mid-1990s. He was the national transition of the [[Germany]].  === International lines on the state of the state of the Baroque stations in January 2005; marriage with [[Japan]] [[1992]]. The [[Bible]] soldiers are often called the [[natural state]] of [[distance]] and the [[organism]].  It is famous battles of all and the state of block and internal form and instead o"
     ]
    },
    {
     "name": "stderr",
     "output_type": "stream",
     "text": [
      "\r",
      " 12%|████████▍                                                           | 124501/1000000 [1:05:46<215:29:54,  1.13it/s]"
     ]
    },
    {
     "name": "stdout",
     "output_type": "stream",
     "text": [
      "\n"
     ]
    },
    {
     "name": "stderr",
     "output_type": "stream",
     "text": [
      " 13%|████████▊                                                             | 126000/1000000 [1:06:30<4:49:48, 50.26it/s]"
     ]
    },
    {
     "name": "stdout",
     "output_type": "stream",
     "text": [
      "epoch126000: 1.9 bits per byte\n",
      "[y)|The Tragedy of King Richard I]nformation]], [[Switzerland]], [[San Saint]], [[Bach (biopology)|borough]], [[humanist]], and [[solid]]s and [[guard software]] and [[military activities of the Continental Company English reports to the Catholic that the [[Origins of Marshall]] and the [[Chinese Christian Council of Pictures]] in [[1887]]. A typical representative programs and the traditional control of the same system, the case of war and located and intelligent state as a majority of the president that entered the home of the [[termination of the States]], and the [[Library of Denmark]] (d. [[1991]]) *[[1930]] - [[Earl of E"
     ]
    },
    {
     "name": "stderr",
     "output_type": "stream",
     "text": [
      "\r",
      " 13%|████████▌                                                           | 126001/1000000 [1:06:34<300:12:12,  1.24s/it]"
     ]
    },
    {
     "name": "stdout",
     "output_type": "stream",
     "text": [
      "\n"
     ]
    },
    {
     "name": "stderr",
     "output_type": "stream",
     "text": [
      " 13%|████████▉                                                             | 127497/1000000 [1:07:04<4:50:52, 49.99it/s]"
     ]
    },
    {
     "name": "stdout",
     "output_type": "stream",
     "text": [
      "epoch127500: 1.897 bits per byte\n",
      "[lsi.html IEEE Transactions on Ve]rde developed that the control of the remains of the product of the [[Arthur Analysis]] and the [[United States]] from the present computer called [[television and theorem]] in [[1864]] and [[1841]]. The [[Constantine Galileo Pictures]], the [[United States]], [[Constantine Constable player|Charles Bachelor]] (1996), the [[American Electronic Court of English, and the [[United States]] of the [[United States Security]] developed a strong distinction of the war. The foll"
     ]
    },
    {
     "name": "stderr",
     "output_type": "stream",
     "text": [
      "\r",
      " 13%|████████▉                                                             | 127497/1000000 [1:07:20<4:50:52, 49.99it/s]"
     ]
    },
    {
     "name": "stdout",
     "output_type": "stream",
     "text": [
      "owing consists of the place of the defeat control.  The first instruction of the [[Greek language|Greek]] and [[Pope Parkers]]"
     ]
    },
    {
     "name": "stderr",
     "output_type": "stream",
     "text": [
      "\r",
      " 13%|████████▋                                                           | 127501/1000000 [1:07:21<231:03:21,  1.05it/s]"
     ]
    },
    {
     "name": "stdout",
     "output_type": "stream",
     "text": [
      "\n"
     ]
    },
    {
     "name": "stderr",
     "output_type": "stream",
     "text": [
      " 13%|█████████                                                             | 128998/1000000 [1:07:50<4:51:45, 49.76it/s]"
     ]
    },
    {
     "name": "stdout",
     "output_type": "stream",
     "text": [
      "epoch129000: 1.898 bits per byte\n",
      "[socialist]] leanings. Based on t]he [[Louis Brother (prophet)|London]]) and [[David Kant]] and [[Atlantic Freeman]]. The ACD discovered and the [[Coronado Ferdinand Language|Continental Chinese]] ([[1979]]-[[1931]]) *[[1926]] - [[Political number]], [[North America]], [[Bill William (football)|Berberg Grand To Transport to the [[Holy Roman Empire]] (1962-1992) *[[President of the British Communications continued to be and formed a limitation of the [[Roman Empire]].  ===Company== {{main|List of the Browns}} {{seeason|British methodological net company, and in the main proponents of the [[The Baltic Republic of the Spanish and\n"
     ]
    },
    {
     "name": "stderr",
     "output_type": "stream",
     "text": [
      " 13%|█████████▏                                                            | 130495/1000000 [1:08:50<4:47:16, 50.44it/s]"
     ]
    },
    {
     "name": "stdout",
     "output_type": "stream",
     "text": [
      "epoch130500: 1.885 bits per byte\n",
      "[nial master changed with another] definition of the publication of playing the [[George Freene]] ([[1996]]-[[1992]]) *[[1940]] - [[Movement (film)|Malayan]] in the [[South Africa]] or [[Joseph Commission (1946 - 1998)|                                                   = [[Paul (law)|Prime Minister]] ([[1990]]-[[1994]]) *[[1917]] - [[Translation (mythology)|The Eastern Arizona]]'' (1969) in the [[1990s in music|1961]] in the [[1940s in Germany]].  In the [[1990s]] successfully represented by the [[Silence of the United Kingdom]] ([[1948]]-[[1998]]) *[[1908]] - [[Paul Environmental Territory]] of [[Parliament (philosophy)|Presi"
     ]
    },
    {
     "name": "stderr",
     "output_type": "stream",
     "text": [
      "\r",
      " 13%|████████▊                                                           | 130501/1000000 [1:08:55<210:00:08,  1.15it/s]"
     ]
    },
    {
     "name": "stdout",
     "output_type": "stream",
     "text": [
      "\n"
     ]
    },
    {
     "name": "stderr",
     "output_type": "stream",
     "text": [
      " 13%|█████████▏                                                            | 131996/1000000 [1:09:24<4:48:33, 50.13it/s]"
     ]
    },
    {
     "name": "stdout",
     "output_type": "stream",
     "text": [
      "epoch132000: 1.895 bits per byte\n",
      "[ of the source alphabet, which c]ontinuity and most little as a development of the word [[constitutional football]]s.  ====Scale and transportation==== * [[Brazil State (American General)|Constitution]] [[Parliament Belief]] and [[Confederation]]. "
     ]
    },
    {
     "name": "stderr",
     "output_type": "stream",
     "text": [
      "\r",
      " 13%|█████████▏                                                            | 131996/1000000 [1:09:40<4:48:33, 50.13it/s]"
     ]
    },
    {
     "name": "stdout",
     "output_type": "stream",
     "text": [
      " This is a common music system of life.  The same string was also formed a control of [[biology]].  ==A series of state of baseball in the [[Serge Allies]]. The basis describes have been the main at the [[University of April 1964]] and [[1990s]]. The development, if the [[House of the United States|Harry University]] ([[1979]]) *''[[Antil Shark]]'' (1995) *''[[Disney Computer Park]]\n"
     ]
    },
    {
     "name": "stderr",
     "output_type": "stream",
     "text": [
      " 13%|█████████▎                                                            | 133500/1000000 [1:10:12<4:46:36, 50.39it/s]"
     ]
    },
    {
     "name": "stdout",
     "output_type": "stream",
     "text": [
      "epoch133500: 1.888 bits per byte\n",
      "[o 2000'' (2004)\n",
      "* Diner, Hasia. ]''Bill Mark II of Australia'' ******************************************************************************************************************************************************************************************************************************************************************************************************************************************************************************************************************************************************************************************************************************************************************************************\n"
     ]
    },
    {
     "name": "stderr",
     "output_type": "stream",
     "text": [
      " 13%|█████████▍                                                            | 134998/1000000 [1:11:10<4:46:01, 50.41it/s]"
     ]
    },
    {
     "name": "stdout",
     "output_type": "stream",
     "text": [
      "epoch135000: 1.889 bits per byte\n",
      "[ flow control features, nor in d]rawing the [[Steve Ariane]] and [[Land Herodotus Party]] to the [[American International Party of the Law Search and the [[Social Constitution of the Spanish control and framework of the [[March of School of Treesta Strata designed to the [[Pacific Parliament]] and [[Asia]]. The latter is a positive strength of the [[Soviet Congress]] in the [[March 1940s]] and [[Congress of the United States|Constitution]] and [[March 2001]], [[Joseph Strip 10]], [[1988]], [[Jacques Hall]] (1981-1997) *[[Malaysia Communist]] ([[March 15]] [[2005]]) *[[1986]] - [[George War]], [[Roman Strauss]], [[Internationa"
     ]
    },
    {
     "name": "stderr",
     "output_type": "stream",
     "text": [
      "\r",
      " 14%|█████████▏                                                          | 135001/1000000 [1:11:16<250:38:59,  1.04s/it]"
     ]
    },
    {
     "name": "stdout",
     "output_type": "stream",
     "text": [
      "\n"
     ]
    },
    {
     "name": "stderr",
     "output_type": "stream",
     "text": [
      " 14%|█████████▌                                                            | 136499/1000000 [1:11:46<4:45:45, 50.36it/s]"
     ]
    },
    {
     "name": "stdout",
     "output_type": "stream",
     "text": [
      "epoch136500: 1.888 bits per byte\n",
      "[of the self relied on no externa]l power of the case of a single book and several ability to the access of the amount o"
     ]
    },
    {
     "name": "stderr",
     "output_type": "stream",
     "text": [
      "\r",
      " 14%|█████████▌                                                            | 136499/1000000 [1:12:00<4:45:45, 50.36it/s]"
     ]
    },
    {
     "name": "stdout",
     "output_type": "stream",
     "text": [
      "f the [[West Head Structure]] is a certain that in some software politicians and states are than to contribute to a subset of the government in the book of [[Arizona]] and [[New West Barton]] (in [[Long Resident]]) and [[Constitutionalism]] (region) * [[Computer scientist]] (1981&amp;ndash;1966), and first movies such as the [[United States]] and the [[Leonard Press of the World War II, the Great World War II of the Great Britain Society of Australia]] (1988) *[[Apollo 11]] - [[April 21]], [[1992]] - [[Andrew"
     ]
    },
    {
     "name": "stderr",
     "output_type": "stream",
     "text": [
      "\r",
      " 14%|█████████▎                                                          | 136501/1000000 [1:12:03<258:05:07,  1.08s/it]"
     ]
    },
    {
     "name": "stdout",
     "output_type": "stream",
     "text": [
      "\n"
     ]
    },
    {
     "name": "stderr",
     "output_type": "stream",
     "text": [
      " 14%|█████████▋                                                            | 137996/1000000 [1:12:32<4:45:35, 50.31it/s]"
     ]
    },
    {
     "name": "stdout",
     "output_type": "stream",
     "text": [
      "epoch138000: 1.891 bits per byte\n",
      "[tuguese from [[Malacca]] in [[16]11]] [[1998]], but the same second below for the company of [[conservative consonant|category in the 1960s]] were found to sacred the [[United States]] and [[The Power Content (memory)|The Property College]]  [[bg:Ð Ð½ÐµÐ´ ÐÐ´ÐµÑÐµÐ½ÑÐ¸ÑÑÑÐ°]] [[sk:Determination]] [[sk:De Saltaa]] [[sk:Demographie]] [[sk:Donald MathÃ¡nisme Menames]] [[Category:Shareholding program]]  [[de:Balaster researchers]] [[es:Book of Man]] [[fr:Babylon]] [[gl:Brussel]] [[ja:ãã¼ã¥ã¼ã»ã¼ã³ã¼ã³ã¼ã³ã¼ã³ãã³ã¼ã³ã¼ãã¼ã³ã»ãã³ã©ã³ã¼ã»ãã³ã³ã»ãã³ã³ã»ã ã¼ã³ã©ã³ã¼ã¼ã¼ã»ã¥ã³ã\n"
     ]
    },
    {
     "name": "stderr",
     "output_type": "stream",
     "text": [
      " 14%|█████████▊                                                            | 139499/1000000 [1:13:30<4:44:18, 50.44it/s]"
     ]
    },
    {
     "name": "stdout",
     "output_type": "stream",
     "text": [
      "epoch139500: 1.891 bits per byte\n",
      "[!]].</comment>\n",
      "      <text xml:s]pace=\"preserve\">#REDIRECT [[Constitution]]</text>     </revision>   </page>   <page>     <title>Contributions/1991</title>     <id>112783</id>     <revision>       <id>15905339</id>       <timestamp>2006-02-25T15:37:41Z</timestamp>       <contributor>         <username>Magne</username>         <id>832639</id>       </contributor>       <minor />       <comment>/* Other activities */ module (1999) * 1988 ISBN 197990322 * Founder of the [[Transportation of India]] was considered by the [[Carl Revolution]] and [[Charles Republic of China]].  It is also the same meaning of the [[Roman Empire]] (19"
     ]
    },
    {
     "name": "stderr",
     "output_type": "stream",
     "text": [
      "\r",
      " 14%|█████████▍                                                          | 139501/1000000 [1:13:36<258:22:03,  1.08s/it]"
     ]
    },
    {
     "name": "stdout",
     "output_type": "stream",
     "text": [
      "\n"
     ]
    },
    {
     "name": "stderr",
     "output_type": "stream",
     "text": [
      " 14%|█████████▊                                                            | 140995/1000000 [1:14:06<4:45:39, 50.12it/s]"
     ]
    },
    {
     "name": "stdout",
     "output_type": "stream",
     "text": [
      "epoch141000: 1.883 bits per byte\n",
      "[in|Japanese dialects}}\n",
      "\n",
      "Dozens o]r the computer state between a diversit"
     ]
    },
    {
     "name": "stderr",
     "output_type": "stream",
     "text": [
      "\r",
      " 14%|█████████▊                                                            | 140995/1000000 [1:14:20<4:45:39, 50.12it/s]"
     ]
    },
    {
     "name": "stdout",
     "output_type": "stream",
     "text": [
      "y of [[South Africa]] in [[1999]] and [[2005]] and the [[New York City]] in the [[1900s]] [[Canada]] and it is not an extension of ''[[Military (film)|Mannescence]]'' (1998) * ''[[The League Gael]]'' (1996) (1999) - [[Andrew States of Democratic Reasons, 1979, ISBN 0279122990, and the state various destroyers in the United States of the [[United States]] in [[1926]] and [[2005]], and [[Canada]] is a [[computer scientist]] [[figure state]] [[social band]] became a small component of [[China]].    === Protection === [[Image:British_space Gainskeeps.pdf Baby"
     ]
    },
    {
     "name": "stderr",
     "output_type": "stream",
     "text": [
      "\r",
      " 14%|█████████▌                                                          | 141001/1000000 [1:14:23<204:47:09,  1.17it/s]"
     ]
    },
    {
     "name": "stdout",
     "output_type": "stream",
     "text": [
      "\n"
     ]
    },
    {
     "name": "stderr",
     "output_type": "stream",
     "text": [
      " 14%|█████████▉                                                            | 142498/1000000 [1:14:53<4:41:52, 50.70it/s]"
     ]
    },
    {
     "name": "stdout",
     "output_type": "stream",
     "text": [
      "epoch142500: 1.882 bits per byte\n",
      "[ntelligence Organization]] (CIO)] wins on the [[Greek language|Greek]] in [[1991]] in [[1992]] and [[1992]] and the [[United States of South American membership of the various policies, and an individual and was since the international channels and the end of the world's continued by the series of the problems and faith the most of the alleges of the scale of the body of the [[police (astronomy)|proved]] or the companies are more than a similar to the dispute of the [[Eastern European College of the Mathematics. The complexity of the population and extended to a revision of the structure of the national organizations of the f\n"
     ]
    },
    {
     "name": "stderr",
     "output_type": "stream",
     "text": [
      " 14%|██████████                                                            | 143995/1000000 [1:15:50<4:43:58, 50.24it/s]"
     ]
    },
    {
     "name": "stdout",
     "output_type": "stream",
     "text": [
      "epoch144000: 1.886 bits per byte\n",
      "[so originally based on Chinese c]ompanies are not the [[President of the United States Athens (UNIS), [[Angola]], [[Alexander III]], [[American language]] and [[Alliance of Family Maria|Arthur Mark]] signs that continued to fight for the export of the world, although the seat of the [[United States]] services to be a fourteen and considered the river of the [[English language|English]] and [[List of of Persian government and the [[Constitution]] of [[Persian]] and [[Michel Stars]], who had helped to responsible to a meaning of the city of [[John Martin]] served that the term &quot;the general confirmed known as &quot;[[Sara P"
     ]
    },
    {
     "name": "stderr",
     "output_type": "stream",
     "text": [
      "\r",
      " 14%|█████████▊                                                          | 144001/1000000 [1:15:57<217:48:39,  1.09it/s]"
     ]
    },
    {
     "name": "stdout",
     "output_type": "stream",
     "text": [
      "\n"
     ]
    },
    {
     "name": "stderr",
     "output_type": "stream",
     "text": [
      " 15%|██████████▏                                                           | 145495/1000000 [1:16:40<4:43:07, 50.30it/s]"
     ]
    },
    {
     "name": "stdout",
     "output_type": "stream",
     "text": [
      "epoch145500: 1.886 bits per byte\n",
      "[ete)|strongman]] [[Giovanni Batt]le]] and [[George Country|Greek]] steep and [[Belgian Republic of China]] (London: [[Destroyer (computing)|Dennis]] (see [[Roman Catholic Church]]) to prove the 19th century the fourth than one of the professional to the [[France]] and [[Paradi of Albania]]  ==External links== *[http://www.common.com/index.php?references=980300000000000011000.jpg|   modern rationality in the [[British Columns]] in the [[Archive]] in [[1929]] and [[1988]]. The majority of the [[United States War]]. The song with the only used the first record of the Championship and the state of the [[Colonial College]] for the"
     ]
    },
    {
     "name": "stderr",
     "output_type": "stream",
     "text": [
      "\r",
      " 15%|█████████▉                                                          | 145501/1000000 [1:16:45<213:24:45,  1.11it/s]"
     ]
    },
    {
     "name": "stdout",
     "output_type": "stream",
     "text": [
      "\n"
     ]
    },
    {
     "name": "stderr",
     "output_type": "stream",
     "text": [
      " 15%|██████████▎                                                           | 146997/1000000 [1:17:15<4:41:21, 50.53it/s]"
     ]
    },
    {
     "name": "stdout",
     "output_type": "stream",
     "text": [
      "epoch147000: 1.879 bits per byte\n",
      "[despread [[anti-Japanese sentime]nt]]. The court of [[Mark Project Faroes]] and the [[California State]], which includes the manufacturer of the Prince of the Faso are an interviewed by [[Harry Share]] returned to the [[National Conservative Greek]], and [[March 17]] [[1947]]. One of the main theory service"
     ]
    },
    {
     "name": "stderr",
     "output_type": "stream",
     "text": [
      "\r",
      " 15%|██████████▎                                                           | 146997/1000000 [1:17:30<4:41:21, 50.53it/s]"
     ]
    },
    {
     "name": "stdout",
     "output_type": "stream",
     "text": [
      "s to produce a [[photographic relationship]] was a single falsifiable for the process of the bond by the [[Great Britain]] replica [[specialized]] ([[social canonical submarine]]) and [[second baseball|substantial]] in the [[September 14]] [[1993]] was the signal of [[California]] in the [[California]] and [[Christianity|Ch"
     ]
    },
    {
     "name": "stderr",
     "output_type": "stream",
     "text": [
      "\r",
      " 15%|█████████▉                                                          | 147001/1000000 [1:17:32<228:01:31,  1.04it/s]"
     ]
    },
    {
     "name": "stdout",
     "output_type": "stream",
     "text": [
      "\n"
     ]
    },
    {
     "name": "stderr",
     "output_type": "stream",
     "text": [
      " 15%|██████████▍                                                           | 148497/1000000 [1:18:01<4:42:04, 50.31it/s]"
     ]
    },
    {
     "name": "stdout",
     "output_type": "stream",
     "text": [
      "epoch148500: 1.878 bits per byte\n",
      "[mperial Woodpecker]] (''C. imper]manent'') was a [[Series of Handbook|Hellium]] ([[1990]]&amp;ndash;[[1995]]).  The state and the [[United States of Control Country in the 1960s with the region of the second structure of [[Modern Democratic Council]] continued to the president of the words in [[John Carbon]] and [[French language|born]] of the [[Markshall]].   The [[African Americans Canadian|Arabic languages]] and [[American Development]] or [[Alfonso Moore]] (''Institutation of the Mario or Hardcore, which was long by the [[God fish]] many of the constraints of the boundaries of the country of the part of the [[Colecomb of \n"
     ]
    },
    {
     "name": "stderr",
     "output_type": "stream",
     "text": [
      " 15%|██████████▍                                                           | 149996/1000000 [1:19:00<4:39:29, 50.69it/s]"
     ]
    },
    {
     "name": "stdout",
     "output_type": "stream",
     "text": [
      "epoch150000: 1.877 bits per byte\n",
      "[t the Sultan offered the alterna]tive channels of language and voters who were also involved in the primary things of the [[Alexandrian Islands]], who then attempted to be shown from the [[Grand Hellen]] and [[Chronicle Adam Anderson]], China ([[1983]]), [[New Brussels]] ([[United Kingdom]], [[Patroch]], [[Paul Harris]], [[Barnard Leibniz]] and [[Sister Society of Apple (b. [[1920]]) *[[1926]] - [[Christian University]], American actor *[[1930]] - [[High State of the Basque O'Capital Republic of Alexandria Islands were also the increase of the [[Current State of Parliament (album)|American Asia]]'' ([[1932]]) * ''[[Rich Langu"
     ]
    },
    {
     "name": "stderr",
     "output_type": "stream",
     "text": [
      "\r",
      " 15%|██████████▏                                                         | 150001/1000000 [1:19:05<211:34:58,  1.12it/s]"
     ]
    },
    {
     "name": "stdout",
     "output_type": "stream",
     "text": [
      "\n"
     ]
    },
    {
     "name": "stderr",
     "output_type": "stream",
     "text": [
      " 15%|██████████▌                                                           | 151500/1000000 [1:19:50<4:39:55, 50.52it/s]"
     ]
    },
    {
     "name": "stdout",
     "output_type": "stream",
     "text": [
      "epoch151500: 1.878 bits per byte\n",
      "[cle is absent, the infinitive is] the construction of the [[Netherlands]] and [[Michael Harrison]].  The [[British Broadway]] in [[1745]].  A [[possible film]] that the [[Roman Catholic Church]] in [[1926]] and [[1994]]. The advertise is no social different engineering in the [[1990s]] in [[1981]].  The true may be seen in fact that the contemporary between the three in the [[United States]]. He was also indicated as a subset of the same section that every chosen to the fact that the members of the [[Ducalist]] and his proportion of the form of the [[Secretary of the United States]] (C) which is a state of non-months of [[rad"
     ]
    },
    {
     "name": "stderr",
     "output_type": "stream",
     "text": [
      "\r",
      " 15%|██████████▎                                                         | 151501/1000000 [1:19:53<286:24:02,  1.22s/it]"
     ]
    },
    {
     "name": "stdout",
     "output_type": "stream",
     "text": [
      "\n"
     ]
    },
    {
     "name": "stderr",
     "output_type": "stream",
     "text": [
      " 15%|██████████▋                                                           | 153000/1000000 [1:20:23<4:39:18, 50.54it/s]"
     ]
    },
    {
     "name": "stdout",
     "output_type": "stream",
     "text": [
      "epoch153000: 1.879 bits per byte\n",
      "[s/trial/trial-index.htm Milosevi]ch Model for [[Raymond Gay Tim]], [[League Columbia]], [[Canadian Communion]], [[Canada]], [[Community]], [[San Hert]], [[Kansas]], and [[Matter (movie)|Moling]], [[Mandarin]], [[National Community|New York]] and [[Canadian Final Constantine]] to all of the [[Cold War]] and [[Catholicism]] and [[Charles Martin]] in [[1998]]. In [[1976]], his family as of the [[Roman Catholic Church]] ([[1953]]) *[[1954]] - [[Green Books (web)|George Bond]]'' * [[Stetening (mathematics)|Superside]], [[Carlton Meable]], and [[Coalition of France]] in [[Parliament]] in the [[United "
     ]
    },
    {
     "name": "stderr",
     "output_type": "stream",
     "text": [
      "\r",
      " 15%|██████████▋                                                           | 153000/1000000 [1:20:40<4:39:18, 50.54it/s]"
     ]
    },
    {
     "name": "stdout",
     "output_type": "stream",
     "text": [
      "States]], which was replaced by"
     ]
    },
    {
     "name": "stderr",
     "output_type": "stream",
     "text": [
      "\r",
      " 15%|██████████▍                                                         | 153001/1000000 [1:20:40<274:37:21,  1.17s/it]"
     ]
    },
    {
     "name": "stdout",
     "output_type": "stream",
     "text": [
      "\n"
     ]
    },
    {
     "name": "stderr",
     "output_type": "stream",
     "text": [
      " 15%|██████████▊                                                           | 154496/1000000 [1:21:20<4:40:37, 50.21it/s]"
     ]
    },
    {
     "name": "stdout",
     "output_type": "stream",
     "text": [
      "epoch154500: 1.873 bits per byte\n",
      "[ed on the Moon. [[unmanned space]]] in the [[1920s]] of the [[Content of Australia|Commonwealth]] which have in the country of the [[North America]] [[List of physics]], and [[Latin]], and [[Latin]], [[Living Australia|Labor River]] - [[Charles David Franklin]], American actor (b. [[1903]]) * [[Kamphy Bowling]] ([[United States of Prince of Tales]] is the [[Constantinople]], the [[George Connecticut Subsistence]] #[[Far Banner of Canada]] #[[Catalonia Centre]] #[[Content Communications of British Constantinople and discovered by the [[Conservative Assembly Company|Conservative]] and [[political export]] of the [[Computing Ren"
     ]
    },
    {
     "name": "stderr",
     "output_type": "stream",
     "text": [
      "\r",
      " 15%|██████████▌                                                         | 154501/1000000 [1:21:27<216:42:35,  1.08it/s]"
     ]
    },
    {
     "name": "stdout",
     "output_type": "stream",
     "text": [
      "\n"
     ]
    },
    {
     "name": "stderr",
     "output_type": "stream",
     "text": [
      " 16%|██████████▉                                                           | 156000/1000000 [1:22:10<4:40:17, 50.19it/s]"
     ]
    },
    {
     "name": "stdout",
     "output_type": "stream",
     "text": [
      "epoch156000: 1.872 bits per byte\n",
      "[us]], [[rheumatoid arthritis]], ][[allowed]], [[animal]], [[analogy]], [[architectura]], [[album]] of [[biology]], [[art]], [[abolition]], [[all]], [[animated]] and [[La Sun]] and [[List of Princess of Christian Army (such as [[Marie Marie Way]]).  The [[Marie House]] can be considered by [[Burkina Moneta]] in the [[United States]] with [[Celtic College]] and the [[United States Series]].  The first state of the world because of experience with no political and number of the state of [[Eli Devon]].  The [[Peter March 2005]], the [[Hawaii of England]] and [[Persian League]]. The Constantinople remained the world with the progr"
     ]
    },
    {
     "name": "stderr",
     "output_type": "stream",
     "text": [
      "\r",
      " 16%|██████████▌                                                         | 156001/1000000 [1:22:15<293:27:06,  1.25s/it]"
     ]
    },
    {
     "name": "stdout",
     "output_type": "stream",
     "text": [
      "\n"
     ]
    },
    {
     "name": "stderr",
     "output_type": "stream",
     "text": [
      " 16%|███████████                                                           | 157497/1000000 [1:23:00<4:54:30, 47.68it/s]"
     ]
    },
    {
     "name": "stdout",
     "output_type": "stream",
     "text": [
      "epoch157500: 1.874 bits per byte\n",
      "[to the largely compatible x86 fa]mily of the design of the [[Roman Catholic Church]], which is incorporated in the [[Caribbean theory]] is the [[Sun Strait]] and [[Antarctica]]. This is also considered to be made a circumcision of the [[Hellenism]], which still appear in a set of a similar point of the [[Battle of Nations]]. The [[Baptist March]] declared the [[American River|Andrei Gettysburg]] *[[Arabian Bouleau]] *[[Age of the Arabic language]] * [[Mark I of Berton]] * [[List of the United States]] * [[England I of England|English]] ([[Charles Manipus]]) *[[1992]] - [[Duke Cole Torah]], American political and individuals a"
     ]
    },
    {
     "name": "stderr",
     "output_type": "stream",
     "text": [
      "\r",
      " 16%|██████████▋                                                         | 157501/1000000 [1:23:05<276:47:49,  1.18s/it]"
     ]
    },
    {
     "name": "stdout",
     "output_type": "stream",
     "text": [
      "\n"
     ]
    },
    {
     "name": "stderr",
     "output_type": "stream",
     "text": [
      " 16%|███████████▏                                                          | 158996/1000000 [1:23:36<4:45:24, 49.11it/s]"
     ]
    },
    {
     "name": "stdout",
     "output_type": "stream",
     "text": [
      "epoch159000: 1.874 bits per byte\n",
      "[es (0.6 km&amp;sup2;) in urban P]rince Art"
     ]
    },
    {
     "name": "stderr",
     "output_type": "stream",
     "text": [
      "\r",
      " 16%|███████████▏                                                          | 158996/1000000 [1:23:50<4:45:24, 49.11it/s]"
     ]
    },
    {
     "name": "stdout",
     "output_type": "stream",
     "text": [
      "s of the Commonwealth of the Scots and American Revolution Democrats they may be used to distinguish the same time.  The term is a large and so as the more advance of the sentence of the mechanisms that the Christian professional resources by the [[Soviet Union]] writes the [[March 19th century]] in [[1935]], but a prominent with the United Kingdom of the West Africans|Search]], who had a [[genetic discussion]] of [[pierre]]. In terms from the [[Greek]] was found in 1992 and [[1983]] with [[Democratic River]] and [[Smith Mary General League]] in the state of the [[South Africa]] [[Can"
     ]
    },
    {
     "name": "stderr",
     "output_type": "stream",
     "text": [
      "\r",
      " 16%|██████████▊                                                         | 159001/1000000 [1:23:53<248:28:41,  1.06s/it]"
     ]
    },
    {
     "name": "stdout",
     "output_type": "stream",
     "text": [
      "\n"
     ]
    },
    {
     "name": "stderr",
     "output_type": "stream",
     "text": [
      " 16%|███████████▏                                                          | 160497/1000000 [1:24:24<4:53:43, 47.63it/s]"
     ]
    },
    {
     "name": "stdout",
     "output_type": "stream",
     "text": [
      "epoch160500: 1.868 bits per byte\n",
      "[n be expressed in the glaciation] of the [[Frankfurt]] of the [[French language|French]], and [[California]], and the most resources of the manuscripts and strong released like [[Standard Series|Saxon]] institutes and intentional philosophical topics|personal economy]] sent to the element of a [[compu"
     ]
    },
    {
     "name": "stderr",
     "output_type": "stream",
     "text": [
      "\r",
      " 16%|███████████▏                                                          | 160497/1000000 [1:24:40<4:53:43, 47.63it/s]"
     ]
    },
    {
     "name": "stdout",
     "output_type": "stream",
     "text": [
      "ter science]] of the [[Commonwealth of Belgium]] (d. [[1988]]) *[[1966]] - [[Derry Mariner]], American community and promotion of the [[Kingdom]] were not only a power of the province in the first street of the first time in the [[1990s]]. The [[Mississippi]] and [[Military of the Nether Harrison, the [[AFC]] in [[Alexander]]. Th"
     ]
    },
    {
     "name": "stderr",
     "output_type": "stream",
     "text": [
      "\r",
      " 16%|██████████▉                                                         | 160501/1000000 [1:24:42<271:59:30,  1.17s/it]"
     ]
    },
    {
     "name": "stdout",
     "output_type": "stream",
     "text": [
      "\n"
     ]
    },
    {
     "name": "stderr",
     "output_type": "stream",
     "text": [
      " 16%|███████████▎                                                          | 161996/1000000 [1:25:12<4:43:09, 49.33it/s]"
     ]
    },
    {
     "name": "stdout",
     "output_type": "stream",
     "text": [
      "epoch162000: 1.879 bits per byte\n",
      "[nor />\n",
      "      <comment>/* Marine ]Prime Minister */ [[Her Radical Shell]], and other [[Charles Republic of Cuba]] and [[Simple Carpent]] and [[Soviet Union]] and [[Serbia]].  ====Computer==== The president for the contract with a product to research and hold back to [[William II]] and [[Stail Rail II of the March of March 2005 Major College of Constantinople (Felight 12:15-6 years and lead to the government and the constitution of the first sement of the [[Council of Canada]], and a substance of [[Concorde (music)|Canada]].  In the [[18th century]] and a [[United States Air Force|Arabic]] and [[French language|French]] and [[T"
     ]
    },
    {
     "name": "stderr",
     "output_type": "stream",
     "text": [
      "\r",
      " 16%|███████████                                                         | 162001/1000000 [1:25:30<248:29:52,  1.07s/it]"
     ]
    },
    {
     "name": "stdout",
     "output_type": "stream",
     "text": [
      "\n"
     ]
    },
    {
     "name": "stderr",
     "output_type": "stream",
     "text": [
      " 16%|███████████▍                                                          | 163500/1000000 [1:26:00<4:42:27, 49.36it/s]"
     ]
    },
    {
     "name": "stdout",
     "output_type": "stream",
     "text": [
      "epoch163500: 1.87 bits per byte\n",
      "[t;FONT SIZE=&quot;1&quot;&gt;20,]000&lt;/td&gt;&lt;/tr&gt; &lt;tr&gt; &lt;td&gt;[[Action (film)|Anders]]&lt;/td&gt; &lt;td&gt;[[margin (film)|magazine]] democracy and [[time resolution]] and [[photon (respectively)|pre-left]] processing the [[English language|English]] [[Population]] and [[Secretary of State National Movements of the Albert Defense of State is not a [[serving sea]] and [[engineer]] and [[sonata (legal culture)|saling]] and [[angeles of state]]s, and the [[List of cities (proportion)|organised by the [[United States sounds]] and [[Vietnamese]] (the original Society of Martian many contributions to serve on for\n"
     ]
    },
    {
     "name": "stderr",
     "output_type": "stream",
     "text": [
      " 16%|███████████▌                                                          | 165000/1000000 [1:27:00<4:42:05, 49.33it/s]"
     ]
    },
    {
     "name": "stdout",
     "output_type": "stream",
     "text": [
      "epoch165000: 1.874 bits per byte\n",
      "[[Cold War]]-era novels in at lea]st and generally be a traditional division in the modern party of [[North Atlantic Aircraft]].  He was the most administration to the [[category of the long particular states that the condition continues to the deceased several [[state control]]s, the [[Tories of Great Language|Transport]] and [[Peter Castle]]. It is considered a [[constitutional state]] and [[consequence]] and the [[United States of Berlin]], [[Prototype of Delaware]], [[Persian language|Persian]], [[Roman Catholic]], [[Canadian language|Control]], [[Charles Mariana]], [[Constantinople]], [[Mononic]], [[Wood]], [[September 2]"
     ]
    },
    {
     "name": "stderr",
     "output_type": "stream",
     "text": [
      "\r",
      " 17%|███████████▏                                                        | 165001/1000000 [1:27:07<338:28:28,  1.46s/it]"
     ]
    },
    {
     "name": "stdout",
     "output_type": "stream",
     "text": [
      "\n"
     ]
    },
    {
     "name": "stderr",
     "output_type": "stream",
     "text": [
      " 17%|███████████▋                                                          | 166500/1000000 [1:27:50<4:42:55, 49.10it/s]"
     ]
    },
    {
     "name": "stdout",
     "output_type": "stream",
     "text": [
      "epoch166500: 1.865 bits per byte\n",
      "[t;TD&gt;&lt;FONT SIZE=&quot;1&qu]ot; cellspacing=&quot;0&quot; cellpadding=&quot;2&quot; cellpadding=&quot;2&quot; cellpadding=&quot;1&quot; cellpadding=&quot;2&quot; cellpadding=&quot;2&quot; cellpadding=&quot;5&quot; cellpadding=&quot;2&quot; cellpadding=&quot;2&quot; cellpadding=&quot;3&quot; cellpadding=&quot;2&quot; cellpadding=&quot;1&quot; cellpadding=&quot;1&quot; cellpadding=&quot;1&quot; cellpadding=&quot;1&quot; valign=&quot;top&quot; | 1980 | align=&quot;center&quot; | 1999 || align=&quot;right&quot; | 156,520 | align=&quot;right&quot; | 1996 || 1954 || 83 || 1 || 12 || 0 || 0 || 6th 10 || 10 || 100 || 0 || 3 || 3"
     ]
    },
    {
     "name": "stderr",
     "output_type": "stream",
     "text": [
      "\r",
      " 17%|███████████▎                                                        | 166501/1000000 [1:27:56<345:14:17,  1.49s/it]"
     ]
    },
    {
     "name": "stdout",
     "output_type": "stream",
     "text": [
      "\n"
     ]
    },
    {
     "name": "stderr",
     "output_type": "stream",
     "text": [
      " 17%|███████████▊                                                          | 167998/1000000 [1:28:40<6:10:42, 37.41it/s]"
     ]
    },
    {
     "name": "stdout",
     "output_type": "stream",
     "text": [
      "epoch168000: 1.864 bits per byte\n",
      "[ mood, the article, etc. The nam]e of [[Armenian language|Antioch]], [[Assistance]] and [[Alliance]] in [[1989]]. Many of the people of the [[North American Republic of India|India]], [[Saramar George]], [[Carl Denmark|Cameroon]], [[History of the United States]] *[[Steinheit of Israel]] *[[Scripture]] *[[Say]] *[[Semitic]] *[[Stanley University]] *[[Substantial Sea]] *[[Srink Rail]] *[[Stephen Canada]] *[[Second Joseph Albert]] *[[Tausani Aramaic]] *[[Charles Constitution]] *[[Christian Football levels]] *[[Conservative market]] *[[Category of the Church of China|Christian]] and [[Antarctic countries]], is [[Christian]], the"
     ]
    },
    {
     "name": "stderr",
     "output_type": "stream",
     "text": [
      "\r",
      " 17%|███████████▍                                                        | 168001/1000000 [1:28:44<292:47:10,  1.27s/it]"
     ]
    },
    {
     "name": "stdout",
     "output_type": "stream",
     "text": [
      "\n"
     ]
    },
    {
     "name": "stderr",
     "output_type": "stream",
     "text": [
      " 17%|███████████▊                                                          | 169498/1000000 [1:29:15<4:36:04, 50.14it/s]"
     ]
    },
    {
     "name": "stdout",
     "output_type": "stream",
     "text": [
      "epoch169500: 1.865 bits per byte\n",
      "[e the main mass of the magma con]tained the government of the community of the [[New York City|North America]] and [[Christian Army]], and [[John Leiber's Cooper Championship and Maron Book] * [http://www.guardian.co.uk/ The Stration of Albania Shah Honduras, and"
     ]
    },
    {
     "name": "stderr",
     "output_type": "stream",
     "text": [
      "\r",
      " 17%|███████████▊                                                          | 169498/1000000 [1:29:30<4:36:04, 50.14it/s]"
     ]
    },
    {
     "name": "stdout",
     "output_type": "stream",
     "text": [
      " November 1960, the state of the distinct community and influenced a new theory (compare remaining the name that the first concept of the [[Leiber United States]] and [[Tourism]].  The bottom was also the signal of [[George Hall]] and [[Charles Various Marinee"
     ]
    }
   ],
   "source": [
    "# Takes 12h+ on nvidia rtx 3060\n",
    "arg_ = TrainingArgs()\n",
    "model_ = train(arg_)"
   ]
  },
  {
   "cell_type": "code",
   "execution_count": 48,
   "id": "ca60e632",
   "metadata": {},
   "outputs": [],
   "source": [
    "torch.save(model_, './data/model.pt')"
   ]
  },
  {
   "cell_type": "code",
   "execution_count": null,
   "id": "7f0f29c7",
   "metadata": {},
   "outputs": [],
   "source": []
  },
  {
   "cell_type": "code",
   "execution_count": 10,
   "id": "ae9aa082",
   "metadata": {},
   "outputs": [],
   "source": []
  },
  {
   "cell_type": "code",
   "execution_count": 10,
   "id": "9557b37c",
   "metadata": {},
   "outputs": [],
   "source": [
    "model_ = torch.load(\"./data/model.pt\")"
   ]
  },
  {
   "cell_type": "code",
   "execution_count": 8,
   "id": "a5832911",
   "metadata": {},
   "outputs": [],
   "source": [
    "def sample_sequence(model, seed, max_context, length=600, temperature=0.5, verbose=False):\n",
    "    \"\"\"\n",
    "    Sequentially samples a sequence from the model, token by token.\n",
    "    :param model:\n",
    "    :param seed: The sequence to start with.\n",
    "    :param length: The total number of characters to sample.\n",
    "    :param temperature: The sampling temperature.\n",
    "    :param verbose: If true, the sampled sequence is also printed as it is sampled.\n",
    "    :return: The sampled sequence, including the seed.\n",
    "    \"\"\"\n",
    "\n",
    "    sequence = seed.detach().clone()\n",
    "\n",
    "    if verbose: # Print the seed, surrounded by square brackets\n",
    "        print('[', end='', flush=True)\n",
    "        for c in seed:\n",
    "            print(str(chr(c)), end='', flush=True)\n",
    "        print(']', end='', flush=True)\n",
    "\n",
    "    for _ in range(length):\n",
    "\n",
    "        # Input is the tail end of the sampled sequence (as many tokens as the model can handle)\n",
    "        input = sequence[-max_context:]\n",
    "\n",
    "        # Run the current input through the model\n",
    "        output = model(input[None, :])\n",
    "\n",
    "        # Sample the next token from the probabilitys at the last position of the output.\n",
    "        c = sample(output[0, -1, :], temperature)\n",
    "\n",
    "        if verbose:\n",
    "            print(str(chr(max(32, c))), end='', flush=True)\n",
    "\n",
    "        sequence = torch.cat([sequence, c[None]], dim=0) # Append the sampled token to the sequence\n",
    "\n",
    "    print()\n",
    "    return seed"
   ]
  },
  {
   "cell_type": "code",
   "execution_count": 11,
   "id": "d5a10e7d",
   "metadata": {},
   "outputs": [
    {
     "name": "stdout",
     "output_type": "stream",
     "text": [
      "[Indian]"
     ]
    },
    {
     "name": "stderr",
     "output_type": "stream",
     "text": [
      "/tmp/ipykernel_281/3937272662.py:2: DeprecationWarning: The binary mode of fromstring is deprecated, as it behaves surprisingly on unicode inputs. Use frombuffer instead\n",
      "  X = np.fromstring(\"Indian\", dtype=np.uint8)\n"
     ]
    },
    {
     "name": "stdout",
     "output_type": "stream",
     "text": [
      " community of the [[Tony Life]], the [[Roman Catholic Church]] and the [[President of the United States|President of the United States]] [[Category:History of the American Revolution was considered to be seen the production of the same system in his status until the northeast of the state is normally distinctive for a [[musical sea]] and [[petroleum]], which are a property of the [[science fiction]] that would be possible to end in the same time.  The only large structure of the formation of the [[British Air Force]], [[British Free State]], [[British Empire]], [[Brazil]], [[Brazil]], [[Brazil\n"
     ]
    }
   ],
   "source": [
    "arg_ = TrainingArgs()\n",
    "X = np.fromstring(\"Indian\", dtype=np.uint8)\n",
    "seed = torch.from_numpy(X).to(torch.long)\n",
    "seed = seed.cuda()\n",
    "_ = sample_sequence(model_, seed=seed, max_context=arg_.context, verbose=True, length=600)"
   ]
  },
  {
   "cell_type": "code",
   "execution_count": null,
   "id": "52f5116c",
   "metadata": {},
   "outputs": [],
   "source": []
  },
  {
   "cell_type": "code",
   "execution_count": null,
   "id": "3bbc6fbb",
   "metadata": {},
   "outputs": [],
   "source": []
  },
  {
   "cell_type": "code",
   "execution_count": null,
   "id": "9a27ee76",
   "metadata": {},
   "outputs": [],
   "source": []
  },
  {
   "cell_type": "code",
   "execution_count": null,
   "id": "2aaeb5f1",
   "metadata": {},
   "outputs": [],
   "source": []
  }
 ],
 "metadata": {
  "kernelspec": {
   "display_name": "Python (transformers)",
   "language": "python",
   "name": "myenv"
  },
  "language_info": {
   "codemirror_mode": {
    "name": "ipython",
    "version": 3
   },
   "file_extension": ".py",
   "mimetype": "text/x-python",
   "name": "python",
   "nbconvert_exporter": "python",
   "pygments_lexer": "ipython3",
   "version": "3.10.10"
  }
 },
 "nbformat": 4,
 "nbformat_minor": 5
}
